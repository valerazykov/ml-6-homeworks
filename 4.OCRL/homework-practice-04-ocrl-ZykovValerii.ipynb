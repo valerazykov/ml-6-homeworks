{
 "cells": [
  {
   "cell_type": "markdown",
   "metadata": {
    "id": "7k51yp_QAKF_"
   },
   "source": [
    "# Машинное обучение, ВМК МГУ\n",
    "\n",
    "# Практическое задание 4. Optimal Control Reinforcement Learning\n",
    "\n",
    "## Общая информация\n",
    "Дата выдачи: 30.04.2024\n",
    "\n",
    "Мягкий дедлайн: 15.05.2024 5:30 MSK\n",
    "\n",
    "Жёсткий дедлайн: 22.05.2024 5:30 MSK\n",
    "\n",
    "## Оценивание и штрафы\n",
    "Каждая из задач имеет определенную «стоимость» (указана в скобках около задачи). **Максимальная оценка за работу  — 10 баллов.**\n",
    "\n",
    "Сдавать задание после указанного жёсткого срока сдачи нельзя. При выставлении неполного балла за задание в связи с наличием ошибок на усмотрение проверяющего предусмотрена возможность исправить работу на указанных в ответном письме условиях.\n",
    "\n",
    "Задание выполняется самостоятельно. «Похожие» решения считаются плагиатом и все задействованные студенты (в том числе те, у кого списали) не могут получить за него больше 0 баллов (подробнее о плагиате см. на странице курса). Если вы нашли решение какого-то из заданий (или его часть) в открытом источнике, необходимо указать ссылку на этот источник в отдельном блоке в конце вашей работы (скорее всего вы будете не единственным, кто это нашел, поэтому чтобы исключить подозрение в плагиате, необходима ссылка на источник).\n",
    "\n",
    "Неэффективная реализация кода может негативно отразиться на оценке.\n",
    "\n",
    "## Формат сдачи !!ВАЖНО!!!\n",
    "Задания сдаются через систему anytask. Посылка должна содержать:\n",
    "* Ноутбук homework-practice-04-ocrl-Username.ipynb\n",
    "\n",
    "\n",
    "Username — ваша фамилия и имя на латинице именно в таком порядке"
   ]
  },
  {
   "cell_type": "markdown",
   "metadata": {
    "id": "IQmLQhpJASBy"
   },
   "source": [
    "<p style=\"color:#de3815;font-size:25px;\">\n",
    "Напоминание об оформлении и выполнении ноутбука\n",
    "</p>"
   ]
  },
  {
   "cell_type": "markdown",
   "metadata": {
    "id": "hI5v95BDAY0J"
   },
   "source": [
    "* Все строчки должны быть выполнены. Нужно, чтобы output команды можно было увидеть, не запуская ячейки (кроме редких случаев, когда необходимо намеренно скрыть ненужный output, про такие случаи желательно писать пояснения в тексте). **В противном случае -1 балл**\n",
    "* При оформлении ДЗ нужно пользоваться данным файлом в качестве шаблона. Не нужно удалять и видоизменять написанный код и текст, если явно не указана такая возможность. **В противном случае -1 балл**\n",
    "* В anytask обязательно нужно прикреплять отдельно файл с расширением ipynb (не в архиве, а именно отдельно). Если необходимо отправить еще какие-то файлы, то вынесите их в отдельный архив (если файлов много) и пришлите. **В противном случае -0.5 балла**\n",
    "---\n",
    "* Пишите, пожалуйста, выводы и ответы на вопросы в текстовых ячейках/при помощи print в коде. При их отсутствии мы не можем понять, сделали ли вы задание и понимаете, что происходит, и **поэтому будем снижать баллы**\n",
    "* Если алгоритм не сказано реализовывать явно, его всегда можно импортировать из библиотеки.\n",
    "---\n",
    "* Про графики. _Штрафы будут применяться к каждому результату команды отображения графика (plt.show() и др. аналогичные). Исключением являются графики, генерируемые функциями каких-либо сторонних библиотек, если их нельзя кастомизировать_\n",
    "\n",
    "    * должно быть название (plt.title) графика; **В противном случае &ndash; -0.05 балла**\n",
    "    * на графиках должны быть подписаны оси (plt.xlabel, plt.ylabel); **В противном случае &ndash; -0.025 балла за каждую ось**\n",
    "    * должны быть подписаны единицы измерения (если это возможно); **В противном случае &ndash; -0.025 балла за каждую ось**\n",
    "    * все названия должны быть понятны любому человеку, знакомому с терминологией, без заглядывания в код; **В противном случае &ndash; -0.05 балла**\n",
    "    * подписи тиков на осях не должны сливаться как на одной оси, так и между ними; **В противном случае &ndash; -0.025 балла за каждую ось**\n",
    "    * если изображено несколько сущностей на одном холсте (например несколько функций), то необходима поясняющая легенда (plt.legend); **В противном случае &ndash; -0.05 балла**\n",
    "    * все линии на графиках должны быть чётко видны (нет похожих цветов или цветов, сливающихся с фоном); **В противном случае &ndash; -0.05 балла**\n",
    "    * если отображена величина, имеющая очевидный диапазон значений (например, проценты могут быть от 0 до 100), то желательно масштабировать ось на весь диапазон значений (исключением является случай, когда вам необходимо показать малое отличие, которое незаметно в таких масштабах);\n",
    "    * графики должны быть не супер-микро и не супер-макро по размерам, так, чтобы можно было увидеть все, что нужно.\n",
    "    * при необходимости улучшения наглядности графиков, можно пользоваться логарифмической шкалой по осям x/y.\n",
    "    \n",
    "    \n",
    "### А также..\n",
    "\n",
    "* Для удобства поиска вопросов, на которые от вас просят ответа, мы пометили их знаком **(?)**\n",
    "* Знак **(!)** означает, что выполнение замечания необходимо для **возможности получения полного балла**\n",
    "* Даем до +0.5 балла за выдающиеся успехи по субъективному мнению проверяющих. Этот **бонус** не апеллируется"
   ]
  },
  {
   "cell_type": "markdown",
   "metadata": {
    "id": "-TBF5EbZJhv5"
   },
   "source": [
    "## Задание 1 (4 балла): уравнения Рикатти для управления дроном."
   ]
  },
  {
   "cell_type": "markdown",
   "metadata": {
    "id": "emCPKgBeLRdo"
   },
   "source": [
    "Начнем с небольшой разминки: реализация классического алгоритма нахождения оптимального управления для двухмерного дрона. Его динамика уже реализована за вас в файле qudrotor.py. Кроме того, реализована также визуализация его управления.\n",
    "\n",
    "В качестве описания текущего состояния предлагается использовать вектор из 6-ти элементов [x, dx, y, dy, theta, dtheta]:\n",
    "\n",
    "*   x - координата центра дрона по x\n",
    "*   dx - скорость центра дрона по x\n",
    "*   y - координата центра дрона по y\n",
    "*   dy - скорость центра дрона по y\n",
    "*   theta - угол наклона относительно оси x\n",
    "*   dtheta - угловая скорость\n",
    "\n",
    "В качестве управления используем вектор из 2 элементов [u1, u2]:\n",
    "\n",
    "*   u1 - сила тяги левого винта\n",
    "*   u2 - сила тяги правого винта\n",
    "\n",
    "Сила измеряется в ньютонах, прикладывается перпендикулярно линии, проведенной между двумя винтами."
   ]
  },
  {
   "cell_type": "markdown",
   "metadata": {},
   "source": [
    "Видео и чекпоинты моделей загружены на диск: https://drive.google.com/drive/folders/1U0iL2YJFj-aCkSlhgohKk72QtNWrNMpF?usp=sharing"
   ]
  },
  {
   "cell_type": "code",
   "execution_count": 1,
   "metadata": {
    "execution": {
     "iopub.execute_input": "2024-05-25T14:20:17.382904Z",
     "iopub.status.busy": "2024-05-25T14:20:17.382904Z",
     "iopub.status.idle": "2024-05-25T14:20:17.473458Z",
     "shell.execute_reply": "2024-05-25T14:20:17.471434Z",
     "shell.execute_reply.started": "2024-05-25T14:20:17.382904Z"
    }
   },
   "outputs": [],
   "source": [
    "%load_ext autoreload\n",
    "%autoreload 2"
   ]
  },
  {
   "cell_type": "code",
   "execution_count": 2,
   "metadata": {
    "execution": {
     "iopub.execute_input": "2024-05-25T14:20:17.476460Z",
     "iopub.status.busy": "2024-05-25T14:20:17.475462Z",
     "iopub.status.idle": "2024-05-25T14:20:18.823209Z",
     "shell.execute_reply": "2024-05-25T14:20:18.821992Z",
     "shell.execute_reply.started": "2024-05-25T14:20:17.476460Z"
    },
    "id": "5wNKH6TNARYy"
   },
   "outputs": [],
   "source": [
    "import numpy as np\n",
    "from matplotlib.backends import backend_agg\n",
    "import matplotlib.pyplot as plt\n",
    "\n",
    "import quadrotor\n",
    "import math\n",
    "import sympy\n",
    "\n",
    "import matplotlib_inline\n",
    "%matplotlib inline\n",
    "matplotlib_inline.backend_inline.set_matplotlib_formats('pdf', 'svg')"
   ]
  },
  {
   "cell_type": "markdown",
   "metadata": {
    "id": "IcgFhulANifc"
   },
   "source": [
    "Зададим параметы для дальнейшей работы:"
   ]
  },
  {
   "cell_type": "code",
   "execution_count": 22,
   "metadata": {
    "execution": {
     "iopub.execute_input": "2024-05-25T14:36:19.640573Z",
     "iopub.status.busy": "2024-05-25T14:36:19.639555Z",
     "iopub.status.idle": "2024-05-25T14:36:19.760170Z",
     "shell.execute_reply": "2024-05-25T14:36:19.760170Z",
     "shell.execute_reply.started": "2024-05-25T14:36:19.640573Z"
    },
    "id": "uVuTvMZhLpyt"
   },
   "outputs": [],
   "source": [
    "m = 0.6 #масса дрона\n",
    "r = 0.2 #длина дрона от левого до правого винта, деленная на 2\n",
    "I = 0.15 #инерция\n",
    "g = 9.81 #ускорение свободного падения\n",
    "dt = 0.01 #временной шаг"
   ]
  },
  {
   "cell_type": "markdown",
   "metadata": {
    "id": "5dWxAXcdQ5kw"
   },
   "source": [
    "**Задание 1 (0.2 балла):** для начала проверим что все хорошо работает нормально. Реализуйте две функции-контроллера и проверьте их работу. Функции должны принимать на вход текущее состояние и номер таймстепа. Выдавать функции должны управление.\n",
    "\n",
    "Первая функция должна давать команду ничего не делать (то есть всегда выдавать нулевое управление)\n",
    "\n",
    "Вторая должна заставлять дрон висеть в воздухе при условии что он появляется в правильном положении параллельно оси x."
   ]
  },
  {
   "cell_type": "code",
   "execution_count": 23,
   "metadata": {
    "execution": {
     "iopub.execute_input": "2024-05-25T14:36:21.633064Z",
     "iopub.status.busy": "2024-05-25T14:36:21.632026Z",
     "iopub.status.idle": "2024-05-25T14:36:21.770635Z",
     "shell.execute_reply": "2024-05-25T14:36:21.769618Z",
     "shell.execute_reply.started": "2024-05-25T14:36:21.632533Z"
    },
    "id": "NEsonLqUlbOM"
   },
   "outputs": [],
   "source": [
    "def do_nothing_controller(state, i):\n",
    "    u = np.array([0, 0])\n",
    "    return u\n",
    "\n",
    "def stabilize_controller(state, i):\n",
    "    # 2F = mg\n",
    "    F = m * g / 2\n",
    "    u = np.array([F, F])\n",
    "    return u"
   ]
  },
  {
   "cell_type": "markdown",
   "metadata": {
    "id": "I7FaRCHFXct4"
   },
   "source": [
    "Проверим реализации. В первом случае дрон должен падать вниз, во втором - висеть в точке (0, 0)."
   ]
  },
  {
   "cell_type": "code",
   "execution_count": 310,
   "metadata": {
    "execution": {
     "iopub.execute_input": "2024-05-25T08:14:19.346532Z",
     "iopub.status.busy": "2024-05-25T08:14:19.345531Z",
     "iopub.status.idle": "2024-05-25T08:14:26.865155Z",
     "shell.execute_reply": "2024-05-25T08:14:26.863159Z",
     "shell.execute_reply.started": "2024-05-25T08:14:19.346532Z"
    },
    "id": "Yan-TZrJqacA"
   },
   "outputs": [
    {
     "data": {
      "text/html": [
       "<video width=\"600\" height=\"600\" controls autoplay loop>\n",
       "  <source type=\"video/mp4\" src=\"data:video/mp4;base64,AAAAHGZ0eXBNNFYgAAACAGlzb21pc28yYXZjMQAAAAhmcmVlAAAmS21kYXQAAAKhBgX//53cRem9\n",
       "5tlIt5Ys2CDZI+7veDI2NCAtIGNvcmUgMTU5IC0gSC4yNjQvTVBFRy00IEFWQyBjb2RlYyAtIENv\n",
       "cHlsZWZ0IDIwMDMtMjAxOSAtIGh0dHA6Ly93d3cudmlkZW9sYW4ub3JnL3gyNjQuaHRtbCAtIG9w\n",
       "dGlvbnM6IGNhYmFjPTEgcmVmPTMgZGVibG9jaz0xOjA6MCBhbmFseXNlPTB4MzoweDExMyBtZT1o\n",
       "ZXggc3VibWU9NyBwc3k9MSBwc3lfcmQ9MS4wMDowLjAwIG1peGVkX3JlZj0xIG1lX3JhbmdlPTE2\n",
       "IGNocm9tYV9tZT0xIHRyZWxsaXM9MSA4eDhkY3Q9MSBjcW09MCBkZWFkem9uZT0yMSwxMSBmYXN0\n",
       "X3Bza2lwPTEgY2hyb21hX3FwX29mZnNldD0tMiB0aHJlYWRzPTE4IGxvb2thaGVhZF90aHJlYWRz\n",
       "PTMgc2xpY2VkX3RocmVhZHM9MCBucj0wIGRlY2ltYXRlPTEgaW50ZXJsYWNlZD0wIGJsdXJheV9j\n",
       "b21wYXQ9MCBjb25zdHJhaW5lZF9pbnRyYT0wIGJmcmFtZXM9MyBiX3B5cmFtaWQ9MiBiX2FkYXB0\n",
       "PTEgYl9iaWFzPTAgZGlyZWN0PTEgd2VpZ2h0Yj0xIG9wZW5fZ29wPTAgd2VpZ2h0cD0yIGtleWlu\n",
       "dD0yNTAga2V5aW50X21pbj0xMCBzY2VuZWN1dD00MCBpbnRyYV9yZWZyZXNoPTAgcmNfbG9va2Fo\n",
       "ZWFkPTQwIHJjPWNyZiBtYnRyZWU9MSBjcmY9MjMuMCBxY29tcD0wLjYwIHFwbWluPTAgcXBtYXg9\n",
       "NjkgcXBzdGVwPTQgaXBfcmF0aW89MS40MCBhcT0xOjEuMDAAgAAAEYRliIQAEP/+94G/MstfIrrJ\n",
       "cfnnfSyszzzkPHJdia640AAAAwAAAwABSLT6Xkvn/ABMrzzOSI4qENv3AIW7Do3GoO9tv6+3hhxs\n",
       "FjDrez8ldJrWhywaqXCk+KH7U3Q1FNSr+L6t0E08s/lmE/5N/razebI0XSX3P87gq9t4o5lEwzBv\n",
       "TdYkhtPMpiDeudM17oCIh+1SHK7nsSwBvRXSp2n2NWaamhBHM3w3CGHLqX6TU7TwrfXfJJPxlpiv\n",
       "evQ2///LMImSZPYQEkmGSf/vBxZ+qKT1f6Y+0J63snpGv3EooUDnzzlKu+Eyz6TDp+daTObpHINA\n",
       "Xpos93G02kw7kNbGrthjZwWTxkBlqs/0Ij5tIr0eHs/NC6z+ye0c2i9PUPobZpKDeOU//xKSmm5C\n",
       "OlryxHR0AMdxBk+9fC65GztemL2EpEcxWmLIgSJlMBhqu4McySrjlAQ8b/8PlPoSmG7jeGBjm4r0\n",
       "TxtGTwbjnCG5+OBAP9qeI2ZARGhVfSAwF8SYqKOmyq12XzDn2c6cvqYIIqSS/jAJTJ+c90RQXsiy\n",
       "7wzFrYnaKuWB/uhGJ9XMhQm2ciQ7EJs7POOIb5ezLB375pwpvqX84oeEFoU4P6xjKrDdL3HcbDBM\n",
       "3pr/+LjGsnJpGfk7IQUzbS495dmX2SvfsNGRWbNtl7+yaGlVrxTlYf6WJMs2HK5fq5+Y9reFaswX\n",
       "e/J4UFaqGwYiA1VYreegrGE/oMZ5VAsv6CPAdnGmSZ9JK/+Ju1mzjKf3k2CKH5p/9psxN0Xbv1Mi\n",
       "GUNhbKddJDYUtp6CRd+SkQMOar+czuTUmcAw7lIXgrUZrmEA3ls8bXqQYqu8urb4MqtwHVBMkkyB\n",
       "T198QuAD/bj8Nc2USE4rqYStOUkbwRoC3rnqMY8UdQ9pxtbBUBfryrvKbl1DKP9JOiMleK3YjvOs\n",
       "0Lpf6prf7JOJhmx/w6I5x2G9zcXnaSAAHym+AaxIWhivg7QfLmR8NnuLgNnPNk/1Ng5Vbe6agjl4\n",
       "PuwIVNfoTQs3sdAhdlOA3qIE6EQ6uAhkPgwkckJzt1vFrI6PT5wLoKOkWCMscm7IZN7Dh7c+yeun\n",
       "CeDlAewSlLJLkeiIZxf8wPY12wE76fsQho7j9etNWZVto9MB9obax3JueQNfL/9pw/+FtHDAXLyI\n",
       "7JP5OauvIMAss3rnG7IEEv9XG5uO8h97vpoN+CoIk329dCi8Hdamdz9DkTT+eaGOiPKkNl2mYmkw\n",
       "bF4tbBPUtLuDxlkcfdLpjXWX4KU4lWKixRlRMbFM+IIwXraJJkDBLSLEm9/7OMsPcGrSTk15YjA9\n",
       "y7966FF4PAL+UhOtxrzCpwOqm2OwxGwdlAv04/k6jAc31p/jaJEFqXsJiNud6MlQryvitciAsPAd\n",
       "P739wXFUMQuN+dvG3WQWIda6IzaVOY/matV3FhcSwjyGIkALJwAF0jB3j18/fvosjxBe1qT1nait\n",
       "KhpLTMeME6V4m24VTlvMqPEU+lf/dMvMxZfiGnYmnwinhrx/o6OfRfWWCOjwXVfMJL0UB7rnhon8\n",
       "FW7F847q11Ndnx57NSbKVqsUkICYX+bw+ZZ5LQlSaDWsh8b8PZ8FX7GTu10kePxqUU58piKu4F8M\n",
       "9whOqpQ73P8F5/Jg8QERz70xDiWrsf8iclRTxCalkFft2o8TdVgfGl8sWPChBNHq6cVT7p23s6GX\n",
       "CK9+dLD0czt4zubMuTyXeTNiqb5/g9c0nfv84kcA85BIws5FYkMwH/gIPVMsjLEGj/OSAlbhGjw+\n",
       "U8P9ncxF726Ex69HRd6mancOucTiPDUvTmmio+GX5XIY6faWUzWHpTpZcgRKs5/OYMNmQxUvRVuE\n",
       "lti1jOgROnDM5rXjsPxwkWpucSkQs26JeyeVis89MNrFDgIIKW0i21kUfDUHoZd+Jp9eBpH2vIhV\n",
       "LtqF0cQiNnfGc5jFOzoy4x5MNHXsRNfzGA8tqroNCxzIRVyDn4B82lH5H+RJiHVg1ZrRKhTG/Mkn\n",
       "Chy4syG26ruMKPK4WrxdArY//t8kJp8FOoH7rqbFnM3CaFk8RQnDjdOLhX8NPiI745GMVkj+eXzt\n",
       "Yg/4Qoy/B9pPyd/b9ZaCDAwTfN0XQF0Y0E9ExlNRl6v/aAh2b0ct/ZYvzxu4g7vJtRT0/zh0wV4/\n",
       "gwLOGTs3WhL6Bu+Kq+I/WAxlQ/m4JNw184gXT3PIo6/ocT2jcMRZfmqb0Mq7UbpzROSmqx5vaHOS\n",
       "H44sOCPTjldlFhWIyf/TXv+bHO+/PDf7JtvYstc15l4YB6ZaElK/OrSd7IC+oWoRUdYRO1MZQw2s\n",
       "JIqkwAfs2X88IX2TyyusmuAK94zWfpxV84m1lgdTsjtRpZjYdVHk/eQwrv6tr5hPxJpr/ccF66sU\n",
       "U3QC1Aqj0uOz4Ih2ZoSnyZzGHIo/qupMdS4a/cAAwXJRe6za5uOV+xge1GA2pliZwsE1zhtI5/XO\n",
       "P4MELqSpMze9mr0rgWRXn5+7Pw46+fkROSQu/IkBzdW+VU3ovQMOl8lfdX5YqqdSYI2MRwPpjH54\n",
       "Mn6SN9h37vpoIALrIfUl3wbeZcoSF6wsjwHKV3tlHz/jekbSpaxz3+zfLjYIp8shJDE4+vPPmWuC\n",
       "mXLWFBzbS7LYfef9SZtbZDC4JFw32iT5Ju5tfGQrs4qVK+ihYKYwqv6/87Twjowz+03m9m1etd1c\n",
       "f7TnO7GkCxmZmlPGJ83ZocNHUnV4yYxRhw4y0upPrstoMniWjUK49xF00G/lUGFnx99h8vQCsUVM\n",
       "2hkX/yoPmuAAnIAAAAMAAXked6S2bj3tbKiaXGdD4m/LbkNDofzAlAQrAjUApYsk/OuGhSMGV8di\n",
       "jLExY7RHNa0LIws83gPndX2gWxWqkLWcVIdvPfwfxHmx46wosx2KTIQ3Pu93rHEp/VlNxhl/N/sk\n",
       "XTk5MjlxPiiZJJ2+DOWL976fALyw5RLb10NgaaIgRcxanAqZcqqQC6+sRhu772xbP9eVCBoGevLP\n",
       "RG4lOp9vfRLIIhVK4oHAXY2uDPlzQf0QMhEv0bhmczMfDGwn/rW8XWsCpC5st/9E9W6pR0AejLdl\n",
       "nDHI4anCemb1YuPItfK31X75S2r374Kdk+ONLik6x4Aqm/zTZty6Rzz0tPhWmq5xzyWkPsCZI1Nb\n",
       "5wiLuvvTc70uamJcSgbHSYyb8JsKR8ThxK+eun0Q+gRcf6R99Cp3UyRMAE5K6Z8JdBp+iJTujhO7\n",
       "p/hXpGtoqkRfVvU3am3dV7LxW/b+X9FZE2W8upm/836touWcfyOSaKsvI9p2zmSO8QxwXw9ZtV+I\n",
       "fzysV6+j5sGOyZL//7IKZ37RFAWhoy29ZCr0SmiDZ5ylIIej/mVqihJK4Wn7CHeFd6c12fAFe3DR\n",
       "MwfyrzB85vy3pm8OcdGcBK1qIUwhPQBo3vOV40B4vS9PDImzfzJPUrajEuv4E5WkSVWgHzTpGH1R\n",
       "aDuvT71XtUFANv5uHfy+gMmoDPcXu1aWODFsOG2Gygzmfs5hB0wd7uDHcNEI3yn1NhbzkUYHRzKe\n",
       "FR+XAVDuHzwCKlIjkZTqievOLrqe97Kr9VTpoLFHtPKQF/PbbIIUNkDiEdlfETNLdAZtatWJBLo3\n",
       "toSUT7Qm7NOMdM/6noWsrIAAcsu4KoyldjHbhMVeBwF2KSoVUO6VzIkXkQiAssQ2f8Q5eX+Sl3XN\n",
       "jYhmvvYUo18/CY/RMdmtM3VSfWWYDfbS/Uiwv3iABwZ0coq0W+4v9BwPHvbJJE4ZOCeqj4PgAAAD\n",
       "AABGJ+BuYxyBfCz5j466w7i3x84xjRg4nhN3aT/hhX9YufqWaaK3SMbILCs8XB+eGcgDM5uzs0Qn\n",
       "oi0K9Kk7NOxhFoa96165Yd2CQ29TnCI3ILICHvFRhB0nHiCfMXRf0rB57UZvELe7plxBJvCrArbX\n",
       "m5TWgCSFP3r7OysElJF19o+QAY1txo806c78rh+GzshWkzDEAbXAkRqLTICMR2DEn+iW3faKf3lP\n",
       "WyJgM8D8Ch/cvqS03WfK3RmumM97SG1XvSTng/p614HLSo7HvNv9BBG31wnyyT12fkGF3ETBmZTc\n",
       "2U9Y14XH35spvg3pYFoyjiTGNmJrVj3dO1u0VkteM53+JIY9lUiAfJW39DXoh+yz+LtiIRMPCq4s\n",
       "61iqSc6pQjMW6aaOvKgGoaipmHc1gDDpLaF0M84W+1lN2hUXfbkym+mqgueSvT3U70LGhV6d+TlP\n",
       "/pL0IXaOzKwB4Xa4ffWzzIRFwM8Knxnlbrq5d7K1VHTN0GvMuXqwORyptLaQQgqWTcBxzDxxVgiv\n",
       "3QpWa3lr/y7awuQpGYQLN+CD67Qro9gbzzj4hJg4/ibTFNuvfEeL2eRGzwZszjPYsAeJlErPNbQ9\n",
       "ZUIAtap2RGYcR54HB+OJ6FMxRyhsHDOe8T2Fq6AuvO7VB4SO+omz26HTSTTMpo7Ar5QHU2IkrZy7\n",
       "FT782gPqiifEblB34pfR8LjtbsU158FJFGiDzZfzWYSAi/+g6wb+d5ekLj3lnfLuoDtSrfT5GCHW\n",
       "uvLFGUd8t4g2kLWoRsfPS6FXyWBciaSRFH2Xsa+DwV5i0hbVU5N7jOzSenyqoBInfppZQSAUPL3D\n",
       "rpczsm5jSYzzmbIJuHBscSQVjs7fThsw3sSZuwciUHO0kRgXYL5UqaiTKskxtGlDMH5fjq/j3pxW\n",
       "nyG/J30l3rq8YkhW4XjW5cEfjikxEg08xbEjYXI92EeNovDIsBOL/m6UH7oAXPxNrkoGyQRM75U3\n",
       "MLqp/WJEXCI2d2/oHW6Uz0bRQGhjUQ/3/4TpZJKdE6L2a+n7LUqjbZX/N+xBC6dOCMQLYrNena6b\n",
       "j57B4TsRBoQ0UTYiVL8vHy80D9XzRiRNDb3OV4ddFmRDKk1AllszsGJbXJlzoo8FxL9E0GBhW/Ri\n",
       "UsXgnrLLIFTfKCZZ5//M6Xh/ppBKC1gcD5q5ZZu3zD8rQLhaJx7N35gFWksOWDWGiVgYuOHHC+OV\n",
       "vdaeUwmrpTYS3zXU1AJB6VqzzP0d4obssOKfy7XijExOzUaFMc179CIS4KuaPYBBTAKUqb/b/czP\n",
       "8UrudzE3jNEm4PcFETTCJV6Pl7aDSnt/hpNYKalGSkkYuRqYEMzOF7zgl25A3H4/+nPrf4ieOgHA\n",
       "QqlOWvOG+aPPiGRoW0sa44qiJa1c8v7MgzLpuAG76cFpfNyatzQLjFzEY81cj/50VtcNseT6ASEB\n",
       "NNr618TCAorq8ZEB+l4qM6Zjni9x/Nu1FpL1rkbssu1HjdLJgMb0R0fUwvbAfiptwU3hrW46yT3v\n",
       "bA1EJzUECg6cImWk70wUjWdkymxfvl6n3Pu9xtEiftyWTPNxRv9BRuELMb9n5/6JuswLadEl7//S\n",
       "MHCCaOhiL67U1cUG7flXxW89rwSwcm+MW1o9PAxVRMS+ZbzjBaPPNcAOxpxIaXIUPSQkHnEfIyHm\n",
       "zzaTMKrP7R6x/YjZ3j6eXF77vlyUcD3FdVLb1bjEUwgkRkQsHJ1SFun+Nt/3DBqq1tRD2dTWU2dj\n",
       "8iC5981zQEZM/rUCw4tnCtY4vE+wKM2jhj6MemkzDGsd2rhldST7+jap55s27Lzlc1VzEkWK/Zjo\n",
       "k6oqAwwE0Uy6+rfRkIxEGyCfJmUmeu9PKAI9cLfzp5461LLRtMVLZ5qZAX2x52r3KVMWduRhGZHL\n",
       "wydA/iqr42fUzVD0MIt+oyS6HoIiEuQ1QrUZm3qc0EHDAp0td6uoUVhEKxh+Qdwerh93rFG+3fXS\n",
       "AJHQ4JhJ9iDvwam6uoEPz884NFqea07LaVVrwT1dIrYlroO+QHd2jWC77zCJ0nuYeudHppL90G87\n",
       "FVOV/NISUehrdBhHEDFCY2DORhKLVT7R6N8S4YQ7PZDY84UndlPnhcMtBJFlh87rfJYIMECHPaQY\n",
       "ca6Qtg3b9tjOHmoAsCe8pRAms/B5NmDJc/vZKy597Kr4k/DUQnredlup2GOsTEOavBntFgQnWTV4\n",
       "6u2K9a60hAchwrPwQggZG9AiDpgBQQAAAY1BmiNsQ//+qZYBq67zQEJLzL4n9U+rzfB5eyoxc89c\n",
       "iVECdyz1x0QYgYaKzGQp6+i9lUcH827+RcUesa2VhEfuA+gF9PhwdAhF28ztWWuR25MCqUjSjnN1\n",
       "FEQQPH3KgawnT17eNBI7h80i+qr+/Wh/TvOqQB3ImfRPvE86ACY8EjRNVmND9uO0TuhxMvcUvJlm\n",
       "NAhjbMYZusvT8DUsZTsX0bZQAlMQsjPklE20hah2K8WNxBCmtKec03Q3GR/WrnLZeVgjCRhJCzns\n",
       "xbPMt8dZQnh3PzlQ5h6JGZE9HXcxIcslD86KiXBpbXAt5H0LYR1i19JoY4ddRoVCcbA3lglUDMRM\n",
       "bcU949b9Rya2uNZEAcxjGmyx+uIW+IQ+PsvOugAo4p7ADnLTU2Ru9/FFy1AFuNO2VTD5equnpHZM\n",
       "eqjo11vuSoNbgtBjfx7pMR9eICWf9//Cejt6RPrqAk+w5rCdZdnbVZ5AAkky/U/Ua5PSdJp8CGKH\n",
       "yb/M0fuqsYEkSwqhKHn10nn7jDEO7mkgAAAAakGeQXiG/wDFdwGdmIXsmBi8v2Y8BQChidKN74DN\n",
       "7Ym5YAIBG9PFVfx+K0RsDat5iWgA2/B9lBAACPfz6HwVQmdJwEcL6jsMMXrudz344FveqkPOfeK3\n",
       "ynvkB475q1VJarQgAA75sphRFIEAAABvAZ5iakN/AAADAAHE7WEZOPaeLr3QOIAN5QAAOTuSDHww\n",
       "gBPciqCy3goIzvVUiK/DbS/5oMFOGqsN8v/pTv1m9ZCrKS487hr0p/xjybxzA+bV9IbR/p547LWP\n",
       "Pm2VY00M+KELoaDcOyBAAB6497EHAAABA0GaZEmoQWiZTAh///6plgAAAwAAW4JsfSkGf6Ha3/h5\n",
       "Y4oAMu+RK2AVVZC6YEyEg2nU/NOOqw3G+plfjc327mo5R8RouYyhNux6aLof2gJa6zSlRbaGys80\n",
       "PdKipg9/7F+RlUHeNfuyq0DGleu4stAW0XCVK0e6/GQTwaOQeIHG6/vv40lXzYyqh5r/V66Tk7Qe\n",
       "4WsLcfzwZM0GKoEDsPo2a761oS865RDCRt42pgl6qZuBplXNzpaS7Tvn9sM7naEZDRFRRArOzKTq\n",
       "qPSOXzctqOMwOCCVNx1XbcYLTfnz4KntiNYkIwN2Rdn5V4mik2PHotf1q84/cXm6UdrDLXgABB0A\n",
       "AADPQZqFSeEKUmUwIf/+qZYAAAMAACI/GM17/U2WkyPFESE0zxnecOAAXToSbmVoRcuhhzmY4v1+\n",
       "E8Gc73eHka9zp1ZONsjWzsDzwqjEKpHRhE8k7p9fbt1PpKTyJh0KgflvpRJ/ORuIoef9o8KDcQKF\n",
       "eOLSWV2YOVzlZGw8uDdmSQyoajH35Rn66JVZle75sY/xP8JjMvuSXFbkBDR2aOc1u57/bYv6GE/u\n",
       "bb5IVXz0YP/36o7iGLUZ1/IJcC9C/3V/LxtTGWUGNpkAZfiYACphAAAA8EGapknhDomUwIIf/qpV\n",
       "AAADAAAID80CF/QWBrJx9xACndlGUCRtHZcz/eIKv69YT0iXxVzc/DjDhU7MakeX4tr8qrhZwSgU\n",
       "mueVAkNWvcscMfM1Qk3+rqrm0bvuqA7SwsfwnhbZqEvjHjegHImdXbu5zyhQe1sWF/IzgTmML+mS\n",
       "V6iDG1I5ZeFKY+fL1d3AnruJngQTIhws2n57C06ei4sSvoeDL+fMMm7pk0Zhedv4a8VYJftGdbn4\n",
       "4n/ViNG9X8Dil5ETPKD9GLygf9zcVAiYieFz3tuZ2MYNUP8TRGa/lHvnMmoABAma3Z9sk8AfMQAA\n",
       "AORBmsdJ4Q8mUwIIf/6qVQAAAwAAAwAt/xevVdjleUYJqTMjjPcf+nMDgEABUevJQX9IRNeZumt0\n",
       "gXZoZm25QIb29+8I53u8jKV7mM26d1dIv/8e7d22rBRVETydel1gMheV68fnC+hIyDD/eFZbB+jV\n",
       "nUwaO5h7ajxZeOAVm/7y+EDTPJrk4Wn7IGFFM1iWVa8TgxCQvg58fiPWJxeTAqVBhdwfsm2HGeXr\n",
       "61+DjwWbdLnzYGL4d08rX48UGqpqblUsXFQLDD0bTESvC1vFRF7ZmfkRTM2NZKy3OuRxnG2DBJWN\n",
       "KkEAAAEEQZroSeEPJlMCCH/+qlUAAAMAAAMAAnPzO8sxusK/gUYJqeQTp5e2P/4FrqYQAUXrXwEl\n",
       "G0DVS6vBp6dZE6DzxGU2ls62EgMuj39o+/vEksEHA92R5bGlTLhjwFz+feUrNqcdBLIZPNrOTu+y\n",
       "Dz89t9LrFm8fuHjzt3TeGrTygGL9G4JkFLxg/OBLAUKRyAOH/viHkeXW2S07rLzrKyFFMv1Lpobl\n",
       "IQgCxxds3YgyTHtonL+eHW2fb3lOyyk2TteDsmuvsFiFeLmbpaSj6lAroepnqFDtjPBxvr4r+l56\n",
       "11Sw2pgZjNOPE8ff7nmga3Oo7q5WHVbr4Xx/JnZMaRligA6qC8gAAADvQZsJSeEPJlMCCP/+tSqA\n",
       "AAADAEx+zdPYACeynDXL00z1lZafjjLLHFJ3cBtJ4+Jyz4AI9LLt/jNBpa1P+QbHTuLuU+ldguV4\n",
       "ZN+/LV/M6/o8gUmqqDjO/Kf4O6aTbkWCcrln5wVHvttP95ivqpq0bgaA+SykPkIBGvs7grMqX7yx\n",
       "MTcGr8gmTcMmVtfuBtHWJCWq0r0mYr6F42HrH/2rKfwJI0CZO28SGLKgXzYsLBDpXZy4atnpoZ7w\n",
       "FV5VEkNJRyUgR+BuNnkJoDBLQCB8obDZDWKFZs5wri1eRXxMbQM+HLJ8wF0wUutri0yzckwAAAAn\n",
       "QZstSeEPJlMCCP/+tSqAAAADAAADAABXfoJ8Pp3s2HhlHLVGrhNxAAAAIEGfS0URPDv/AAADAAAD\n",
       "AFGxgrkBa0qYWxl9OlJwBMmYAAAAHAGfanRDfwAAAwAAAwBz9O7cE1ZNQyZ5JvSgQfMAAAAWAZ9s\n",
       "akN/AAADAAADAHQKHtwCoPPq8QAAABtBm3FJqEFomUwII//+tSqAAAADAAADAAADAs8AAAAZQZ+P\n",
       "RREsO/8AAAMAAAMAUpwv8gBiAwyMgQAAABYBn650Q38AAAMAAAMAc/Tu3AKgO3gwAAAAFgGfsGpD\n",
       "fwAAAwAAAwB0Ch7cAqDz6vAAAAAbQZu1SahBbJlMCCP//rUqgAAAAwAAAwAAAwLPAAAAGUGf00UV\n",
       "LDv/AAADAAADAFKcL/IAYgMMjIAAAAAWAZ/ydEN/AAADAAADAHP07twCoDt4MAAAABYBn/RqQ38A\n",
       "AAMAAAMAdAoe3AKg8+rxAAAAG0Gb+UmoQWyZTAgj//61KoAAAAMAAAMAAAMCzgAAABlBnhdFFSw7\n",
       "/wAAAwAAAwBSnC/yAGIDDIyBAAAAFgGeNnRDfwAAAwAAAwBz9O7cAqA7eDEAAAAWAZ44akN/AAAD\n",
       "AAADAHQKHtwCoPPq8AAAABtBmj1JqEFsmUwII//+tSqAAAADAAADAAADAs8AAAAZQZ5bRRUsO/8A\n",
       "AAMAAAMAUpwv8gBiAwyMgAAAABYBnnp0Q38AAAMAAAMAc/Tu3AKgO3gxAAAAFgGefGpDfwAAAwAA\n",
       "AwB0Ch7cAqDz6vEAAAAbQZphSahBbJlMCCP//rUqgAAAAwAAAwAAAwLOAAAAGUGen0UVLDv/AAAD\n",
       "AAADAFKcL/IAYgMMjIAAAAAWAZ6+dEN/AAADAAADAHP07twCoDt4MQAAABYBnqBqQ38AAAMAAAMA\n",
       "dAoe3AKg8+rwAAAAG0GapUmoQWyZTAgj//61KoAAAAMAAAMAAAMCzwAAABlBnsNFFSw7/wAAAwAA\n",
       "AwBSnC/yAGIDDIyAAAAAFgGe4nRDfwAAAwAAAwBz9O7cAqA7eDEAAAAWAZ7kakN/AAADAAADAHQK\n",
       "HtwCoPPq8QAAABtBmulJqEFsmUwII//+tSqAAAADAAADAAADAs8AAAAZQZ8HRRUsO/8AAAMAAAMA\n",
       "Upwv8gBiAwyMgQAAABYBnyZ0Q38AAAMAAAMAc/Tu3AKgO3gwAAAAFgGfKGpDfwAAAwAAAwB0Ch7c\n",
       "AqDz6vAAAAAbQZstSahBbJlMCCP//rUqgAAAAwAAAwAAAwLPAAAAGUGfS0UVLDv/AAADAAADAFKc\n",
       "L/IAYgMMjIAAAAAWAZ9qdEN/AAADAAADAHP07twCoDt4MAAAABYBn2xqQ38AAAMAAAMAdAoe3AKg\n",
       "8+rxAAAAG0GbcUmoQWyZTAgj//61KoAAAAMAAAMAAAMCzwAAABlBn49FFSw7/wAAAwAAAwBSnC/y\n",
       "AGIDDIyBAAAAFgGfrnRDfwAAAwAAAwBz9O7cAqA7eDAAAAAWAZ+wakN/AAADAAADAHQKHtwCoPPq\n",
       "8AAAABtBm7VJqEFsmUwII//+tSqAAAADAAADAAADAs8AAAAZQZ/TRRUsO/8AAAMAAAMAUpwv8gBi\n",
       "AwyMgAAAABYBn/J0Q38AAAMAAAMAc/Tu3AKgO3gwAAAAFgGf9GpDfwAAAwAAAwB0Ch7cAqDz6vEA\n",
       "AAAbQZv5SahBbJlMCCP//rUqgAAAAwAAAwAAAwLOAAAAGUGeF0UVLDv/AAADAAADAFKcL/IAYgMM\n",
       "jIEAAAAWAZ42dEN/AAADAAADAHP07twCoDt4MQAAABYBnjhqQ38AAAMAAAMAdAoe3AKg8+rwAAAA\n",
       "G0GaPUmoQWyZTAgj//61KoAAAAMAAAMAAAMCzwAAABlBnltFFSw7/wAAAwAAAwBSnC/yAGIDDIyA\n",
       "AAAAFgGeenRDfwAAAwAAAwBz9O7cAqA7eDEAAAAWAZ58akN/AAADAAADAHQKHtwCoPPq8QAAABtB\n",
       "mmFJqEFsmUwII//+tSqAAAADAAADAAADAs4AAAAZQZ6fRRUsO/8AAAMAAAMAUpwv8gBiAwyMgAAA\n",
       "ABYBnr50Q38AAAMAAAMAc/Tu3AKgO3gxAAAAFgGeoGpDfwAAAwAAAwB0Ch7cAqDz6vAAAAAbQZql\n",
       "SahBbJlMCCP//rUqgAAAAwAAAwAAAwLPAAAAGUGew0UVLDv/AAADAAADAFKcL/IAYgMMjIAAAAAW\n",
       "AZ7idEN/AAADAAADAHP07twCoDt4MQAAABYBnuRqQ38AAAMAAAMAdAoe3AKg8+rxAAAAG0Ga6Umo\n",
       "QWyZTAgj//61KoAAAAMAAAMAAAMCzwAAABlBnwdFFSw7/wAAAwAAAwBSnC/yAGIDDIyBAAAAFgGf\n",
       "JnRDfwAAAwAAAwBz9O7cAqA7eDAAAAAWAZ8oakN/AAADAAADAHQKHtwCoPPq8AAAABtBmy1JqEFs\n",
       "mUwII//+tSqAAAADAAADAAADAs8AAAAZQZ9LRRUsO/8AAAMAAAMAUpwv8gBiAwyMgAAAABYBn2p0\n",
       "Q38AAAMAAAMAc/Tu3AKgO3gwAAAAFgGfbGpDfwAAAwAAAwB0Ch7cAqDz6vEAAAAbQZtxSahBbJlM\n",
       "CCP//rUqgAAAAwAAAwAAAwLPAAAAGUGfj0UVLDv/AAADAAADAFKcL/IAYgMMjIEAAAAWAZ+udEN/\n",
       "AAADAAADAHP07twCoDt4MAAAABYBn7BqQ38AAAMAAAMAdAoe3AKg8+rwAAAAG0GbtUmoQWyZTAgj\n",
       "//61KoAAAAMAAAMAAAMCzwAAABlBn9NFFSw7/wAAAwAAAwBSnC/yAGIDDIyAAAAAFgGf8nRDfwAA\n",
       "AwAAAwBz9O7cAqA7eDAAAAAWAZ/0akN/AAADAAADAHQKHtwCoPPq8QAAABtBm/lJqEFsmUwII//+\n",
       "tSqAAAADAAADAAADAs4AAAAZQZ4XRRUsO/8AAAMAAAMAUpwv8gBiAwyMgQAAABYBnjZ0Q38AAAMA\n",
       "AAMAc/Tu3AKgO3gxAAAAFgGeOGpDfwAAAwAAAwB0Ch7cAqDz6vAAAAAbQZo9SahBbJlMCCH//qpV\n",
       "AAADAAADAAADAAWdAAAAGUGeW0UVLDv/AAADAAADAFKcL/IAYgMMjIAAAAAWAZ56dEN/AAADAAAD\n",
       "AHP07twCoDt4MQAAABYBnnxqQ38AAAMAAAMAdAoe3AKg8+rxAAAAG0GaYUmoQWyZTAh///6plgAA\n",
       "AwAAAwAAAwAV8AAAABlBnp9FFSw7/wAAAwAAAwBSnC/yAGIDDIyAAAAAFgGevnRDfwAAAwAAAwBz\n",
       "9O7cAqA7eDEAAAAWAZ6gakN/AAADAAADAHQKHtwCoPPq8AAAABxBmqNJqEFsmUwUTDf//qeEAAAD\n",
       "AAADAAADACthAAAAFgGewmpDfwAAAwAAAwB0FKoXAKhSWZkAAAewbW9vdgAAAGxtdmhkAAAAAAAA\n",
       "AAAAAAAAAAAD6AAAJxAAAQAAAQAAAAAAAAAAAAAAAAEAAAAAAAAAAAAAAAAAAAABAAAAAAAAAAAA\n",
       "AAAAAABAAAAAAAAAAAAAAAAAAAAAAAAAAAAAAAAAAAAAAAAAAgAABtp0cmFrAAAAXHRraGQAAAAD\n",
       "AAAAAAAAAAAAAAABAAAAAAAAJxAAAAAAAAAAAAAAAAAAAAAAAAEAAAAAAAAAAAAAAAAAAAABAAAA\n",
       "AAAAAAAAAAAAAABAAAAAAlgAAAJYAAAAAAAkZWR0cwAAABxlbHN0AAAAAAAAAAEAACcQAAAIAAAB\n",
       "AAAAAAZSbWRpYQAAACBtZGhkAAAAAAAAAAAAAAAAAAAoAAABkABVxAAAAAAALWhkbHIAAAAAAAAA\n",
       "AHZpZGUAAAAAAAAAAAAAAABWaWRlb0hhbmRsZXIAAAAF/W1pbmYAAAAUdm1oZAAAAAEAAAAAAAAA\n",
       "AAAAACRkaW5mAAAAHGRyZWYAAAAAAAAAAQAAAAx1cmwgAAAAAQAABb1zdGJsAAAAtXN0c2QAAAAA\n",
       "AAAAAQAAAKVhdmMxAAAAAAAAAAEAAAAAAAAAAAAAAAAAAAAAAlgCWABIAAAASAAAAAAAAAABAAAA\n",
       "AAAAAAAAAAAAAAAAAAAAAAAAAAAAAAAAAAAAAAAAGP//AAAAM2F2Y0MBZAAW/+EAGmdkABas2UCY\n",
       "E3llhAAAAwAEAAADAFA8WLZYAQAGaOvjyyLAAAAAHHV1aWRraEDyXyRPxbo5pRvPAyPzAAAAAAAA\n",
       "ABhzdHRzAAAAAAAAAAEAAABkAAAEAAAAABRzdHNzAAAAAAAAAAEAAAABAAADAGN0dHMAAAAAAAAA\n",
       "XgAAAAEAAAgAAAAAAQAAEAAAAAACAAAEAAAAAAYAAAgAAAAAAQAAFAAAAAABAAAIAAAAAAEAAAAA\n",
       "AAAAAQAABAAAAAABAAAUAAAAAAEAAAgAAAAAAQAAAAAAAAABAAAEAAAAAAEAABQAAAAAAQAACAAA\n",
       "AAABAAAAAAAAAAEAAAQAAAAAAQAAFAAAAAABAAAIAAAAAAEAAAAAAAAAAQAABAAAAAABAAAUAAAA\n",
       "AAEAAAgAAAAAAQAAAAAAAAABAAAEAAAAAAEAABQAAAAAAQAACAAAAAABAAAAAAAAAAEAAAQAAAAA\n",
       "AQAAFAAAAAABAAAIAAAAAAEAAAAAAAAAAQAABAAAAAABAAAUAAAAAAEAAAgAAAAAAQAAAAAAAAAB\n",
       "AAAEAAAAAAEAABQAAAAAAQAACAAAAAABAAAAAAAAAAEAAAQAAAAAAQAAFAAAAAABAAAIAAAAAAEA\n",
       "AAAAAAAAAQAABAAAAAABAAAUAAAAAAEAAAgAAAAAAQAAAAAAAAABAAAEAAAAAAEAABQAAAAAAQAA\n",
       "CAAAAAABAAAAAAAAAAEAAAQAAAAAAQAAFAAAAAABAAAIAAAAAAEAAAAAAAAAAQAABAAAAAABAAAU\n",
       "AAAAAAEAAAgAAAAAAQAAAAAAAAABAAAEAAAAAAEAABQAAAAAAQAACAAAAAABAAAAAAAAAAEAAAQA\n",
       "AAAAAQAAFAAAAAABAAAIAAAAAAEAAAAAAAAAAQAABAAAAAABAAAUAAAAAAEAAAgAAAAAAQAAAAAA\n",
       "AAABAAAEAAAAAAEAABQAAAAAAQAACAAAAAABAAAAAAAAAAEAAAQAAAAAAQAAFAAAAAABAAAIAAAA\n",
       "AAEAAAAAAAAAAQAABAAAAAABAAAUAAAAAAEAAAgAAAAAAQAAAAAAAAABAAAEAAAAAAEAABQAAAAA\n",
       "AQAACAAAAAABAAAAAAAAAAEAAAQAAAAAAQAAFAAAAAABAAAIAAAAAAEAAAAAAAAAAQAABAAAAAAB\n",
       "AAAMAAAAAAEAAAQAAAAAHHN0c2MAAAAAAAAAAQAAAAEAAABkAAAAAQAAAaRzdHN6AAAAAAAAAAAA\n",
       "AABkAAAULQAAAZEAAABuAAAAcwAAAQcAAADTAAAA9AAAAOgAAAEIAAAA8wAAACsAAAAkAAAAIAAA\n",
       "ABoAAAAfAAAAHQAAABoAAAAaAAAAHwAAAB0AAAAaAAAAGgAAAB8AAAAdAAAAGgAAABoAAAAfAAAA\n",
       "HQAAABoAAAAaAAAAHwAAAB0AAAAaAAAAGgAAAB8AAAAdAAAAGgAAABoAAAAfAAAAHQAAABoAAAAa\n",
       "AAAAHwAAAB0AAAAaAAAAGgAAAB8AAAAdAAAAGgAAABoAAAAfAAAAHQAAABoAAAAaAAAAHwAAAB0A\n",
       "AAAaAAAAGgAAAB8AAAAdAAAAGgAAABoAAAAfAAAAHQAAABoAAAAaAAAAHwAAAB0AAAAaAAAAGgAA\n",
       "AB8AAAAdAAAAGgAAABoAAAAfAAAAHQAAABoAAAAaAAAAHwAAAB0AAAAaAAAAGgAAAB8AAAAdAAAA\n",
       "GgAAABoAAAAfAAAAHQAAABoAAAAaAAAAHwAAAB0AAAAaAAAAGgAAAB8AAAAdAAAAGgAAABoAAAAg\n",
       "AAAAGgAAABRzdGNvAAAAAAAAAAEAAAAsAAAAYnVkdGEAAABabWV0YQAAAAAAAAAhaGRscgAAAAAA\n",
       "AAAAbWRpcmFwcGwAAAAAAAAAAAAAAAAtaWxzdAAAACWpdG9vAAAAHWRhdGEAAAABAAAAAExhdmY1\n",
       "OC4yOS4xMDA=\n",
       "\">\n",
       "  Your browser does not support the video tag.\n",
       "</video>"
      ]
     },
     "metadata": {},
     "output_type": "display_data"
    }
   ],
   "source": [
    "N = 1000\n",
    "x0 = np.zeros([quadrotor.NUMBER_STATES,])\n",
    "t, x, u = quadrotor.simulate(x0, do_nothing_controller, N, disturbance = False)\n",
    "\n",
    "quadrotor.animate_robot(x, u)"
   ]
  },
  {
   "cell_type": "code",
   "execution_count": 311,
   "metadata": {
    "execution": {
     "iopub.execute_input": "2024-05-25T08:14:29.792321Z",
     "iopub.status.busy": "2024-05-25T08:14:29.791321Z",
     "iopub.status.idle": "2024-05-25T08:14:37.036586Z",
     "shell.execute_reply": "2024-05-25T08:14:37.034587Z",
     "shell.execute_reply.started": "2024-05-25T08:14:29.792321Z"
    },
    "id": "WwKaWK3wlFQ5"
   },
   "outputs": [
    {
     "data": {
      "text/html": [
       "<video width=\"600\" height=\"600\" controls autoplay loop>\n",
       "  <source type=\"video/mp4\" src=\"data:video/mp4;base64,AAAAHGZ0eXBNNFYgAAACAGlzb21pc28yYXZjMQAAAAhmcmVlAAAh6W1kYXQAAAKhBgX//53cRem9\n",
       "5tlIt5Ys2CDZI+7veDI2NCAtIGNvcmUgMTU5IC0gSC4yNjQvTVBFRy00IEFWQyBjb2RlYyAtIENv\n",
       "cHlsZWZ0IDIwMDMtMjAxOSAtIGh0dHA6Ly93d3cudmlkZW9sYW4ub3JnL3gyNjQuaHRtbCAtIG9w\n",
       "dGlvbnM6IGNhYmFjPTEgcmVmPTMgZGVibG9jaz0xOjA6MCBhbmFseXNlPTB4MzoweDExMyBtZT1o\n",
       "ZXggc3VibWU9NyBwc3k9MSBwc3lfcmQ9MS4wMDowLjAwIG1peGVkX3JlZj0xIG1lX3JhbmdlPTE2\n",
       "IGNocm9tYV9tZT0xIHRyZWxsaXM9MSA4eDhkY3Q9MSBjcW09MCBkZWFkem9uZT0yMSwxMSBmYXN0\n",
       "X3Bza2lwPTEgY2hyb21hX3FwX29mZnNldD0tMiB0aHJlYWRzPTE4IGxvb2thaGVhZF90aHJlYWRz\n",
       "PTMgc2xpY2VkX3RocmVhZHM9MCBucj0wIGRlY2ltYXRlPTEgaW50ZXJsYWNlZD0wIGJsdXJheV9j\n",
       "b21wYXQ9MCBjb25zdHJhaW5lZF9pbnRyYT0wIGJmcmFtZXM9MyBiX3B5cmFtaWQ9MiBiX2FkYXB0\n",
       "PTEgYl9iaWFzPTAgZGlyZWN0PTEgd2VpZ2h0Yj0xIG9wZW5fZ29wPTAgd2VpZ2h0cD0yIGtleWlu\n",
       "dD0yNTAga2V5aW50X21pbj0xMCBzY2VuZWN1dD00MCBpbnRyYV9yZWZyZXNoPTAgcmNfbG9va2Fo\n",
       "ZWFkPTQwIHJjPWNyZiBtYnRyZWU9MSBjcmY9MjMuMCBxY29tcD0wLjYwIHFwbWluPTAgcXBtYXg9\n",
       "NjkgcXBzdGVwPTQgaXBfcmF0aW89MS40MCBhcT0xOjEuMDAAgAAAEmRliIQAEf/+94gfMstp+TrX\n",
       "chHnrS6tH1DuRnFepL3+IAAAAwAAAwACHnT2/WY3+YBnSlqCtB10zo0UNR0S/kkboxDzycsZJfiS\n",
       "Eic+5wIlfGBC9+6cQoTnxFAn+ya6avhMZX3FK95npiew+fP0+rLyGWScdEvuf53BV7bxRzKp6vyH\n",
       "c4gQWKy/E/D+9EvKSrcRD9qkcdSYzjZmzHW8ur0/GaIH7MjZwhi6G7tZi4Qy6b6Yr8sJ0XXX1b1L\n",
       "Ew/jjY8ha89N/5xDof+5wmiXdkWQUP4PT8VRSfP/U9Ukidl1XlF+MDFFEZd31jR3wmZ3H9Y1SqgW\n",
       "sraz/vsRxPegphqSgXTgjmu3Mj3fI2cFk8ZiUIMH+vS/No//wU3z8QXWyCcVCPN1+n1xbmc2NHS2\n",
       "sf+JiKMB4v0teWI6OgBjuIMtBXxh8Oy6oV2m/usm+26DQSuG9vnS4kQ8ZcyinAAAfM6u733/joSi\n",
       "v1XDnEjQAAA2blqiKlC8CiVdTHttSC7QGFb/GE0AtRuCcvKdaBpJroNMEEVJJfxgEpl6CElDML2R\n",
       "Zd4Zi1sWYZMcIviskR/1cyFCbZyI9E8jb17n1KcMWpYO/fXJyWUAWSlzBghHKFfpYzScpGjiibTy\n",
       "2Npk9sC79zLk0jPydkIKZtys/bEMyEGJQp+f/cuOb1nS6VUS6v6HPiBrNDp2i5lZhztD0LW0K9Co\n",
       "9VY7Z35jQXBDdU27IKanKNLNAtz3iVh+eTfMgPrVyukwFINpRA7us5mnqQhhyjLsRPM2p+iOviLn\n",
       "ohG1MBZSwgCYzmBUgbwtnrrB/syBmEGTTU7ETl9t1I4X8w2QJbjsBhK8NopNBtJfWMDiWTqbeucb\n",
       "sgWSETOXF2L8XHxbmyeOhAR36PHDcg2Ai6+Pp6jGPFHQmGomrPI+Z+RLDym5dQykciiIOP/7jyb6\n",
       "OjwwAAADAAADAAAEuU5Ib/qKOH8wpD5cyPhs9xcBs55qifPhTC2qT9NdrbA7q95X0rjcXW+x0CF2\n",
       "U5d1rJZNqnoePAQyHwYSOWYzk97Vsjo9PnAugo6PXecvm/F5aDJ0jBfjy5OXkEws4Jtzi80sYKpM\n",
       "CLd4o2ddsBO+n7EIaZgwum4h5IGEQ3VKzuwXCh5qicplC8unOVjgHwaFQe/yeO6FckulH6oWWilO\n",
       "BEvfZ2ET/+0EvJPGfCV21pLtW6997dxWoASdnslgRkbAzB1hmbkkVKvZatNhovji0q4j/BD5J6nW\n",
       "fpVJnS4DzD+Bnnn4SOPST/I+7mCMhrxruiSZAzvgrlHj/gYaOmjB9gvEfVn7P9QLjmrnXx9QovB4\n",
       "BUNLN+wa9wWPUzEbE/yCnIP6RL/5cmygSLuWJK+3rhsi7iMGCPen1oRUDpjj9Hv/U+HEUJgrCcHJ\n",
       "Ywa38DuXFwP5tgjGDR4Ur7dPF4Tivof6H0aY0ggXzRpyAcACNjGHagAtiSWdCgkCY2NILPZIVhqQ\n",
       "IlycCeA7lNjHjFev6AuaUGOZs0RYbvh81PjGfn/+6fNgFy/EN7pTf4RTw15I5dHPovrLBHR4Lquu\n",
       "RWeKdERaLAAZINJdMDaCEwRTpdn2IP+0/f/bQCZfj/h1QWfOUebNjIhXHtBv5DjTKIDJqsMnFabO\n",
       "thBBij+58BDPOE8Vs19SZuxEBELHlPRyEVfMApqrRbrh5q+bhbMxZmQATpjgLHPYk3gEDMwart0h\n",
       "NZAGAhx7w+B5miOzJb8A7Lk8TQsZdHi/KWc6yCv3ntdnEm4IFrD/wGFaDNSO2maP85IFa/H8YOyE\n",
       "jklTDEXvboe3r0dGVY2SdWIyHvoWJ7jkst9vMAW+/R/y50IyER2Lk8st5jipi6Tn62czY5yF2dB2\n",
       "tFVSrmuRvLFeL85Io3xfdbENMPlJ1rjEQGIMXRgiWFM8+GlzOmvyOtu6tPVfR68sFPe66yPe2Rmb\n",
       "R3LlT6woInMAlrOx7PtkisTyD9dZ4XrOc9Bu3rx+OCjSuS7GKD1M3fOqHz9fqO5yXkFsaSRf6Ul4\n",
       "EQsSJfnS/AOv09n21sXBNO8fAQ1LfF09KgEwxOFOyXeXanXnMeCgriAfJojEWbSboKIr7FX/jk/T\n",
       "KDedubCjhsselGr4k31nUfGDuMHowa/QuylDW6nASwObf0VekCLMO9bK51Nd3zuds4ULJcb27LOD\n",
       "CYOQJr4gD5i6QWz5AVDKy4WQ9hx2Di+wEibzaeVj7kU/rhW3RNmPwFd5KRseyxTF9xtpoUvk0y6J\n",
       "aiQhYQAjYKTcluNP64Zb9zBLJKhBKBxlju7SpGsoCP30+PXSIIqs46e2UPmnrneXBwwa+i5SLnpy\n",
       "jQ/NlHrq9TNFAXz8b2UNDKI5yBwmW49TgGIEB2qerMAgo/piRfxcdWXqdhvi6kedFTbHfwoaNy4J\n",
       "sjKyokPVDayjolCflUZDHVnu1AoqlTx7E8GX5cciMJ+FW0I8o/Hsf9609odPmHoNDVo35EuWaFye\n",
       "l9JLWsIgbs4PT+17D8AJ3tjdaRPWTUg4lT0xltBFjljOpolEuxjsSrIRt1PdBv26SQz8Y4v0+ijm\n",
       "ySRVJf/CKd1T8gRLCqZOgaM0f6h7L/WLgYFgPYjKh4EKC909pxPCREKXAI49vmE/EnAE7Vbe3F5w\n",
       "nfTGqzV/Evu3+XvRJF8aVRI/hmvfuKfAEN09YA+u9xtamkiAAF6pSrJ+j3AwOfinGHPvQrxAYzRD\n",
       "He3TMjzfMsCuH+p2My6aO3q35lCD3jVzLrtst6X5SebgXdY7D67MbgjPkGXn2Xi30lvQ0VT36hMb\n",
       "bFzhrt2fsYsqHGg/0q+xNVij12zgoVx75RyTyw4M5Fe3e8itLMRtY075/QRY8QKZXA7SIosXmVDy\n",
       "soCcicKFfYQ0WM2XPeeMknvHseT6+/gEWlFpEAfAbXftCFGE5wDgoVJB68UmnwDi8YRli47XSiYb\n",
       "jBCX5+TBhjy+USsvQLXR88wxHM1jz/TGWokMouYMcFuhKHE5kvrm2VExEjTs0ADS3hb9g0Yu8E4p\n",
       "yCWByU4xkZTkDBXmQkxLlp/gh+lfuOvAAQcFWr1UX/08reuiWZiB5zyyrt//fc/PlYWzce9tUD3E\n",
       "AVwEeXmYrLerLbeEw43UIGCfS4b2Fhl7GgI5s6X9znLTYJQWRGh/iAwo8gwu7Mj69Uhaz3+rSDfw\n",
       "fxHmx46zwZjsUmQhufd7vWlD1OqAZgrBRWpNCJ4lALBZicgyyn9w95fwvhTjs5+W59mIsha7uABU\n",
       "uYUG+hafRRMIL2zbiceZUbz42C/TQUfFNaMDe241N38gG9lsyl64rldkO5R3KYa96lwYUU1i4n4o\n",
       "xGqvpSBh0ieXCr6x8EeoLSAHP1n1Y7Q9tKnp8m7wK3Y2i0NH7O+O/312WA+t4PTQYgMcxDZXtToI\n",
       "mRY1SN/dxD4ylasXbwZPO6cE7nBuV0DketdaAEqjA4lETCHjMKAfp2FEwRcE+kup1yjlX6qnTQWM\n",
       "b591fGCFUIYrImBC7waVwfhv5oiDDBAB2qRWJQSA7F4aeVTsYxb07aMXmaLjlY3wvtBNOL8SIFTg\n",
       "2QhSLVxTc3/m/VtFt6DGtM1R+b5HrDmmSSadgYn+HrNqwmq/eQAZVaR679EHej2H06WX5JsM097b\n",
       "UxkshV6JTRBs9WJclN7v5laooSUAXLql3YUkKJyLic0yjcNEzB/KvMHzm/LenIJkSWF8VYZa+nCl\n",
       "jtELQwvsYQBXI0m66OPC/mSepW1GJXlzSgPHrhattm/o9PwTp8fa1du3FU3AGGVmviz6Ay9zg8DW\n",
       "aQUk89OIv6HHLI66tYVet60lbKGPvlHr27zE3IyTODxtHoJEzOQ97GLjsH7i6dpj1Ynd+dAAI24E\n",
       "OuRBOUkERtBNLN+//udmHkVphcOxFjY5M0/fEHFg8QpZFkX5gswen9dgoieLMrKEskBlE4tMdHGt\n",
       "kRhH4WuZYMrlN+cLFS24dG0DEBeNCpukBuqFQnBFi01Dk9e92otVOmgsZLfucjOCez9EWLFwy3cc\n",
       "VPsjMHvtOQ9BEoEB63+i7RXwTkMfpnWvdr0STcn9eFylo8FVjyoMPDWniHh2fTD64w5W6ytmsckq\n",
       "B+mIDhcmsNgaL026xUTVMz4xMgsKzxcH54ZxaR4zzlf/xPRFoV6TyxJoqQcjRWnShI7DuwSG3qcg\n",
       "PZu0CJ6i+UORPztjiE+Yui/pWDz2q1OYV93TAGQDxCcWJD32BDtta679X0TVE79c6p6JUwOwPy4v\n",
       "FDOdg+O3Kzb/ytNb9wHeOLi0dymBL6s7eipBeVkYOoN2o49mqOWpLy36glwN/ZNvbD/zA9e8M1tB\n",
       "oPn0chVLv3O1Q64cPUQx1jdtOOpChAlDJDZycqJIG4CcQFwQM4sCxCTuyAnsy7IyrvQec0WWdpYK\n",
       "rx3aiBQCv4Nk66BLKjz1oMVTVom6YO3LwY8kp+eY6VcsbjVpG1hV7xQXI1IwW4Mo6gINYsQzsbHR\n",
       "pltbuXhzwrXmtk/apufQmH71YtxQgjQ/nLivWvwLSwaquJxLVo8ZX0qvxuFZ9W4MD/Yo9yJLxfSB\n",
       "WEmGxhO9ZiDICzWzcT4JSysn3y2OEH1D2oj4cw8HxLRduYpAZhJADUQJWwYLHOmCh5CxUnDTOyoK\n",
       "3ChRaEuTQ3Imd2cg3iH+wz/wDKS8AxIJ2eaL7cmdTeru5VU8jme5TVxlYhL6HQKlJnCcHNNW6qAG\n",
       "hArBOpwjeCLA3CfnlBR7ddPEjkBxQC3Qo1I0UnlrMXmbTRiBnorJoE/yXvju2oJBNdzUV8pR0JTZ\n",
       "MZdr7MjJTl3Oy0F/dR3hwJy1JqQCFNhq29ofXF5PsdYWXxSO542pwlyKKW8MY4Cw3Pt+M2RW+PKB\n",
       "xK46fD4hegYzeY9h+UJHLf3UeYzB+Jtdtfv1ck70YpTLEZwnflSHAHMZf6RUNbwOu7KMdNzx1Gtc\n",
       "t1MJn5ps1JT4eMSgdpveW70dCXlj5L2VwAO6COQxtm9Rlz7OxASiGjsQDFwxpi72pV/5nNqUPkhy\n",
       "dPK4LCbp1jmqUND2gCbIyH0acFikbAMtwiayh7a9c4wD98Fz8TcQCCCaERd0rQnKVQgdy/OkceSD\n",
       "zZKYLc8crPrfgxdzqDv/Vh+y950IbuwomvZjVaX7S7Gg5dK6vCY/wnQSs16drpuPnsHgJTgIHHRR\n",
       "NiJUvy8fBG62+v4sSJobe5yvDror0wZUmoEstmdgxLa4zh6du0dXfXS1kZW/RiU2ZYKELHNqb5QT\n",
       "LPP/iO6cRTBYB3VMoRRV3s4mKA8BQ2nWMzlRkjHy7YQBywaw0S1nDAeOWHczWdvNTmsmE1dKbCW+\n",
       "a6m4BIPStWeZ+jvE/dlhxT+Xa8UYmJ2IjQpjmvfoRCXBVyHzCyXpQMP8f8LkUkZ7luBKMI+BLtdP\n",
       "gtD968vgDuoFetDnv8NJrBTUoyS7YEoJx36XNtsQ1JsXIG42b/9NMwlYh/zaBK7MU1R/F+E1efEM\n",
       "jQtpY1xxVES1sV5f2ZBmXTcAL0CgqkkuuM5NAuMXMQDWdC266iVFeMOXJUX+9rucMrZIujKhotuf\n",
       "l5MqGwVdjcFAhOH5XqpwYVaMa3HnA9zXL4IMb0R0fUx3bAfiptwU3hrW46eT3w8U1lGxMvsb5Rrr\n",
       "wPC+RdBuLkymxfvl6np2f1epBSfzUOu21Y7aA5RsKEWjxjuYaKcvj87DHnsV2Px//3CgaFH9mgg+\n",
       "8RH5n4zuWtiirwCgPNremNBOBdaNbpqqDO+ouFh4BHsDGSRFxWnLPNVVukskLUXU18jJMmfSopTC\n",
       "I0Q28AkCjsTojDqucB5QvK47/goKwuV3clnpP4gvQybN6tF4H5uXD9Cyw9MN7DROiS0kZMijddVs\n",
       "SVFvLjD61tBNTfZbVeQO8o13mtRhR16AU+EPmh5yloTFuLpCb2aGofo4B/20LuP/VmwwwdEnVFQG\n",
       "GAmip2Kqy9esnEQbIJ8mZSjDxnWzqRsOYpNLJy8zP9p2zVNn0pkBfbHnesOvUxZ25GEqFvrRJ0D+\n",
       "Krwxeaw1Bhha4UfAAaub45CC9gdfPsjNmi2w7dbsXtRBUBFvBMVU3HYJlKW8wmM3SUTd7WkARmBw\n",
       "TCT7EHfg1N1dQJXn55waLU81p2W0qqXgnq6RWxLXQd8he7tG+eP3mETpPcw9c6QyXpboN52Kqcr+\n",
       "aQku/hrbPuiK0p7KwDSRhKLVT7R6N8S4YQ7PZDnFn/YpVnjrsMV/G2FbUCxtm8sCu303ZC9zTbDh\n",
       "T5WDtjOHmqcAZPSGB8TWfg8m35KDeQ8jtRJbpq+JPw4FC3jHp8v/UF+8I2CXDLRRzUe1YoUgjCwK\n",
       "ISzYTLIcKz8EIIHFsSIgAAfNAAAAwEGaJGxBH/61KoA5q3OYAoByTXbe2850RqhgGir2APPz+wJ7\n",
       "KWkfhOuDEbvrr6OphAJjgkIPAjZ8UqEmL0aorUIsu2Ae+yV3PaBm1IM1xBkmEUSAC1bLFi1xyTlV\n",
       "87YWNwOzPPgQ37wCmc8pVxG/AOeFFhA5W/2Q9afx6wDhikcy686ol4Uk96g7+L2Ri0xuPvcoAAdT\n",
       "2Pf91juuMxy34cDP5pcGPehQCfK9SWqme3+e81kUDu4bykLV0wWjspvGwAAAADJBnkJ4h38AiJjh\n",
       "NLqVkPIvgPppiGWhYpNk0HpRen+Dg6wT5BTsUggACzCRKguryP4xowAAACkBnmF0Q38AxWnwNGF4\n",
       "VP9zXX8qoA0n5lpLKA2g5xyAAFN4VLYsCKwFwAAAABgBnmNqQ38AAAMAAaYuwEuQlecAA8wfDiEA\n",
       "AAAnQZpoSahBaJlMCCP//rUqgAAAAwBOG8G4AsPuYrfNnJl0Z7AAAAz5AAAAIUGehkURLDv/AAAD\n",
       "AANSSBomrDoVjV5yReJOFCQAP0ZE0QAAABkBnqV0Q38AAAMAAa/qqYA05nXVYAEdJuyhAAAAGAGe\n",
       "p2pDfwAAAwABpi7AS5CV5wADzB8OIAAAABtBmqxJqEFsmUwII//+tSqAAAADAAADAAADAs4AAAAh\n",
       "QZ7KRRUsO/8AAAMAA1JIGiasnSROLldfPYmxiABw3kiRAAAAGAGe6XRDfwAAAwABper7rhb7zgAH\n",
       "lgYygAAAABgBnutqQ38AAAMAAaYuwEuQlecAA8wfDiAAAAAbQZrwSahBbJlMCCP//rUqgAAAAwAA\n",
       "AwAAAwLPAAAAIUGfDkUVLDv/AAADAANSSBomrJ0kTi5XXz2JsYgAcN5IkQAAABgBny10Q38AAAMA\n",
       "AaXq+64W+84AB5YGMoEAAAAYAZ8vakN/AAADAAGmLsBLkJXnAAPMHw4gAAAAG0GbNEmoQWyZTAgj\n",
       "//61KoAAAAMAAAMAAAMCzgAAACFBn1JFFSw7/wAAAwADUkgaJqydJE4uV189ibGIAHDeSJEAAAAY\n",
       "AZ9xdEN/AAADAAGl6vuuFvvOAAeWBjKAAAAAGAGfc2pDfwAAAwABpi7AS5CV5wADzB8OIAAAABtB\n",
       "m3hJqEFsmUwII//+tSqAAAADAAADAAADAs8AAAAhQZ+WRRUsO/8AAAMAA1JIGiasnSROLldfPYmx\n",
       "iABw3kiQAAAAGAGftXRDfwAAAwABper7rhb7zgAHlgYygQAAABgBn7dqQ38AAAMAAaYuwEuQlecA\n",
       "A8wfDiEAAAAbQZu8SahBbJlMCCP//rUqgAAAAwAAAwAAAwLOAAAAIUGf2kUVLDv/AAADAANSSBom\n",
       "rJ0kTi5XXz2JsYgAcN5IkQAAABgBn/l0Q38AAAMAAaXq+64W+84AB5YGMoAAAAAYAZ/7akN/AAAD\n",
       "AAGmLsBLkJXnAAPMHw4hAAAAG0Gb4EmoQWyZTAgj//61KoAAAAMAAAMAAAMCzwAAACFBnh5FFSw7\n",
       "/wAAAwADUkgaJqydJE4uV189ibGIAHDeSJAAAAAYAZ49dEN/AAADAAGl6vuuFvvOAAeWBjKAAAAA\n",
       "GAGeP2pDfwAAAwABpi7AS5CV5wADzB8OIQAAABtBmiRJqEFsmUwII//+tSqAAAADAAADAAADAs4A\n",
       "AAAhQZ5CRRUsO/8AAAMAA1JIGiasnSROLldfPYmxiABw3kiRAAAAGAGeYXRDfwAAAwABper7rhb7\n",
       "zgAHlgYygAAAABgBnmNqQ38AAAMAAaYuwEuQlecAA8wfDiEAAAAbQZpoSahBbJlMCCP//rUqgAAA\n",
       "AwAAAwAAAwLPAAAAIUGehkUVLDv/AAADAANSSBomrJ0kTi5XXz2JsYgAcN5IkQAAABgBnqV0Q38A\n",
       "AAMAAaXq+64W+84AB5YGMoEAAAAYAZ6nakN/AAADAAGmLsBLkJXnAAPMHw4gAAAAG0GarEmoQWyZ\n",
       "TAgj//61KoAAAAMAAAMAAAMCzgAAACFBnspFFSw7/wAAAwADUkgaJqydJE4uV189ibGIAHDeSJEA\n",
       "AAAYAZ7pdEN/AAADAAGl6vuuFvvOAAeWBjKAAAAAGAGe62pDfwAAAwABpi7AS5CV5wADzB8OIAAA\n",
       "ABtBmvBJqEFsmUwII//+tSqAAAADAAADAAADAs8AAAAhQZ8ORRUsO/8AAAMAA1JIGiasnSROLldf\n",
       "PYmxiABw3kiRAAAAGAGfLXRDfwAAAwABper7rhb7zgAHlgYygQAAABgBny9qQ38AAAMAAaYuwEuQ\n",
       "lecAA8wfDiAAAAAbQZs0SahBbJlMCCP//rUqgAAAAwAAAwAAAwLOAAAAIUGfUkUVLDv/AAADAANS\n",
       "SBomrJ0kTi5XXz2JsYgAcN5IkQAAABgBn3F0Q38AAAMAAaXq+64W+84AB5YGMoAAAAAYAZ9zakN/\n",
       "AAADAAGmLsBLkJXnAAPMHw4gAAAAG0GbeEmoQWyZTAgj//61KoAAAAMAAAMAAAMCzwAAACFBn5ZF\n",
       "FSw7/wAAAwADUkgaJqydJE4uV189ibGIAHDeSJAAAAAYAZ+1dEN/AAADAAGl6vuuFvvOAAeWBjKB\n",
       "AAAAGAGft2pDfwAAAwABpi7AS5CV5wADzB8OIQAAABtBm7xJqEFsmUwII//+tSqAAAADAAADAAAD\n",
       "As4AAAAhQZ/aRRUsO/8AAAMAA1JIGiasnSROLldfPYmxiABw3kiRAAAAGAGf+XRDfwAAAwABper7\n",
       "rhb7zgAHlgYygAAAABgBn/tqQ38AAAMAAaYuwEuQlecAA8wfDiEAAAAbQZvgSahBbJlMCCP//rUq\n",
       "gAAAAwAAAwAAAwLPAAAAIUGeHkUVLDv/AAADAANSSBomrJ0kTi5XXz2JsYgAcN5IkAAAABgBnj10\n",
       "Q38AAAMAAaXq+64W+84AB5YGMoAAAAAYAZ4/akN/AAADAAGmLsBLkJXnAAPMHw4hAAAAG0GaJEmo\n",
       "QWyZTAgj//61KoAAAAMAAAMAAAMCzgAAACFBnkJFFSw7/wAAAwADUkgaJqydJE4uV189ibGIAHDe\n",
       "SJEAAAAYAZ5hdEN/AAADAAGl6vuuFvvOAAeWBjKAAAAAGAGeY2pDfwAAAwABpi7AS5CV5wADzB8O\n",
       "IQAAABtBmmhJqEFsmUwII//+tSqAAAADAAADAAADAs8AAAAhQZ6GRRUsO/8AAAMAA1JIGiasnSRO\n",
       "LldfPYmxiABw3kiRAAAAGAGepXRDfwAAAwABper7rhb7zgAHlgYygQAAABgBnqdqQ38AAAMAAaYu\n",
       "wEuQlecAA8wfDiAAAAAbQZqsSahBbJlMCCP//rUqgAAAAwAAAwAAAwLOAAAAIUGeykUVLDv/AAAD\n",
       "AANSSBomrJ0kTi5XXz2JsYgAcN5IkQAAABgBnul0Q38AAAMAAaXq+64W+84AB5YGMoAAAAAYAZ7r\n",
       "akN/AAADAAGmLsBLkJXnAAPMHw4gAAAAG0Ga8EmoQWyZTAgj//61KoAAAAMAAAMAAAMCzwAAACFB\n",
       "nw5FFSw7/wAAAwADUkgaJqydJE4uV189ibGIAHDeSJEAAAAYAZ8tdEN/AAADAAGl6vuuFvvOAAeW\n",
       "BjKBAAAAGAGfL2pDfwAAAwABpi7AS5CV5wADzB8OIAAAABtBmzRJqEFsmUwII//+tSqAAAADAAAD\n",
       "AAADAs4AAAAhQZ9SRRUsO/8AAAMAA1JIGiasnSROLldfPYmxiABw3kiRAAAAGAGfcXRDfwAAAwAB\n",
       "per7rhb7zgAHlgYygAAAABgBn3NqQ38AAAMAAaYuwEuQlecAA8wfDiAAAAAbQZt4SahBbJlMCCP/\n",
       "/rUqgAAAAwAAAwAAAwLPAAAAIUGflkUVLDv/AAADAANSSBomrJ0kTi5XXz2JsYgAcN5IkAAAABgB\n",
       "n7V0Q38AAAMAAaXq+64W+84AB5YGMoEAAAAYAZ+3akN/AAADAAGmLsBLkJXnAAPMHw4hAAAAG0Gb\n",
       "vEmoQWyZTAgh//6qVQAAAwAAAwAAAwAFnAAAACFBn9pFFSw7/wAAAwADUkgaJqydJE4uV189ibGI\n",
       "AHDeSJEAAAAYAZ/5dEN/AAADAAGl6vuuFvvOAAeWBjKAAAAAGAGf+2pDfwAAAwABpi7AS5CV5wAD\n",
       "zB8OIQAAABtBm+BJqEFsmUwIf//+qZYAAAMAAAMAAAMAFfEAAAAhQZ4eRRUsO/8AAAMAA1JIGias\n",
       "nSROLldfPYmxiABw3kiQAAAAGAGePXRDfwAAAwABper7rhb7zgAHlgYygAAAABgBnj9qQ38AAAMA\n",
       "AaYuwEuQlecAA8wfDiEAAAAbQZojSahBbJlMCG///qeEAAADAAADAAADACtgAAAAIUGeQUUVLDf/\n",
       "AAADAAS3I2CAthIY0SmyGGvaHCADDdWkgQAAABgBnmJqQ38AAAMAAaYuwEuQlecAA8wfDiAAAAfY\n",
       "bW9vdgAAAGxtdmhkAAAAAAAAAAAAAAAAAAAD6AAAJxAAAQAAAQAAAAAAAAAAAAAAAAEAAAAAAAAA\n",
       "AAAAAAAAAAABAAAAAAAAAAAAAAAAAABAAAAAAAAAAAAAAAAAAAAAAAAAAAAAAAAAAAAAAAAAAgAA\n",
       "BwJ0cmFrAAAAXHRraGQAAAADAAAAAAAAAAAAAAABAAAAAAAAJxAAAAAAAAAAAAAAAAAAAAAAAAEA\n",
       "AAAAAAAAAAAAAAAAAAABAAAAAAAAAAAAAAAAAABAAAAAAlgAAAJYAAAAAAAkZWR0cwAAABxlbHN0\n",
       "AAAAAAAAAAEAACcQAAAIAAABAAAAAAZ6bWRpYQAAACBtZGhkAAAAAAAAAAAAAAAAAAAoAAABkABV\n",
       "xAAAAAAALWhkbHIAAAAAAAAAAHZpZGUAAAAAAAAAAAAAAABWaWRlb0hhbmRsZXIAAAAGJW1pbmYA\n",
       "AAAUdm1oZAAAAAEAAAAAAAAAAAAAACRkaW5mAAAAHGRyZWYAAAAAAAAAAQAAAAx1cmwgAAAAAQAA\n",
       "BeVzdGJsAAAAtXN0c2QAAAAAAAAAAQAAAKVhdmMxAAAAAAAAAAEAAAAAAAAAAAAAAAAAAAAAAlgC\n",
       "WABIAAAASAAAAAAAAAABAAAAAAAAAAAAAAAAAAAAAAAAAAAAAAAAAAAAAAAAAAAAGP//AAAAM2F2\n",
       "Y0MBZAAW/+EAGmdkABas2UCYE3llhAAAAwAEAAADAFA8WLZYAQAGaOvjyyLAAAAAHHV1aWRraEDy\n",
       "XyRPxbo5pRvPAyPzAAAAAAAAABhzdHRzAAAAAAAAAAEAAABkAAAEAAAAABRzdHNzAAAAAAAAAAEA\n",
       "AAABAAADKGN0dHMAAAAAAAAAYwAAAAEAAAgAAAAAAQAAFAAAAAABAAAIAAAAAAEAAAAAAAAAAQAA\n",
       "BAAAAAABAAAUAAAAAAEAAAgAAAAAAQAAAAAAAAABAAAEAAAAAAEAABQAAAAAAQAACAAAAAABAAAA\n",
       "AAAAAAEAAAQAAAAAAQAAFAAAAAABAAAIAAAAAAEAAAAAAAAAAQAABAAAAAABAAAUAAAAAAEAAAgA\n",
       "AAAAAQAAAAAAAAABAAAEAAAAAAEAABQAAAAAAQAACAAAAAABAAAAAAAAAAEAAAQAAAAAAQAAFAAA\n",
       "AAABAAAIAAAAAAEAAAAAAAAAAQAABAAAAAABAAAUAAAAAAEAAAgAAAAAAQAAAAAAAAABAAAEAAAA\n",
       "AAEAABQAAAAAAQAACAAAAAABAAAAAAAAAAEAAAQAAAAAAQAAFAAAAAABAAAIAAAAAAEAAAAAAAAA\n",
       "AQAABAAAAAABAAAUAAAAAAEAAAgAAAAAAQAAAAAAAAABAAAEAAAAAAEAABQAAAAAAQAACAAAAAAB\n",
       "AAAAAAAAAAEAAAQAAAAAAQAAFAAAAAABAAAIAAAAAAEAAAAAAAAAAQAABAAAAAABAAAUAAAAAAEA\n",
       "AAgAAAAAAQAAAAAAAAABAAAEAAAAAAEAABQAAAAAAQAACAAAAAABAAAAAAAAAAEAAAQAAAAAAQAA\n",
       "FAAAAAABAAAIAAAAAAEAAAAAAAAAAQAABAAAAAABAAAUAAAAAAEAAAgAAAAAAQAAAAAAAAABAAAE\n",
       "AAAAAAEAABQAAAAAAQAACAAAAAABAAAAAAAAAAEAAAQAAAAAAQAAFAAAAAABAAAIAAAAAAEAAAAA\n",
       "AAAAAQAABAAAAAABAAAUAAAAAAEAAAgAAAAAAQAAAAAAAAABAAAEAAAAAAEAABQAAAAAAQAACAAA\n",
       "AAABAAAAAAAAAAEAAAQAAAAAAQAAFAAAAAABAAAIAAAAAAEAAAAAAAAAAQAABAAAAAABAAAUAAAA\n",
       "AAEAAAgAAAAAAQAAAAAAAAABAAAEAAAAAAEAABQAAAAAAQAACAAAAAABAAAAAAAAAAEAAAQAAAAA\n",
       "AQAAEAAAAAACAAAEAAAAABxzdHNjAAAAAAAAAAEAAAABAAAAZAAAAAEAAAGkc3RzegAAAAAAAAAA\n",
       "AAAAZAAAFQ0AAADEAAAANgAAAC0AAAAcAAAAKwAAACUAAAAdAAAAHAAAAB8AAAAlAAAAHAAAABwA\n",
       "AAAfAAAAJQAAABwAAAAcAAAAHwAAACUAAAAcAAAAHAAAAB8AAAAlAAAAHAAAABwAAAAfAAAAJQAA\n",
       "ABwAAAAcAAAAHwAAACUAAAAcAAAAHAAAAB8AAAAlAAAAHAAAABwAAAAfAAAAJQAAABwAAAAcAAAA\n",
       "HwAAACUAAAAcAAAAHAAAAB8AAAAlAAAAHAAAABwAAAAfAAAAJQAAABwAAAAcAAAAHwAAACUAAAAc\n",
       "AAAAHAAAAB8AAAAlAAAAHAAAABwAAAAfAAAAJQAAABwAAAAcAAAAHwAAACUAAAAcAAAAHAAAAB8A\n",
       "AAAlAAAAHAAAABwAAAAfAAAAJQAAABwAAAAcAAAAHwAAACUAAAAcAAAAHAAAAB8AAAAlAAAAHAAA\n",
       "ABwAAAAfAAAAJQAAABwAAAAcAAAAHwAAACUAAAAcAAAAHAAAAB8AAAAlAAAAHAAAABwAAAAfAAAA\n",
       "JQAAABwAAAAUc3RjbwAAAAAAAAABAAAALAAAAGJ1ZHRhAAAAWm1ldGEAAAAAAAAAIWhkbHIAAAAA\n",
       "AAAAAG1kaXJhcHBsAAAAAAAAAAAAAAAALWlsc3QAAAAlqXRvbwAAAB1kYXRhAAAAAQAAAABMYXZm\n",
       "NTguMjkuMTAw\n",
       "\">\n",
       "  Your browser does not support the video tag.\n",
       "</video>"
      ]
     },
     "metadata": {},
     "output_type": "display_data"
    }
   ],
   "source": [
    "N = 1000\n",
    "x0 = np.zeros([quadrotor.NUMBER_STATES,])\n",
    "t, x, u = quadrotor.simulate(x0, stabilize_controller, N, disturbance = False)\n",
    "\n",
    "quadrotor.animate_robot(x, u)"
   ]
  },
  {
   "cell_type": "markdown",
   "metadata": {
    "id": "t87blKMYYLnu"
   },
   "source": [
    "**Задание 2 (1.5 баллов):** Как вы помните, уравнения Рикатти как и базовый алгоритм ПМП удобнее всего реализовывать для задачи типа LQR. Однако, она имеет 2 требования, которые не выполняются в нашей задаче.\n",
    "\n",
    "Требование 1: динамика должна выглядеть следующим образом:\n",
    "$x_{k+1} = Ax_k + Bu_k$.\n",
    "\n",
    "Требование 2: функция потерь должна выглядеть следующим образом:\n",
    "$cost(x,u) = x^TQx + uRu$\n",
    "\n",
    "\n",
    "Для нашей задачи выписать подобные матрицы в общем случае невозможно. Попробуем нашу динамику аппроксимировать линейной в каждой точке.\n",
    "\n",
    "Требование 2 не выполняется, так как нам в теории хочется чтобы дрон оказался в конкретной точке. То есть, хочется минимизировать такой лосс: $cost(x,u) = (x-x^*)^TQ(x-x^*) + (u-u^*)^TR(u-u^*)$. Самый простой выход в нашем случае - решать задачу в терминах расстояний до конечной точки (то есть, новый вектор наблюдений - $\\overline{x} = (x-x^*), \\overline{u}=(u-u^*)$\n",
    "\n",
    "1. Выпишите аппроксимацию функции (пока без А и В, просто через приращения) $f(x,u)$, где $x_{n+1} = f(x_n, u_n)$. Keywords: второй закон Ньютона, линейное и угловое ускорение стержня, здравый смысл\n",
    "\n",
    "2. С помощью разложения в ряд Тейлора в окрестности $x^*, u^*$ выведите функцию $\\overline{f}: \\overline{x}_{n+1} = \\overline{f}(\\overline{x}_{n}, \\overline{u}_{n}) = A\\overline{x}_{n} + B\\overline{u}_{n}$\n",
    "\n",
    "3. Запрограммируйте подсчет этих матриц"
   ]
  },
  {
   "cell_type": "markdown",
   "metadata": {},
   "source": [
    "**Решение:**\n",
    "\n",
    "Пусть $\\vec{x}_{n + 1} = f (\\vec{x}_{n}, \\vec{u}_{n})$,  $\\;\\vec{x} = (x, \\, \\dot{x}, \\, y, \\, \\dot{y}, \\, \\theta, \\, \\dot{\\theta}), \\; \\vec{u} = (u_1, \\, u_2) \\equiv (F_1, \\, F_2).$\n",
    "\n",
    "Будем считать, что $\\theta$ - угол между осью $Ox$ и дроном, отсчитываемый против часовой стрелки.\n",
    "\n",
    "Запишем второй закон Ньютона в проекциях на оси $Ox$ и $Oy$:\n",
    "\n",
    "$$ Ox: \\; m\\ddot{x} = -(u_1 + u_2)\\sin(\\theta); $$\n",
    "$$ Oy: \\; m\\ddot{y} = -mg + (u_1 + u_2)\\cos(\\theta). $$\n",
    "\n",
    "Тогда получим:\n",
    "\n",
    "$$ \\ddot{x} = -\\dfrac{u_1 + u_2}{m}\\sin(\\theta); $$\n",
    "$$ \\ddot{y} = \\dfrac{u_1 + u_2}{m}\\cos(\\theta) - g. $$\n",
    "\n",
    "Также из формулы $M = I\\ddot{\\theta},\\;$ где момент равнодействующей силы $M = \\sum\\limits_i F_i l_i$, $\\;l_i$ - плечо силы $F_i,$ $I$ - момент инерции, $\\ddot{\\theta}$ - угловое ускорение, находим\n",
    "\n",
    "$$ \\ddot{\\theta} = \\dfrac{M}{I} = \\dfrac{r \\left(u_2 - u_1 \\right)}{I}.$$\n",
    "\n",
    "Аппроксимируя производную разностной схемой, получаем:\n",
    "\n",
    "$$\n",
    "\\begin{cases}\n",
    "x_{n+1} = x_n + \\dot{x}_n \\Delta t; \\\\\n",
    "\\dot{x}_{n+1} = \\dot{x}_n + \\ddot{x}_n \\Delta t; \\\\\n",
    "y_{n+1} = y_n + \\dot{y}_n \\Delta t; \\\\ \n",
    "\\dot{y}_{n+1} = \\dot{y}_n + \\ddot{y}_n \\Delta t; \\\\\n",
    "\\theta_{n+1} = \\theta_n + \\dot{\\theta}_n \\Delta t; \\\\\n",
    "\\dot{\\theta}_{n+1} = \\dot{\\theta}_n + \\ddot{\\theta}_n \\Delta t.\n",
    "\\end{cases}\n",
    "$$\n",
    "\n",
    "Таким образом, функция $f$ будет иметь вид\n",
    "\n",
    "$$\n",
    "f(\\vec{x}, \\vec{u}) =\n",
    "\\begin{bmatrix}\n",
    "x + \\dot{x} \\Delta t \\\\\n",
    "\\dot{x} + \\ddot{x} \\Delta t \\\\\n",
    "y + \\dot{y} \\Delta t \\\\ \n",
    "\\dot{y} + \\ddot{y} \\Delta t \\\\\n",
    "\\theta + \\dot{\\theta} \\Delta t \\\\\n",
    "\\dot{\\theta} + \\ddot{\\theta} \\Delta t\n",
    "\\end{bmatrix} =\n",
    "\\begin{bmatrix}\n",
    "x + \\dot{x} \\Delta t \\\\\n",
    "\\dot{x} - \\dfrac{u_1 + u_2}{m}\\sin(\\theta) \\Delta t \\\\\n",
    "y + \\dot{y} \\Delta t \\\\ \n",
    "\\dot{y} + \\left(\\dfrac{u_1 + u_2}{m}\\cos(\\theta) - g\\right) \\Delta t \\\\\n",
    "\\theta + \\dot{\\theta} \\Delta t \\\\\n",
    "\\dot{\\theta} + \\dfrac{ r\\left(u_2 - u_1 \\right)}{I} \\Delta t\n",
    "\\end{bmatrix}\n",
    "$$\n",
    "\n",
    "Пусть $(x^*, u^*)$ - некоторый допустимый процесс. По формуле Тейлора получим:\n",
    "\n",
    "$$ f(\\vec{x}, \\vec{u}) \\approx f(x^*, u^*) +  \\dfrac{\\partial f}{\\partial \\vec{x}}(x^*, u^*)(\\vec{x} - x^*) +  \\dfrac{\\partial f}{\\partial \\vec{u}}(x^*, u^*)(\\vec{u} - u^*) $$\n",
    "\n",
    "Введем обозначения $\\overline{x} = \\vec{x} - x^*, \\; \\overline{u} = \\vec{u} - u^*.$ Пусть $g(\\overline{x}, \\overline{u}) = f(x^*, u^*) + A\\overline{x} + B\\overline{u},$ где\n",
    "\n",
    "$$ A =  \\dfrac{\\partial f}{\\partial \\vec{x}}(x^*, u^*) = \n",
    "\\begin{bmatrix}\n",
    "1 & \\Delta t & 0 & 0 & 0 & 0 \\\\\n",
    "0 & 1 & 0 & 0 & -\\dfrac{u_1^* + u_2^*}{m} \\cos(\\theta^*)\\Delta t & 0 \\\\\n",
    "0 & 0 & 1 & \\Delta t & 0 & 0 \\\\\n",
    "0 & 0 & 0 & 1 & -\\dfrac{u_1^* + u_2^*}{m} \\sin(\\theta^*)\\Delta t & 0 \\\\\n",
    "0 & 0 & 0 & 0 & 1 & \\Delta t \\\\\n",
    "0 & 0 & 0 & 0 & 0 & 1 \\\\\n",
    "\\end{bmatrix} \\in \\mathbb{R}^{6 \\times 6};$$\n",
    "\n",
    "$$ B =  \\dfrac{\\partial f}{\\partial \\vec{u}}(x^*, u^*) = \n",
    "\\begin{bmatrix}\n",
    "0 & 0 \\\\\n",
    "-\\dfrac{\\sin(\\theta^*)\\Delta t}{m} & -\\dfrac{\\sin(\\theta^*)\\Delta t}{m} \\\\\n",
    "0 & 0 \\\\\n",
    "\\dfrac{\\cos(\\theta^*)\\Delta t}{m} & \\dfrac{\\cos(\\theta^*)\\Delta t}{m} \\\\\n",
    "0 & 0 \\\\\n",
    "-\\dfrac{r \\Delta t}{I} & \\dfrac{r \\Delta t}{I} \n",
    "\\end{bmatrix} \\in \\mathbb{R}^{6 \\times 2}. $$\n",
    "\n",
    "Т.к. $g(\\overline{x}, \\overline{u}) \\approx f(\\vec{x}, \\vec{u})$, то будем считать, что $\\vec{x}_{n+1} = g(\\overline{x}_n, \\overline{u}_n) =  f(x^*_n, u^*_n) + A\\overline{x}_n + B\\overline{u}_n = x^*_{n+1} + A\\overline{x}_n + B\\overline{u}_n$. То есть\n",
    "\n",
    "$$ \\overline{x}_{n+1} =  A\\overline{x}_n + B\\overline{u}_n.$$"
   ]
  },
  {
   "cell_type": "code",
   "execution_count": 24,
   "metadata": {
    "execution": {
     "iopub.execute_input": "2024-05-25T14:36:28.762911Z",
     "iopub.status.busy": "2024-05-25T14:36:28.761903Z",
     "iopub.status.idle": "2024-05-25T14:36:28.881795Z",
     "shell.execute_reply": "2024-05-25T14:36:28.880795Z",
     "shell.execute_reply.started": "2024-05-25T14:36:28.762911Z"
    },
    "id": "7Lf_QWcXqf7x"
   },
   "outputs": [],
   "source": [
    "def get_linearization(z, u):\n",
    "    m = 0.6 #масса\n",
    "    r = 0.2 #длина, деленная на 2\n",
    "    I = 0.15 #инерция\n",
    "    g = 9.81 #ускорение свободного падения\n",
    "    dt = 0.01 #временной промежуток\n",
    "\n",
    "    u1, u2 = u\n",
    "    theta = z[4]\n",
    "    cos_theta = np.cos(theta)\n",
    "    sin_theta = np.sin(theta)\n",
    "    \n",
    "    A = np.array([\n",
    "        [1, dt, 0, 0, 0, 0],\n",
    "        [0, 1, 0, 0, - (u1 + u2) * cos_theta * dt / m, 0],\n",
    "        [0, 0, 1, dt, 0, 0],\n",
    "        [0, 0, 0, 1, - (u1 + u2) * sin_theta * dt / m, 0],\n",
    "        [0, 0, 0, 0, 1, dt],\n",
    "        [0, 0, 0, 0, 0, 1]\n",
    "    ])\n",
    "    B = np.array([\n",
    "        np.zeros(2),\n",
    "        np.full(2, - sin_theta * dt / m),\n",
    "        np.zeros(2),\n",
    "        np.full(2, cos_theta * dt / m),\n",
    "        np.zeros(2),\n",
    "        [-r * dt / I, r * dt / I]\n",
    "    ])\n",
    "    return A, B"
   ]
  },
  {
   "cell_type": "markdown",
   "metadata": {
    "id": "iiziQoYteq0p"
   },
   "source": [
    "**Задание 2. (0.3 балла)**: теперь перейдем к оптимизируемому функционалу. На семинаре рассматривался функционал как сумма функций потерь для каждой точки.\n",
    "\n",
    "Не забываем что для удобства вычислений задача решается для относительных состояний и управлений\n",
    "\n",
    "\n",
    "Ограничим рассматриваемый горизонт 1000 шагами и сгенерируем целевые состояния для каждого момента времени"
   ]
  },
  {
   "cell_type": "code",
   "execution_count": 25,
   "metadata": {
    "execution": {
     "iopub.execute_input": "2024-05-25T14:36:30.995196Z",
     "iopub.status.busy": "2024-05-25T14:36:30.995196Z",
     "iopub.status.idle": "2024-05-25T14:36:31.129663Z",
     "shell.execute_reply": "2024-05-25T14:36:31.128639Z",
     "shell.execute_reply.started": "2024-05-25T14:36:30.995196Z"
    },
    "id": "XybNm_FR4d1p"
   },
   "outputs": [],
   "source": [
    "from copy import copy"
   ]
  },
  {
   "cell_type": "code",
   "execution_count": 26,
   "metadata": {
    "colab": {
     "base_uri": "https://localhost:8080/"
    },
    "execution": {
     "iopub.execute_input": "2024-05-25T14:36:32.720691Z",
     "iopub.status.busy": "2024-05-25T14:36:32.719691Z",
     "iopub.status.idle": "2024-05-25T14:36:33.082806Z",
     "shell.execute_reply": "2024-05-25T14:36:33.081799Z",
     "shell.execute_reply.started": "2024-05-25T14:36:32.720691Z"
    },
    "id": "s_FiVCilqhtG",
    "outputId": "2acfe311-50cd-4ef8-9684-50fc2d5f7108"
   },
   "outputs": [
    {
     "data": {
      "text/plain": [
       "(6, 1000)"
      ]
     },
     "execution_count": 26,
     "metadata": {},
     "output_type": "execute_result"
    }
   ],
   "source": [
    "xstar=[]\n",
    "for i in range(0, 1000):\n",
    "    if i >= 0 and i <= 450:\n",
    "        goal=np.array([[3],[0],[3],[0],[0],[0]]) # хотим чтобы за первые 450 шагов он оказался в точке (3,3)\n",
    "        xstar.append(copy(goal))\n",
    "    if i >= 451 and i <= 550:\n",
    "        goal=np.array([[3],[0],[3],[0],[np.pi/2],[0]]) # теперь говорим ему встасть перпендикулярно оси х чтобы дестабилизировать свое положение\n",
    "        xstar.append(copy(goal))\n",
    "    if i >= 551 and i <= 1000:\n",
    "        goal=np.array([[0],[0],[0],[0],[0],[0]]) # говорим ему вернуться на исходную позицию\n",
    "        xstar.append(copy(goal))\n",
    "xstar = np.array(xstar).reshape(1000,6,).T\n",
    "xstar.shape"
   ]
  },
  {
   "cell_type": "markdown",
   "metadata": {
    "id": "OQDlYGtWdY1a"
   },
   "source": [
    "По умолчанию мы хотим чтобы дрон висел стабильно в воздухе, поэтому $u^*$ - это управление-стабилизатор."
   ]
  },
  {
   "cell_type": "markdown",
   "metadata": {
    "id": "xNI1GcDdH-5A"
   },
   "source": [
    "Реализуйте функцию подсчета потерь по формулам с семинара. $Q$ возьмите равной $I*10000, R = I*0.0001$"
   ]
  },
  {
   "cell_type": "code",
   "execution_count": 27,
   "metadata": {
    "execution": {
     "iopub.execute_input": "2024-05-25T14:36:34.912275Z",
     "iopub.status.busy": "2024-05-25T14:36:34.911770Z",
     "iopub.status.idle": "2024-05-25T14:36:35.031616Z",
     "shell.execute_reply": "2024-05-25T14:36:35.030106Z",
     "shell.execute_reply.started": "2024-05-25T14:36:34.912275Z"
    },
    "id": "tDLXbsOGqsmd"
   },
   "outputs": [],
   "source": [
    "def cost_function(x, u):\n",
    "    sqrt_Q = 100 * np.eye(6)\n",
    "    sqrt_R = 0.01 * np.eye(2)\n",
    "    u_star = stabilize_controller(None, None)\n",
    "    x_overline = x - xstar\n",
    "    u_overline = u - u_star.reshape(-1, 1)\n",
    "    cost = np.linalg.norm(sqrt_Q @ x_overline, ord=\"fro\") ** 2 + np.linalg.norm(sqrt_R @ u_overline, ord=\"fro\") ** 2\n",
    "    return cost"
   ]
  },
  {
   "cell_type": "markdown",
   "metadata": {
    "id": "H301R6DkIc95"
   },
   "source": [
    "**Задание 3. (2 балла):** реализуйте полный прогон уравнений Рикатти для 1000 шагов. Вам понадобится получасть матрицы A и B на каждом шаге для вычисления управления. Функция должна возвращать список из матриц K и P."
   ]
  },
  {
   "cell_type": "code",
   "execution_count": 28,
   "metadata": {
    "execution": {
     "iopub.execute_input": "2024-05-25T14:36:36.712299Z",
     "iopub.status.busy": "2024-05-25T14:36:36.712299Z",
     "iopub.status.idle": "2024-05-25T14:36:36.847422Z",
     "shell.execute_reply": "2024-05-25T14:36:36.846440Z",
     "shell.execute_reply.started": "2024-05-25T14:36:36.712299Z"
    },
    "id": "MmjhxwBIhNau"
   },
   "outputs": [],
   "source": [
    "def back_Riccati(x, u, i):\n",
    "    N = 1000\n",
    "    Q = 10_000 * np.eye(6)\n",
    "    R = 0.0001 * np.eye(2)\n",
    "    K = []\n",
    "    P = []\n",
    "    \n",
    "    u_stab = stabilize_controller(None, None)\n",
    "    P.append(Q)\n",
    "    for _ in range(N - 1, 0, -1):\n",
    "        A, B = get_linearization(x - xstar[:, i], u - u_stab)\n",
    "        K.append( np.linalg.inv(R + B.T @ P[-1] @ B) @ B.T @ P[-1] @ A )\n",
    "        P.append( Q + A.T @ P[-1] @ (A - B @ K[-1]) )\n",
    "\n",
    "    K = K[::-1]\n",
    "    P = P[::-1]\n",
    "    \n",
    "    return K, P"
   ]
  },
  {
   "cell_type": "code",
   "execution_count": 273,
   "metadata": {
    "execution": {
     "iopub.execute_input": "2024-05-24T20:21:02.949301Z",
     "iopub.status.busy": "2024-05-24T20:21:02.948282Z",
     "iopub.status.idle": "2024-05-24T20:21:03.051016Z",
     "shell.execute_reply": "2024-05-24T20:21:03.050012Z",
     "shell.execute_reply.started": "2024-05-24T20:21:02.949301Z"
    },
    "id": "OKy7KGLm0K9H"
   },
   "outputs": [],
   "source": [
    "#K, P = back_Riccati()"
   ]
  },
  {
   "cell_type": "markdown",
   "metadata": {
    "id": "MBhPAnJ5JRYK"
   },
   "source": [
    "Реализуйте генерацию управления с помощью полученного массива матриц K. Помните что мы решаем задачу в терминах относительного состояния и аппроксимированных матриц A и B. Поэтому, к вычисленному по формулам с семинара управлению требуется прибавить стабилизатор."
   ]
  },
  {
   "cell_type": "code",
   "execution_count": 29,
   "metadata": {
    "execution": {
     "iopub.execute_input": "2024-05-25T14:36:42.506669Z",
     "iopub.status.busy": "2024-05-25T14:36:42.506669Z",
     "iopub.status.idle": "2024-05-25T14:37:58.691098Z",
     "shell.execute_reply": "2024-05-25T14:37:58.691098Z",
     "shell.execute_reply.started": "2024-05-25T14:36:42.506669Z"
    }
   },
   "outputs": [
    {
     "data": {
      "text/plain": [
       "((6, 1000), (2, 1000))"
      ]
     },
     "execution_count": 29,
     "metadata": {},
     "output_type": "execute_result"
    }
   ],
   "source": [
    "u_stab = stabilize_controller(None, None)    \n",
    "x0 = np.zeros(6)\n",
    "\n",
    "x = [x0]\n",
    "u = [u_stab]\n",
    "\n",
    "for i in range(1, 1000):\n",
    "    A, B = get_linearization(x[-1] - xstar[:, i], u[-1] - u_stab)\n",
    "    K = back_Riccati(x[-1], u[-1], i)[0][0]\n",
    "\n",
    "    x_new = A @ x[-1] + B @ u[-1]\n",
    "    u_new = -K @ (x_new - xstar[:, i]) + u_stab\n",
    "    x.append(x_new)\n",
    "    u.append(u_new)\n",
    "\n",
    "x = np.array(x).T\n",
    "u = np.array(u).T\n",
    "\n",
    "x.shape, u.shape"
   ]
  },
  {
   "cell_type": "code",
   "execution_count": 30,
   "metadata": {
    "execution": {
     "iopub.execute_input": "2024-05-25T14:38:01.103662Z",
     "iopub.status.busy": "2024-05-25T14:38:01.103662Z",
     "iopub.status.idle": "2024-05-25T14:38:01.235211Z",
     "shell.execute_reply": "2024-05-25T14:38:01.234212Z",
     "shell.execute_reply.started": "2024-05-25T14:38:01.103662Z"
    }
   },
   "outputs": [
    {
     "data": {
      "text/plain": [
       "(5988, 1998)"
      ]
     },
     "execution_count": 30,
     "metadata": {},
     "output_type": "execute_result"
    }
   ],
   "source": [
    "np.unique(x).shape[0], np.unique(u).shape[0]"
   ]
  },
  {
   "cell_type": "code",
   "execution_count": 31,
   "metadata": {
    "execution": {
     "iopub.execute_input": "2024-05-25T14:38:03.149656Z",
     "iopub.status.busy": "2024-05-25T14:38:03.148656Z",
     "iopub.status.idle": "2024-05-25T14:38:03.289513Z",
     "shell.execute_reply": "2024-05-25T14:38:03.288529Z",
     "shell.execute_reply.started": "2024-05-25T14:38:03.148656Z"
    }
   },
   "outputs": [
    {
     "name": "stdout",
     "output_type": "stream",
     "text": [
      "98127080.88210289\n",
      "3520320.218169436\n"
     ]
    }
   ],
   "source": [
    "print(cost_function(x, u))\n",
    "print(cost_function(np.zeros_like(xstar), np.full(u.shape, m * g / 2)) - cost_function(x, u))"
   ]
  },
  {
   "cell_type": "code",
   "execution_count": 32,
   "metadata": {
    "execution": {
     "iopub.execute_input": "2024-05-25T14:38:05.129561Z",
     "iopub.status.busy": "2024-05-25T14:38:05.129561Z",
     "iopub.status.idle": "2024-05-25T14:38:05.279516Z",
     "shell.execute_reply": "2024-05-25T14:38:05.279516Z",
     "shell.execute_reply.started": "2024-05-25T14:38:05.129561Z"
    }
   },
   "outputs": [
    {
     "data": {
      "text/plain": [
       "(4.905549375665992, 3.0617643827893297)"
      ]
     },
     "execution_count": 32,
     "metadata": {},
     "output_type": "execute_result"
    }
   ],
   "source": [
    "np.max(x[0, :]), np.max(x[2, :])"
   ]
  },
  {
   "cell_type": "markdown",
   "metadata": {
    "id": "SWtzpGsGz77C"
   },
   "source": [
    "Проверьте управление. Для получения полного балла необходимо чтобы дрон прилетал  в точку (3, 3), и возвращался в (0, 0). ВЕКТОР ЦЕЛЕВЫХ СОСТОЯНИЙ xstar МЕНЯТЬ ЗАПРЕЩЕНО"
   ]
  },
  {
   "cell_type": "code",
   "execution_count": 33,
   "metadata": {
    "execution": {
     "iopub.execute_input": "2024-05-25T14:38:07.220981Z",
     "iopub.status.busy": "2024-05-25T14:38:07.220981Z",
     "iopub.status.idle": "2024-05-25T14:38:14.796141Z",
     "shell.execute_reply": "2024-05-25T14:38:14.795120Z",
     "shell.execute_reply.started": "2024-05-25T14:38:07.220981Z"
    },
    "id": "VGLgxQIl1Vfy"
   },
   "outputs": [
    {
     "data": {
      "text/html": [
       "<video width=\"600\" height=\"600\" controls autoplay loop>\n",
       "  <source type=\"video/mp4\" src=\"data:video/mp4;base64,AAAAHGZ0eXBNNFYgAAACAGlzb21pc28yYXZjMQAAAAhmcmVlAABnoW1kYXQAAAKhBgX//53cRem9\n",
       "5tlIt5Ys2CDZI+7veDI2NCAtIGNvcmUgMTU5IC0gSC4yNjQvTVBFRy00IEFWQyBjb2RlYyAtIENv\n",
       "cHlsZWZ0IDIwMDMtMjAxOSAtIGh0dHA6Ly93d3cudmlkZW9sYW4ub3JnL3gyNjQuaHRtbCAtIG9w\n",
       "dGlvbnM6IGNhYmFjPTEgcmVmPTMgZGVibG9jaz0xOjA6MCBhbmFseXNlPTB4MzoweDExMyBtZT1o\n",
       "ZXggc3VibWU9NyBwc3k9MSBwc3lfcmQ9MS4wMDowLjAwIG1peGVkX3JlZj0xIG1lX3JhbmdlPTE2\n",
       "IGNocm9tYV9tZT0xIHRyZWxsaXM9MSA4eDhkY3Q9MSBjcW09MCBkZWFkem9uZT0yMSwxMSBmYXN0\n",
       "X3Bza2lwPTEgY2hyb21hX3FwX29mZnNldD0tMiB0aHJlYWRzPTE4IGxvb2thaGVhZF90aHJlYWRz\n",
       "PTMgc2xpY2VkX3RocmVhZHM9MCBucj0wIGRlY2ltYXRlPTEgaW50ZXJsYWNlZD0wIGJsdXJheV9j\n",
       "b21wYXQ9MCBjb25zdHJhaW5lZF9pbnRyYT0wIGJmcmFtZXM9MyBiX3B5cmFtaWQ9MiBiX2FkYXB0\n",
       "PTEgYl9iaWFzPTAgZGlyZWN0PTEgd2VpZ2h0Yj0xIG9wZW5fZ29wPTAgd2VpZ2h0cD0yIGtleWlu\n",
       "dD0yNTAga2V5aW50X21pbj0xMCBzY2VuZWN1dD00MCBpbnRyYV9yZWZyZXNoPTAgcmNfbG9va2Fo\n",
       "ZWFkPTQwIHJjPWNyZiBtYnRyZWU9MSBjcmY9MjMuMCBxY29tcD0wLjYwIHFwbWluPTAgcXBtYXg9\n",
       "NjkgcXBzdGVwPTQgaXBfcmF0aW89MS40MCBhcT0xOjEuMDAAgAAAEZNliIQAP//+92ifAptaQ3qA\n",
       "5JXFJdtPgf+rZ3B8j+kDAAADAAADAAAVyyel5L5/wAdKxn/fJHJ0OhhBNFkv5JG4hWfwxy3RjVIZ\n",
       "F5c2Qh4JAQh/dzXefgGC9D9qbn7SmpV/F9W6Cabq9KzCf8m/1tZvNkIjRL7n+dwVe28UcyhcDo8B\n",
       "OYlISsvxPs8g3o1Uq3EQ/apFFdv0JT49ospX0rN7U7sNzOvTnmLhDQ0R5Qhji+micXRY3Q0rhoa9\n",
       "v/kLIUvMeNcl3y15+f+Diz9UUkh/0i8SNQUbuC167cuKAQfx5ht2S9mMAmdsrO+UlRMghXjQyOxw\n",
       "X1y3G0w2cFYwE4KuT9LtSma0lyJGNUkfnDGVZmgfXgjjh7P+bGi68EAWmpcHMlsfdD1GN7ic/wRN\n",
       "yiNqjZfRqp4Kk9/Rt4/9sSB43PZTX0OoMQRDkZDbrMGBN5b9sxumSi5Eb1oODjyg8TsKEVCDY7Lm\n",
       "YKWDEJx5Ikb2mMRa5tn4x+k53wMvBWlUf1q5YP57B14Tq118JPgyE3HR12kv8b/MVOYqZtgZOwuJ\n",
       "RPEdrJhnsiNIfOnaXaM69927HSKxzCXCXm6X2a7B8GQJJAlXaSXnO6NPeZIyAm0Y9m7RhvcDeRzS\n",
       "wp69SKhEaHU/E8hLb3m7TofR60gmFhvGnZmx8aofrZ5AVQ8yzPZDBChtas+wUo/jdM0FSbo7DEvV\n",
       "eUnCxm3Ik8KMFzWMlcV6SerlCIq+eB59mjhatqDiLObWIlL1OCbq9aaJkhTMwuP0SC7byB5WJEL2\n",
       "zQQf9XSQ2FLaegk8rZ+n6cHmyXXJefXBjP8AWFYDm5FidslsYgQDw9tY9PvNdEMWKJ32KerlCTTq\n",
       "OrewQ+4uAKJ5Janw8JAAkVrr4P55omUPzT/7T1GbE8voGrwqNKbl1DKQHKnV0DZbbIQM2IoAAAMA\n",
       "B0AAAAMDYS1owNzoaz4O0Hy5kfDZ7i4DZzzZ59uyIVW3umoI5eEksCFTX6E0LN7HQIXZTiFqZrAo\n",
       "gJ2ikMh8GEjkf96fnmFdaZyYrHbf4YTx7cIg3ZDJvYcPoP2UVOYTO9ChpxhxeaWMFUmBF4MB7Gu2\n",
       "AnfT9iENHiXr1HhvrG2AtS2fmLKj8n8tDAF6Av2nDcfUbpnasNVyPP+KuES7fRYr0k9XKBCz/OCX\n",
       "pSxkmfE5QY6RwktvC8IQt5wa//MMQlQRPVvEgYfUN3QF9+chD7L0sxl1lW6XlO3F8WHEgeVgEvt6\n",
       "gYDk0L2nsuNei55LhbrmMWDUvHD6t1qM9haOLKck/oPWqrZuWVEPqJK8kW8fT9VZY9mYQfl7LXbY\n",
       "1dKvJTcsnS5eAd8Dw/KILTE67VmjP4284JKsqCiUrnejJUK8rXN7fWR76HYEF/deKdIuitKyvYj5\n",
       "YnZParWR/NHZZSbiliDp1lAADH8EvYq/Z5ACVbfn/qwk5bFxlkRH6ZuhWGpAiXJwJ4DuUpp9mK9f\n",
       "0Bc0oMczYxiw3eNUK94d/yJM3b/q7JNEoOWO0quMf4+lkWoY/VLEMPDMFfiOkCx5fwxD1vn67Frt\n",
       "JzfCcjnEQsBDpmGnlsQv83LI2fqgunSTMby4/J2aU0kZtSxTnqYsnqGeAcAdw1pyZPmZY15/OTv4\n",
       "avpZELSICDS9iadXwAqJjiYk3t/hmPQXg2wVobyh/mefEVIN96zru1joGXensANtDWoXsfwL2FCS\n",
       "4CeEUJQ4rlgKu81bTwoZWSdRXLdCmKNDpNBpZFKNB0Q30nYl97OfVpXiU80O8rOIHW+Ml4Tr4KEY\n",
       "EYse6+FVF/zk/jDV3NFR8Mvyt7n7tyaIhMGiTYq9LETxTr74KIcPDGakYBVlxx7WrFg9RQ5ypUan\n",
       "ok0cProgUoPPeWCZsoMGCYF1wg31VDUd94fcyktsT9EAtP1Avbh6FWD/F0p9rgN2iVQD2cHatvun\n",
       "l6cMJSQAaNFEdRn0l/I8yk6a3LeSsVlutvGm2wZHP9+AhP3sYpim9TbsAAupA9AXONdYybMEDXzD\n",
       "w/Ts2KtU/XBSQkXKExtxNu/wyB3sbXV2vQauGmLX+NgQSL1vm7y2m9CQK4EtlD72LLYrAZobfRVC\n",
       "WQ1lHpmW8qIy0H5xNYf8vfnYYNd4A5GJ1zINEWyZjLJw2MCUirx8CKBcg0IwhIu5yPi3lUdLjsNH\n",
       "GFi4AqNTPrKmlBgUmWwAOXKaXRHuXbZpv1L/HOc5zRBo8P9JxdwLyocOd2rDU3q2mdd0MwjdFCn5\n",
       "rQhQuEFh9chfQJwGcRDt0BYPQkl1wzWy50OIBsartj1w0aE0GbvCMT2odreqllXKugo1FCE/M2EA\n",
       "HfwHyYJes5nWgZE2LbAqK533RRLeMbabXgQCcO86FDqlsvaWtN6J+5kF07ImKAC6RncHzBEXFa4K\n",
       "Ye0iaIgX12lzCFh1eGD8fh3yrL+84LW5KzBTl/F1ITqAqA0DjqJ7aTUZx9LGEiNnCPlTAc6aXO6z\n",
       "2UXJmFl7T2CeGqR858XSfpBKlSjAfzq4ouYXYyUnbOgwAGXBVLVZY/VBcHuTk6QWY2MeaDBymeFV\n",
       "wuvW/4K89MIIIUJSzG/q6ZWYXosniyeYW7TuaNX7xIpK12h7zM3pwpEL86TtLUwAWDbIL/7tnMws\n",
       "0m9XyGEyFmYyHoCpNkwUCIVVSXCo4mxJQjzzNuc70BVId+WP3uQZWpYYFzlvKZb2tqK/Io0W8qrv\n",
       "5UqWH2fzbJ3jFt38GnrNLNFqOnx+2ckqA+5GCSeK15tbhi47XRtx7z6N27KeH4r1+LJKoX9jwb4n\n",
       "2Iv+cgfSmBylQo/N2aHDRyfAZjkDDi9BHNzDx+gE+6Ofed0f542S/U1QnHB5lL/MUOTByU7wXV80\n",
       "sE1LYzRGll0zLwAAAwAGKAAAAwCG/Vl1jdvuwhjzuWGpj4m/LbkNDofzAnMt8i0UApYsk/KTCWkY\n",
       "Mr47FGWJifxAVBZEaH+IDBZ8YjUca/acIWz4y5whZkg2bb06RezakjsUmQhufd7vWmVSZz9vsJY2\n",
       "aXCT4OTkyOiZHxFZT+4e8v4Xwpx20xwOfZiLIWshbcJ8ARB1wnKOlYx/9H7epol3I+9idQTkE+U3\n",
       "wHZxUoa+M4T99Eff2CpXFA4C7G1waOeuEBiBkImAJ4Ybn5j4B1oLkLAMPftxOZG+N/zxhMdAj2Q2\n",
       "tTnr0uQzCGRgo5uRJr3BEykGbdUu8UMUXYpsHzsUozdwXGgEW3qtH+MDS4gQbH9lPXjGrknyoauE\n",
       "I1mEheWMHgBSYhySXCj1S5lPTPkDn4qp5IKcH/bqNCB0Apo/MgUr+VNx3J5aaIgwXAKKYGobSx11\n",
       "ciFtlh4wrx0qNZDyXRUsixhYWVSh2e+nE19/1JDmr6/TGpib6QCvI9uMjCSTVcHx/h6zasaWPnct\n",
       "Y19HzYMdkx3//8hmsYpHBs+YuzIhZzjoCU0QbPOpy2mqL1v9WnW0VEQn5GNkr5yBI1FfFMyDUaXl\n",
       "bjC6TflvTRn2J6mghIzr/Bh7fkFzzFPDp0YDESUNPWVRYDkXs9On7n3OOkMe2Zq22b+j2fCVyiQs\n",
       "Lt24qm4A5peMdqvoDJ2VjIuc1S0P3Q+ChxAZzQdSpXmpafDjCXGLWHyfpX1ZvlkQNjMNm/XSZdCg\n",
       "RI3NAVc4tl76yDGoH1Yl6DrpPlEsCpC5ua3jPnfvSUrsgJpg4onbqam2UDcyTXogLuIy3ihn/wz+\n",
       "XBzYPnYpRm7fuN/nupEnENP895Ys7qiePwwzrCc8dR1GkwbDUTvwBtkBF0RorRgCbo9YBh79uJzJ\n",
       "Id/ZKmOxFXA/dnmR71g1nV1FBL5YnHGaUms5cDEPpLOpsulcD5/Sb7JT3nwl3TmE2vsO/OHlZkk9\n",
       "Do8x/4874+cYxowZPVBRFpFLNBUPTbrFRK+q/GNkFhWeLg/PDONq27aeMc1RXcWN+k8sSaKjpWnF\n",
       "3rXrlh3YJDb10YSHmLdE9RfKHIn57rms+Yui/pWDz2ov6YXF3TLiCTxCcWJD5D2ZAu4tPDqloRPT\n",
       "eVOiQ2SivfWjK0ecUJIZZJgP9FO6RSsTUVlwJFKpvWwcnm/XD982b04k1+8p62RMBngfgwP7wAla\n",
       "LaKeStqmfr8e8TkOWqh3jz0yNGX90SRoQf9T0aYr3wg/2gjRwrUfjlGZsYVd7uT3wp9aKkrwFCWW\n",
       "bNxpmBoFwDVjsk1AM8D+dn+HJoF9i8vBt1UXL5oh9bzPi9a2IqrG1o6mb7y+rEaYt000deVANQ1C\n",
       "yubKsIYdJbQuhnnC32tVhzTjMVhc+TL8KmWbIHW3yrfb4qzWTazm5taY09pNTpXfpB5wb/hqHD0/\n",
       "ClKuMWiDCCN4I8dMiGWfCboNmiHvOOukz+18oVBaKXJRtlSqNcNvzYkZZJFZIuRjq3dtpzAOt/0v\n",
       "I9G9gEBoTjFUu/8LEYm1HDFZcjvCEsJsAueiddX7ckwO0f+9H1FSRS0WjzBWFy4Vg4qw4g/dbxNf\n",
       "E+y1gWASvk/RT/6AlIVXZvTuqXOYhyBW7KaOwawLNezHc3fHpu73iagC3d3rMlYheU9rLl0L8+o7\n",
       "Mq+CgqbpB5sv5rMJATs8sCuAmPsDlEZlcLmsZMZr01L+uPwHOeShHQRK3/2veNAIo3uI6tr3ggmw\n",
       "4nNie5bmHm7hQlAHaakIlFZx7Nv32yTDNKtI2uAM8UX45UbaT5XwyRhC3m36K+9maS9S7ItXzFY5\n",
       "e8i2k0RHS9aOdZIxGSTgb4XV4VfhqfbUXlgNbzHQoe7scHoZODjENQfRQrQis6onjhfaaD9FBfT9\n",
       "Po4VwYNOW072FX4QONqIboO+c991CSEB5azP6YeCK5BfEGtptbOOnwJRUvYfvVxUm5ypmxQTtv1F\n",
       "DwEop0dbfN5A+meOmsszKEPn5/zLFWEvJ/LWzjb5NyHA7msOFhLPBhQhsy+Yn0orh07GE894WjcP\n",
       "KAcwZNsDmeB0imLOKV0/ZKYntb4fQcN8qDAGnapGSHJopdkcQaG3iXHwrdnXtqJz0zG4AVyraety\n",
       "FZAewZvV+n9xUvIszYQqwsaC/JTPT3iJALqQzdD1i9CXEy4I1fT3LuHxm+rXVhM1mkZrXnjnLFS7\n",
       "EGi+KJVNqwJrcmUn43wqDVvIXiFU1OG54knw4mv5ciOI54pIIbtpUZ+Vqkb0lP0Wq1e4prd/bKMD\n",
       "AE/8vWJjYDbXf71FVn9NFNPlX1dvqmgjXcy4ZV2ECFJTJkkjm9o5LFnxA5puowIrDtbtB/9jB7HA\n",
       "YjVzw4XSOnsHaui5DVisXg4OeE1P1m+YAPGkD3998IZjpa3XxJPU4rvGi7QW2jF3uSAmNs7VvgMX\n",
       "t8N/SZVwGbR8fO3Ye9oEEdUuyr2gTTD2P8dM0k915NMXhn9Gl4hqLQMaUD2rvfzQ7qzX7CmBEFBD\n",
       "/P4yER00w2i+lvGz+iSi1sNu06LuOjmGClNTJommAtk1tvYHexospczFYdmxhvIyRifyx84R2bUl\n",
       "xhkic6TmdW//bvty3iR0k4K5PNGJ7bo+SKXQ4wggDBmZrIr/ZNtdxkdvrlOvgdvndpfCC/iT8rwB\n",
       "etUNepyN4pvcT7dBCHpOKjuyiGsFcGwJyoVV9vjiWAaBfEmMeMzot3j0jVjdKZ42hGoxZnWwg+x9\n",
       "x8UFjdaDILci8E5JhZEX8WDTradcPg660WrCgh6MgSfJANIhMIUdC6BlD/lNMjlP2WZ9mKgvitR0\n",
       "2dkkzI4odGi8+oy5yOotCSpYvjKDEocYLhe4oRBwJk66wjByl9ibMYBSqa7W9agl9aKdAj0y+RS1\n",
       "8MaqQqTv1yvA4rR9b21oK5UYH1xQWAxRiLCDpTP6DkaeoSbawwgG25yx7NG/dwC8JuFQl0kNmgXy\n",
       "/ziiCvZcPVNSNC99T8oHQk/WPCMcJ5NJWYRlpxl/Yol6fuvq1PhQRw9pyp+bObcBD27NImxtY/0O\n",
       "Y6kSCbhvPaG3A22QG7ELK6r0AUJosgfWIIxnttA0D2w2oDgzR8qfxO2lf5kwr1fvQWq1yqLHAMIz\n",
       "gsmBy+QNFwOkQJp/sJHP3n0X9R6eQKr23O5CP15UEASNOQAwIQAAAhNBmiFsQ//+qZYA2lazAQq0\n",
       "Vc/11B7xeS3FYZ3TUvE0kOgH1r1HYXP2FG5xYYVRwgHq7Ddo0/6WAnxU8tDvUofsvwj//W8AWMWL\n",
       "ev9xMU0JFA9WbIetVRYu/37+WsE5Z2gXYS7pM6+RJwrpUWCAvA2r0deQQ/lGq3/B7XbzpSULXJAW\n",
       "Hv3wJJfLLUFP1zDRQIitbuIZnRlSfT9wnLMHn0Qmo2JhUx7gf+PoIa6q2oqtTRGBmvLb2yZZw/MX\n",
       "SZdZmF009zInMVuu5n7ThxvE/DWxfpZcOOuD7Cv2JyTS2S+QEQb6SH72qhd2aeie1grSXlZ0Hzfe\n",
       "xhPvanWAA0p7Qlf8q/Oq9JoHseu6oPQrT6W3N0WJclwcwh1eE8H/KrBGLAOgKUKX3PA+bCPU1mjY\n",
       "Io1E548Rh5lXP9j5CmCUJJgQJPw7s1TDJmxabSmdL9UH5rdlRv6UqEp/G7Il0MhKG9nwNkuSFYEL\n",
       "DJhU9Tmmkgl1wckoKCHUqteAny9v/A4sRWK9ICZ5mylkwqaOqBS1hhDGWeKNIJEhOdRivfp5i5Qc\n",
       "WMw0hRkZlOg9ro29fnskO4XE3DPjWeKub+YjJW7HPEfHYOmiFv9FX0gKE5OUAQdFH5UPbWBZsKpR\n",
       "GgilmDbm44fGjpC9I1Mg4bn3hyJ1h1Rf2aGN5rzz0YoWk+lOiAFvURI7InSXyJ8Ac1LUmowMvjlY\n",
       "m1AAAAFkQZpCPCGTKYQQ//6qVQC1IVQHAAWs95/9oIi8se1GEZRE2rm1tQBuEXkqU9Cw/hd3Fpyd\n",
       "HXGw/yasomcKV/zUYZpy6HTgkKQqMSmkWjruiLM8UXaYxRfPMtOKsoV9wmolRy2ticxSCmJ6NPYw\n",
       "OuhnJfh1LzHdHUTvcR7yE1UvKLkdjiprh0V36ypQP7vSycSh31AEnHci+nImbDZR9bDp+Yq57yvs\n",
       "9Hg9NMgkL/RQYqCAOwtmI+Pl5Xz8n1OfNp3AnjMLJbVfHj9U3oIgwuZp1uS7kmrHmJBlGDyzxNnK\n",
       "g2XbgcZpnHTppgi3zGHxJd9KCsQaHzCio3Z2rsmCHpBESTdvcvkApWARGd5omnJY/L8VuWR/uvzI\n",
       "NPS8p/lwWw0ifpkiD6n4+apGdHAr9rve2o3lu2PcFKbODu4ECPiGpaDgp9+6fJDsKkHBxUw7zyc8\n",
       "eO19LUuR4AfHUfztf5gAAcxDXPEAAAGDQZpkSeEPJlMFPD///qmWAAADAJDyv/5uBnLAAdpdgTIL\n",
       "4jMGATLWce1ta3kdxgOYixOnUwrGMT56sbLeeTt83+QEK1R7zK/0PYUBVwRUOtCmZYiYbN5l3mYH\n",
       "lCRJ+2rfT9qf09o5vyIe1/Xfh+fboiGhE7PN9VACoyMWNWX7W2luoB4NhwnENycTuOlm/lQ6Edmp\n",
       "xvF32cHPdnN3QJTusZ4vp910bzfMXpGwZhOr7WnPSdJQ+EK+3YvHwA1Y8ChjEkPxbef7bGZJ8lCn\n",
       "0DXQHz5fIwF128WrBqxUNKLMxttSFsy9A0YfhyCHsDnRdRQLeGKe6lF7ucDpOXMuadfBX79uJMYc\n",
       "poXSg4d9zXwzsZPsk0NTEaQhKCxchpUcY3LmwWtKm9f8F3CwfVhxozaxJCCljGSfQ7BG5qWToEmZ\n",
       "f84KNux7pW2uo0h+Y8LGV0s0EL6kISorY/7HNNTyFGKwa9gKpi+wfvl0SEWH2lO8gb72WzoifPUi\n",
       "noVdycQ9AwAAAwPaAAAAvgGeg2pDfwAAAwBnC6TIKq9rd1wZsAIwyM34alM1F2pe13LveAWrqscX\n",
       "5mx7My4JNzlnKZpUP1tjVj2Bprv7W8Hkb8KJZkMk8c6cd+us66cUPRzoxozx+tH9jlfHq/AMITb1\n",
       "jILb5iInrLZrscQxLFEjqOLZGl+wPEpxhGN/G6KXtcezDLRtarNoU00Xb/uVqtYEA2se6O+THqq9\n",
       "GHh3GS5/rLCNyNkJpIoqI+pmvX4pGkoyojG/iqTOVAAA0IEAAAErQZqFSeEPJlMCH//+qZYAAAMB\n",
       "dudEOhYIWL5ousBX/iE6qBE2Cjdru6UK99yJiewFI+LgSNsrkGHWpF2NblieowY9kOjObqTkziDY\n",
       "zoYlpWuJoVKrSRlHDXyajraN2QWQ3Osf224m4OySx4B60OIm1jPWqXcwhQRi63696qwNF4Gt71Zv\n",
       "CotRkTCRqrog48ZcAZ4pTahP75viPfEftMUx0ABExaEzrndMm3IF0dWK/XOKdD4X31AN+Cl5W5Ud\n",
       "Ygv8XHuf9s9zjIkEWHKTQPWtgmEx4z+Z1AXtIcFQWmodoGVILielbC2iAwR7BIEarFv4VVzUmq1d\n",
       "07uDpMMgKCpcl7fd5v2IIO1WtML2+ZKTZoDuyYH3ALeJXMpVGyrruezDMAABe4NE7mF1/tEAAAEB\n",
       "QZqmSeEPJlMCH//+qZYAAAQBHcOoQvPmo4tuBzfwkd1VHQlAfgAlcI5UqvSg8MDjayvCicSTWLX3\n",
       "1V7WV7ql1RxhtY75fD7DcT34OxCFrvdx4YtUiNqWjYw94DeckQczvlpkyGJPTE3c2lrN5jwz55Tb\n",
       "XWWFKxN0dO5qHbG8P1NszFWdhF9xg/ytJJkX/aW+WoZHgQI/EGMTVkdrUFlNkxO1MYt40yRv+jlp\n",
       "0BDBEDFT+Ey/dAQ/WP8wy+W4V7lIuTlRCXoMViwuVnXcW7m+C8o7Gjk5rm/xzW68nhtMzof1U61J\n",
       "wCG3PH6gsskMbS/VVm/hMtGaXh/cS4gvgAAAFlEAAADcQZrHSeEPJlMCH//+qZYAABgJwxoDN/A2\n",
       "TrltTnt58GcOlu3vSZIkpStsQG2XGS3V6pn1q67HiycnhLhlk3S/X7O4bdEejuToPcUJyGxcxIoZ\n",
       "o2o2nwJcGQq47TkYFgf2MqohoORYb1VALj1BX7PQeDQqc/EdpQ+XWYiFl1irkSJoJDhr6nu9MVXs\n",
       "kW/C41hheFnSF0Q0sT0vQ0y2HaYeRvRicyUrnJGapZWWNdXMfzV5pbSvOkU5tA7iV/PMU5+ELNpA\n",
       "PKjDtn82leN9TPF2jQY0/71ayjeAAAAEvQAAAMJBmuhJ4Q8mUwIf//6plgAACl/1c++DtWwEYw9v\n",
       "FVHXY2IlWRqnhKhPx78UKA14v4Suqg1KdBWRt3phKYIldYUbSExgx908AjkOpiP+cXmyQIRWp1jg\n",
       "XIWM4TuK/P4c6JP/DfsdMs7gfB0SQsJ5hq0QE8gGFoHkQgAscZz3gfo9h8sxtt9Pn0yer9DN30Hi\n",
       "W/BDZRcJOz/o3UlWDY/8h6KqtJ1mDGQ/6Sg+bnl6HxYleNRVhQgv80nuY41bMAAAAwDUgAAAALRB\n",
       "mwlJ4Q8mUwIf//6plgAACl/DI/Dym9iip8Ax6i13zoQhf2LWxbYflODigGD0d+Gv4wIhhESlp1hK\n",
       "h79aOFqY82nwtDZ/4vEC5nHwgIez6Wn8ZdUDYEK8my8GHLz46M4WQctyxPqe0hiwwtmq/IreAjgp\n",
       "C6khdCYZ5iKJrWWNKY7aMrVR7UHhf4B+JwiXmEI8Yxt+LmdKfcWcWLwmZRGv8KcvdHcBP0lhOIA9\n",
       "nXgAAAMAWcAAAAERQZsqSeEPJlMCH//+qZYAABqtn/+jfrEAC6rsA7REuMMqngwxikGdMPa4J5Fe\n",
       "UhGkii92DdCqspH4uyGeVisBGa0Gkv69QdG7Qi0TxN7frctXgTuofsBVfe0niI11gnRuPeQdavR8\n",
       "m1AIE2qm3bzOpGn+8iNBNF6IKYJ2RW52P8vXmDpgp9CsrvdPzmVzNwyW0pgIJgLfiXe3MCJxdnSE\n",
       "QjnPR2yLb6ZY9CVs0oZ0QhCsJ8Kol1SXiHXXX8zsIcnJvKd+crBCAUWSEsDmgusi3/bZ/3x/7r4s\n",
       "l0jV2diV+ea2A6jK0gFsYeNyr1Iz3CxMQ9YZcCsnfPSBG606Pgz3FbiawnA83KiAwkngAAADAB4x\n",
       "AAAAyUGbS0nhDyZTAh///qmWAAAai5jlBhFCAyCABzPRTxhjJI2o/nxcBp7VUAk+U2S7FsAeEt4T\n",
       "gnH9q7j39CgfNwsbVMRFPeUF7CnindH3lxVAVJiXxMxCR8to8e4p+0emLQFOEPwEPRME9/3/pHcd\n",
       "voLz2dKPXOzzg/6t7tXUgbeKzqTqPkzEw4ktjw/dk7+Nao0ysBt+XGRAzougi27Y/W11JsAtIEhw\n",
       "vVp4uLUgMds/kqEIYfux5ejTbFKJJK64rNiHn9AAAAMB3QAAAMVBm2xJ4Q8mUwIf//6plgAAQj5H\n",
       "hnCZm1IP1ABD6BqvI9YHSqVrymwR/oikxKjUR2TVKAFXOa+EGjD1ZsdvcFv110qvwFGRNFlJM1EZ\n",
       "nD+9fhwB08SnoAmAD4TSlkV4PaQXGkO2UnIpQ19/UY4nUAAAs/lLkKSSjAG94uq8teLv6pYzwMuK\n",
       "1aJdTTAQDtmcI33Rf9M9csj/+rGu9Wwryg4lLtn2L3Zqsm7HzU0E4wHsdqQP3BBX+ogDyhrDSFxf\n",
       "gAAAAwBJwAAAAMRBm41J4Q8mUwIIf/6qVQAAEQF4j/a+ey9nsVzAACIJM3IDqUZHBC4PQJ1d11DY\n",
       "Ea31GGo8hK1489kph4V1De4f9hKwQfCh0Rf8IaN8Sc/vYwTgMYwwjUQzLJS6Mx7rtF6iwBgN09kf\n",
       "ORX9iIOkhW6T/xbMxAFuY/qQxFEXtcpy5JSDiOW25lXixyeZ6h84GVbJy2CwoyvGAX5I5F7YgK5D\n",
       "awmC0dzTel2c9H9f8mJVodwY+ZOSNZD3CMztcQJAAAADAH3BAAAA0UGbrknhDyZTAgh//qpVAAEA\n",
       "SJPqAvV8sSw62r/EB85zvOSpTX+Pjcwh0kQLwvLZNc7Ym3kBqqCIWr/x7QD0/3z2LplAHnDfG/Jd\n",
       "idkRGUzmByrlgsWdUMnl9xn+Ww6FNVFNHBXSbqlZW8KQ1Gh5Pmdeld7OcF6e+mQBEiqs6sL+JwXC\n",
       "lveuWX75gPCfgQXBonApUCxiJChljjnYkkmJh3MoVYmN8STje9xeOFlMPWuUXvWlIMSNlWInfYvY\n",
       "bxo77IbPXAvSIO/pDTxgAAADABdxAAAA5UGbz0nhDyZTAgh//qpVAAEAQhCgkdYXsIPxdpF73d+3\n",
       "E9GaxKvtRio7oVJun10ZpJkW3uSVS/sn8nw5JRLmr7wUz+fEuu01kmjrlQ+ZjEYGticYjImP04wr\n",
       "5AYV0nu3UehrmBRH5TE8d1rQfY8mYzsQ5IkLrCSRp0/wp298ZQKgAdui+EM4gviRIATX8RIZ21zF\n",
       "ir4BxCiwHe0k+3kg9CFz6fuDEXmu0WrUdVGjcrXbQs8FiRPFkVi4y7Aik2yISpGq3HVnIVKq21RE\n",
       "eT5vGn82WxcIMRUXX+KCW+0F6boAAAMAAgcAAADAQZvwSeEPJlMCCP/+tSqABAHGiEAbrpBsvqjm\n",
       "aUynuPsUqH7oFHsBlKRkvC/TH+rxhJ4bxVvJq7jwxVlEO9ZXevaQzc73VQQJiWsO/PnV4sD2Z9We\n",
       "OGeueSAId4nZaMGLbQIo0B5gxN4MyMHGj/dgMCMYq1PSZmSaUm7TFYvdxw/+gjKEh5suHIJvjrKw\n",
       "Ky2FBwn2QN53vxFcw8F7ZW9DgGTrM4bIMnclD3oZpHReU+Y78TN7GlZAZVioAAADAAZUAAAA40Ga\n",
       "E0nhDyZTAgj//rUqgAA3kMk3PdpvciADivHilo5fo8nQnZSNuGyWYjc45cyARzhRvGNeaL5kDWGG\n",
       "EUUtsISuH+ZGRZHOyEr6xcTdE1q7qyHN9azcdW8lDSkhec5vK/j2MSxQjTrOYQqALwQwMGYJsY9g\n",
       "1TLeLW0J7E3jEL8s3i3n48crJN+RYTKug5DwPVfHWWL510Co0jTOVaV591nVPUKfGoMWgWCMA86T\n",
       "N73zHg5U4ghNf8kk/K4CUAl8+P/qpKD2BDXNIw5UxVFY7EZPYVnJOie8VAskgqiQAAADAATsAAAA\n",
       "pUGeMUURPDf/AAE+vq8vTqLzOGp7b/vW8kZu5X/22bQEWAgOwBfH247TJohUBg2i06IE3g/CFAZ9\n",
       "6476+sW2WcK2uPaFEf1ibu1SkN8Bh7wcFcGldS1/jLA5vgwYjC4KeV2QIVuwcNF+MHoyzNgkqH9V\n",
       "8b6LPEG9vuqlcQ2mkQ4yxZZU6fkvdvgQfe2SDaWfp58oTHsTo0IMZEPXwfDFgAAAAwA3oQAAAFgB\n",
       "nlJqQ38AAT5NJiuBeb7N5b7gBAlEeWb0lfwexTcuKwyKb4qARCpasjn9KRNh6/pJE5MYARXCY5W1\n",
       "EJejSWnujarEE6k0nJeP5n8jfwNn7GDAAAADABHwAAAA/kGaV0moQWiZTAgj//61KoAAkPMGf4aq\n",
       "IAOLcMXUqzPSpIaCfOfDbwIXUfiWQGWSzxD86LA1KhBXq3WVIgs9AGVEqfsLjoxgdY3MnhnwmgCn\n",
       "OtmVb0b5y6HyyZEKP2H9YBhIkgCD2Zwqnbm1RZBA/nO+OzW7bem+NiDklHPrptF6d1Y3EIvOQ9K1\n",
       "QkCXivBRzVEjcwTIHJ1vcRHpBT9DIXEWQM6lNu/iqAB5MIKEinNqWtYAWDBv1e5VA7L9/8EQT9zj\n",
       "ve1+11WjJtRVy3deJ2kYYldYohLZiChh7WUj7ayrAHdye3fFYZl54+QAOl4lA3oIAy1QZfAAAAMA\n",
       "AIeAAAAAeUGedUURLDv/AAIxH9eql6xjbjbEfLprBSkAF2IT4VOAOVj3fAL6zzxH6BMcjbctdZqP\n",
       "TqhwYf41Y6yPtOYRZ1Sp+d+W43G4pCw8wujdCOJKjA+10aWome6eiwdJRV0D0msGpMhS9nqZOa64\n",
       "Ovf/AAADAuo//0+gApMAAACBAZ6UdEN/AAEx1dx+//9wAf0hAESl1ollQg7eJSSsHmEsN6mnmqcr\n",
       "EeE7RBK6OuXlr+pF1oG7QZwqqNYIoIgPzYILqp1lO2XWZoMGXJkKHQfjzRfEWpyVgIZ9lHVdsesc\n",
       "tR9V7Gf2ChYQFtWsiTVZcc6QeIFuYevoAAOtsv7SIAeEAAAAZgGelmpDfwADJKaXMcef946IADrZ\n",
       "RltcaTFzXd9ovCuurCvZx/TIk47fk6xjzU2afPvs/dkG63j1Rgv0rMFofAfp4/lKZ8ORfO88olGE\n",
       "zr5JDO9AmkItBKKC2QsGMAACLhf/EIQEbQAAAPpBmptJqEFsmUwII//+tSqAAJAjU654RTUTmGhu\n",
       "LbVaXn13gAJuu13hbDpsKoRNZmNtBDABb5lOXkygt55KUCO2+LotvdKFfQIvg91tdXXad3z/JvI0\n",
       "3QmSEIFYBgFN7MbAVLjqZEkV9M+Fuh+YPc0LfoH/YLCs8h5vk30SzuuUoyibzh9N30JQc9NlvqQD\n",
       "DCUU6pWv0cZmANR+C47g/mWg/onK+so6Hi3kNFcUIRcqx/PQqSmbxPC5PA+E6j0fKZi2fUVaOPh1\n",
       "roFku06bGLJZgzldRcKHLORDQgZ/o7AWp3Fjl9BZiyPMrYnrlt1u7Ov9WinAAAADAETBAAAAqkGe\n",
       "uUUVLDv/AAIrfn2wo57gBbIXmFV/1alnwZyAXr5BKzN3+Z9xjXeXcvyVjWVWq7YAAJByzBbWPlcu\n",
       "WWU1bd8EN7IsOjFtTk8wzN9NmJ7B5u/MLxgBL9FcmpwP+PRE5aslXtlVWMPAabriXAt1s18Xcn0k\n",
       "/CmKz2qLrfA/7+a4KiRMOt2VRTBcBi2HOl4QG+IOFNKM16XXdc1CTYXl87OjIAArFfx94AYEAAAA\n",
       "bgGe2HRDfwADGhVmYoZ5oAPQQAAR6B0AYt8wCpqGRxhzk3UgSTQ+w5zNQnjeoEkQvMgRnwqEwZUd\n",
       "S0wfUMpv4Z3ogxaTETVOvETMX39nUenZUKH0QoORR79UiOBJRSmW0L2bD9gAAG6nf+3GgGhBAAAA\n",
       "dQGe2mpDfwADJABq+/6N4McADjrFoj6UmYkelU7B/aVzHRcVEF6dvLzIdGS4w/zUhnr2Cvbr/9bc\n",
       "+ZjJS1nuScdNhtNyj6QXJr1tAyWl0vBqTBXMdxQiVSgH0NBbhDhXO/IR3AVzm+8uFICkJAACNGz/\n",
       "1tgBgQAAAQdBmt9JqEFsmUwII//+tSqAAW4mZhgzhSxz22suO+ZwoHzlUdv/WtkJVIAhocTuIiyr\n",
       "pajhbi9cGQ9jHLKjB5fLVC7uRThYYXfbFlK5XEw4SoUQuDa5I7vHCTZ7grPG0177haBtZrtBV1nW\n",
       "d+Go8PmIr7tLRiJHnImc+DLwrv4e7ioyVlv5sQupFvX6JkrXKfYZ60wJM+voglFq0cAu7dOga0L4\n",
       "YaBhS2KJhflM3+5ba6t4zz7qXzpspDcqWDs75l9otwPjBy5NfAuzhyDyufDmyQxO5b06Fuzk8hby\n",
       "LytRQBEEsRjjJvhf09oRFolD8DoyKmW2EG1oukhCplwfb5LgAAADAADUgQAAAHpBnv1FFSw7/wAF\n",
       "uVhoNtaDrLXRQvczxgA3I78KCeBqDqMBlEb4Tbckw2e1Mhv06H/m/EI1a4yh14JTzHHu923HXk80\n",
       "EGnUi1Pm2mmlvMy/mVAhoHqOeB31M64/hqP1foK+ztJR4QmcybeGrPSbR+AsAADQq//ZHgD7gQAA\n",
       "AIUBnxx0Q38AAw5QGSMzwgRQAcvBOhL0LS1Df3wz8/pYT6ygM0XMCZzn4hEBJcWkLO1zT+a+ufVr\n",
       "QmAvyKtfLrtFAUMi8lGO+/cDv99tIzXkI1eUnpcT0fzFNhil+IJDtrUywYQsnMvrtVlUFS/qO6af\n",
       "Mmz+psdZxaQDsnDKAAD3Pf+ruAGBAAAAfgGfHmpDfwAH8KGnztuuDTLMp8QAcVEOetzr+ZnkNp7o\n",
       "m3Q0P0ZihoaFVodwuzFZYHVM7eC4KMlLggYSzKuduXlPYW/9Hb5ViJwQbRAfjr32BwQTJFayf/sD\n",
       "DUWk/PNVCEAn1tox/aoY1vUJfBSmknh+jI1A+AACvNT+6+AGBAAAARZBmwNJqEFsmUwII//+tSqA\n",
       "AXcdCv9FkAFbo7imFzae4Uu8Ijp69acWydBtCQvnfimeDemFuPMKSkILAnpqdT024SLOVSlQYjB4\n",
       "An97lGIkn2uA+3hS9QCxu9NzE7vDYKHv8dD80YgHyEe9hhMaroIWF6dGrb4hYrhITuhdKSn6mrzN\n",
       "8Wl+5zwIqMU71YnelYnm61x9dYOrde8TW6CYY4XzXoFQ7BnpoH69O3V8bVULay9BFHVRCRLOfDQg\n",
       "B3lvZgdI/PFv1XikArT3oSqVonjqDZPJLpJPGC98GJbr7A/Y/Y2YaSdovO349gd5O5A2KxkzZqJq\n",
       "9UQtXec2ZJHA9LOO6hfwbz78P/rVdtBeHD1dAAADAAAMCQAAAJBBnyFFFSw7/wAFucDPQACJdWV5\n",
       "cj1S6zTcf6uIEsEu7JcQTz4uK4ArVLz6NU4PNxIe0fza9AAUXp5fJBiQQ6gjKMjNWfunlSGj4wxO\n",
       "3MVeQQzxTZyzND4F1nh/NnjrEwRHJD4zbuleDdoGgl96wP18n8ReG1nn9P7KU2W9U2GHvF7jOlG2\n",
       "TAAAN1of/FOgGhAAAABoAZ9AdEN/AAfE+SoXa3jukn0AENBICDXJkGjXg6m0T/SE8P8a/kp03G3u\n",
       "aa/gIPQlCMwcTLQ2Ka0yOYv5QCSL+TeDGklUpL6bVreILz4RE7arUQW8HOSamK1k24LANCcAAAnq\n",
       "J23QFTEAAABmAZ9CakN/AAfwgJ5Fjn7tQOBAESadEvu6Jo8N638EkiwkBEit91JOmLv++GYhK+BJ\n",
       "yczNWhmVVNh/7+0jPkCq6q/UB71150cn9BwnSSYdsHe0cpL8ai9ZnV93pb7AAAezL/4eMAwIAAAA\n",
       "uEGbR0moQWyZTAgj//61KoABePoVTv5O9iSQCYWLyTj7WGhgTVQdt8shYdYhXLO1JVnTIATLB/vm\n",
       "ORoJShYPfXiS/odL3a1q+aaT7+DAVgJDPoqfg3kev8uDQvL0NFghgwfNhycLj3Os/JWie1sWlSKw\n",
       "IH5nd2m0fcUEzJK03yDo6RXZGtcI4oyWTWIDmiu33PbwMoCDzC7mMeIUfpnWRjXp89d4o2KRfg1O\n",
       "GNmrfSE/ykAAAAMAA+cAAACIQZ9lRRUsO/8ABbjEqG9eq5aEAJqogdoEvBKkXVjb17mm72By0iW+\n",
       "ItfI0ljmLS/J6CMoX913WDjLtGre1oLwfI+66LrFsuN/yuOs0AY119oQoarfUN7wE9DCVz8tUWdC\n",
       "iBQbSDBlSY94WRP6PXUupiPBGhyGERkrOIOAurqVwAAGN9X/QbAELQAAAIABn4R0Q38AB+8vpcae\n",
       "slEAEPSH0F1Cu2VQfWD2a3iMCc+l2N+iA7wov5xAEIsbo4HdDdMrDufs4tKWliL7/wZ7oyl1vest\n",
       "7l09pFLUgH8QKGa0my1ZoRbwv48CtN+cZvuscrl8gRVYg9kudk1MObK7rl2Izz7wAABjfd/PiACk\n",
       "gQAAAHUBn4ZqQ38AB++2U64fIkAG0aOozQYcziainhV16EYt3GDO1iTtCAEuENhu+XUEtO7RCoVT\n",
       "Q5TchaVM65qsUmY22Vffv8uJkmoh/Lydou7M3aKp7xAqhHn/Lji6lfRsgehRLxSS0askajaYxQAA\n",
       "JFNf+VOAHLEAAACoQZuLSahBbJlMCCH//qpVAALdronEApvQAOtjd6vPU3BK1JWP1VoPL7JyqcbH\n",
       "Ht0s7RS4hffUGF9qcWuFBgJimOT9VDPIu+xO2LbLf86ZN8rFx8de2Ib0Jgp32lmkyOcsnGtwkPoR\n",
       "IWCrXiG6A1kapGucT3nv0z5s6GxP6Ee7WQQTQucox74shcdVL7MRBpzBQgu74Qtf1c2z6UGHJ/ne\n",
       "FmAAAAMAAG1AAAAAYEGfqUUVLDv/AAWT/Wfqb4VQAQ7+65IRZs/A0ajnUd28jz0OeljiJt3mLcFJ\n",
       "nI4IT4ga7pbPNONCfx6nDpLwPC+m3raSeUXa5Yzyk6E5RjIdkxSoKlf4AAAqO3/qNCAjYAAAAGAB\n",
       "n8h0Q38AB/D2iIAcqxEADshL3YNXMqrigQHLU+ns07JmuOT2orirMvK9FIArMK6+c5JRTBLi8f5G\n",
       "rCp389aYdtk/NWf19hFEB8X5ODEhKy/Txfgt5wAABUSd/iWEBG0AAABUAZ/KakN/AAfvuqcawAfr\n",
       "9x7lyOe+mLWfzv19/A/uqRxOjPrwcHAT3UDodqt9VTik7RTM8N6XMLr/Em0JATq0yUz/25eeo15o\n",
       "JwogAALDTf+bYgGBAAAApUGbzUmoQWyZTBRMEP/+qlUAAt6wFykt6ABdHv6al5rPwwdQpJpqd8zx\n",
       "3f/4zgfgU1E5F5P+1bKTSJ1BSK96I8BXUSsplb+KpvxJL54emDiNsJWvEI7sdi/v6ZzPV1m3lIQB\n",
       "PkqHTew6qkjLx8N15ISo+qTRi+vFJfwaaTyc//btoSv3eSZd9GDM1AqHf4OWAwAAAwAAdB9tbxYG\n",
       "kjm8VqrjMkFLfAAAACwBn+xqQ38AB8j31ABesWdkpDboOLMFRZ49gtjxbRCPOer3e44wAAADAAAE\n",
       "zQAAAa9Bm/FJ4QpSZTAh//6plgAcn3SoIdmgJyJ/CUTpACdbVS+Ipw9lWcaqB90LKIwW1m3aK6O1\n",
       "AGNZ+jFqx6V3pNJjekeS06ZxgglQS3dgdaFPAla4CXTbQmb48wVGVxe/nfF7XdaCeiZ2Gaz1hQR5\n",
       "AexzgFMZdCgoLWFrn2lEU33cKawRbwaWan//dUkYXgYLSgnCkKAzq5K6Pz9kYyaDJwIuD6Z8BrQA\n",
       "9Xprk8uOOP4BODvTLyTlJiaUBSt+K6NXZHuBGUK2BP0UKsNdQYfj7CKk/Qax3itFRfL0QnQ0O9+Q\n",
       "TzUlfW50xvw6pVVPWTUv7Xq3PqMDdzutL1BNZrNRIWdAoSfo1IG27vCeqcrcZv2OV9MFYPkFLPWh\n",
       "nZT3lKdIFvCeyHlhj5SMMAS3bDzAHvXU7aBkxfi3LVcWeE7lpTxlcufo6ndeCWifHahLSdjgHBXl\n",
       "3zaVLureQtQeS4eJ2JX9eeWWMkOkvQKeFH96lRuU03CoNWJ/uZ+xRtJM+ibd5XCwMeS83DM9pABY\n",
       "ckJqLsvnKckjwvaivSbhKiAP4B0+m2Xf5w9iVhnYkAAAAwAB1QAAAdhBng9FNEw7/wAOdbfxSh3U\n",
       "AAXShErlFtc6oXmmAeDkEXPn/RLSZwKbBqMqgj4glSqAG1VF9Pek3dFWOtVHpl2xAO0SylG8O7qR\n",
       "P6sVfV9UowcHkA+mQO+KcOoYTsgMcs7a/OE1s60PMAYPHg5ClIET53IhgZEh/X7mmXA0e3F7De2h\n",
       "7DRsJsTNfTKaajEZgebA/ZzzpijDrIzhP1rbypGs1fP2O62rHPaV0DOv/xFDLX7gPOAVrHE9UUKp\n",
       "dPNOqGf/KNH4X+744He0DeMn1jyDcdKsf0SxgrX6eEArvLyL24OvdqNAevXdbmKw/ec2IOazQNJ9\n",
       "YC3BBgrWD2OSNRfeCJqAjpCtEP0RIMFJ2+mi16lZBBBsmy3egPftMScNkhTfhAAMyrNZ+0GCUHnA\n",
       "VJol8V/gh8ecnXqrBAMG26CdRBGERFcu/j+RG9AoWlS7uRtSXurRrrhSZw9KM6t2/QA1C+/eX0fA\n",
       "chjMucpzpZ+PRS34zU/oQKZsuxdU/mYkoNwy4ePuhVh040jzR4NsrXEJp+ToDuV1govduyHby7GL\n",
       "z7lYxdmKj/xz4nXY0Ci2lcxL0624K1w2bo0A2NT26uohmu2gPWuRK8FtNwVYKGx+AACrHZXpgBgR\n",
       "AAACoQGeLnRDfwCTlogAQ/Q3cnfGAy5to0iSNF0USZ9M1Q7MA4qR1Ie8iV/oRdPS1eXntgX6TUs1\n",
       "OcG82YtBJ5/sWw8JvanOdgcIDojkePIzn5W2Bww6ubSrOeIv7hcx/Tpzn/1X8Fcz97/YdMd2ZcEd\n",
       "fn98ai7DEfEM+uB7qxe+sLzsci7OAww1awhRYxTEZoLiatWRF76Agk+vyDkxtlmha9MdrpqRHx4P\n",
       "sAJZZEva215Da+zwICDl1W+aqeobE/5rYvAM/va18qTTA/gRc+jdJAyg3aQoyzfce4PLh0kCP9Zv\n",
       "fHmqqpU+6zo0fIwCRKNyr+TfK7gWUrxNsKCBOXyzkbpPZPwPkSa2F9jpTRwJEkW+1V53GyTOXyqF\n",
       "Wn+xK8PAcxahfBnzlgK4DgIfvjtf7IN/PJi3wvqqkWF+SL1BSowhP6SMRk/oQybqtWWy8Y9BnT3K\n",
       "ikUGCpRlMn1ylj3aNK8J65SeCGlMf0r7Sie3viJiZPS0nGy7FYG8MecPP8ifRb1HgWQbS00e7dXk\n",
       "2Tuyk+e+c58UHn7aOM/r+m3qDntBYYIQN1Hj4Vh6R7+GHMGjgA3v7Kv79RTuoXDx9KriAxuCWWcT\n",
       "qnZzpFEWJNcYyoRP5Xc/HTA5vrGmoalfp1LJV3gDsLUNDEQkbITvxMci9vM7v21BhrYFhxyZv3X2\n",
       "Rzk4ePxviadu3Jlxr1SBD+gNtPSmRQrXoIqJyIG2pqNOQoZzGeXjBQOL5QFP3NI+aNAVzPTUbnnD\n",
       "t30+SkIOQkeckKeY62Vg59AZJQFBn4cDOj+W4kxWD67NRbkKTAyjxNl4gHoY+BR8ir+Y+bmvB766\n",
       "1tbjqeK6ioXOFfxx816undVem+f1KgpdX6KKzX/BQiwZgQQszfiiXEOAAA8P7BmcAfcAAAEBAZ4w\n",
       "akN/ABUE6RL+saB2Jq1lEHXgBLkXijorQ78LShnINWbFJHIiJo/vjQT1E9i/5SdQFmUd68HBEyUQ\n",
       "7lhEFlUIymeUuWk3qWIbiJ1OcQ01eOWvbysb8g/yv1Ad4bDi2xwrP2aSLk7KuhX9t7655DpsXlRL\n",
       "+3XVfDyWpAiXDiBa8sQRYv6UOCclwq5VvjQ07trBpqK7G1YTbSOndsjNKgvw0J8hB6rQa27ykO5+\n",
       "bUACOP0m9LivgdKbsy3EqXd80UU1yy1paAOdWmS+WJiS9AvNzS/1L3Y7cPuTutTJ1DAYr0o7uw+L\n",
       "fTdHGr6mxgj151zJbrLONA0AAGNtk0iwCHgAAAFXQZoySahBaJlMCCH//qpVAAK78Xr1YT08fACh\n",
       "HWS1vy2lznVfHlpbdCzMo9wVAaXth8xJtFOqJHdMTo4oqCHwmc4FgAGs7yzniqHK2olaG2nOE+Zy\n",
       "uiek/+1L52ZBYQ/JYKAjaZAr/p+0jxjkA9X0ajp4/1TUeqjgOxR+RIwOgIMpnKHq/2OgT46glbBT\n",
       "saORBFye5oqDDJ0O/bu7d6SsIHFLgsdNOBy0RsoSn4SG+H8LWY50zrX0Bl8pTe2vhkmyhdo+OMIc\n",
       "BslfhmsBP7uqw5WXD+8Ior3lbqKW0ZIFobO0lz8z0iLVop17nTjqpE0YU1Ghcqwek0iu+pFZHOlm\n",
       "je3QozlnZVyDfuACwcUdHEcWV4o7K0vb6LMONErOt9/hOJiXVknQycNQHRlPmZyq9eMiqoNiNBma\n",
       "blmROginFuhcOnNYIRjsZcd+ftCvJWHtgAAAAwAUMQAAAaZBmlNJ4QpSZTAgh//+qlUAAPQ3gqmi\n",
       "ND9IrAIAJ2+fAztjej/Ig6Y/3grgc+kry2J9yW8o/Xp+IlEL5roX+f60W2j6z3NZ0JZzzk0TGsaZ\n",
       "yx1v9LePRLNKhu2l53r3vF+QllHe7kXxlMmBHQzB9n9dVUUvoVwwh5TqmzOCT6gXT24IOXOIapuG\n",
       "PF22C3FWeZpN2E/7Z7WptQdzBjINT8PV940yssbftp/Xf1yYIKBzimNEzBlgwELomA0BVXZ3VfTx\n",
       "hyNvwaJePR0NeNOA8t2RpiutdhAdCfn6Ae+t0lsGJpzuInD4F4ky/DBPMsqVEq5qd/Mv8JtvYDns\n",
       "lMCA83lcprWd8Kj6ATosPX6X7mApGFzIM/+Slkk5c0xXzroHFxdlRYFT23mfq7pfOf2NDkQ8J62i\n",
       "RQ4S7WugFTGzWHxLwvbPi8RUxIuB5uH0dn4yE3LLJo7izFJ/VHkHbGTf6YYZlb8hnfBdwPK66THe\n",
       "wM/VB7/VwLbgZgsbmo1+kPGedZ8bKg/wzxEoL684Gt8NQA+9C7ff+aNUuQINgxRdE20Gs0Ij0AAK\n",
       "SAAAAcFBmnVJ4Q6JlMFNEwQ//qpVAABbhuo3qZ2uqyDkAtkvlhJ34htFJJ9x/4bAbaAC1SLX3Ebs\n",
       "rXC1Upj551POw2KgiSzwNCzxcO3rxvD+eksS5Cw//1qZ/sd0oGqaxsSAMsu33o67mt3zZNgKTcUk\n",
       "ks7rjkLllsjhLc2dIhSVqTzZRK5b3YPAsTqXO/w6G7lcuR/WfRcrAkr0Z2DA4qAY7U4cVsWbAdgS\n",
       "RKPpBF1GEHWHFyLfY0q5TmD/VvqGn8ABxe+gbM2F1U4FUXGG05cETTc8yAI0utsNlG+LdGIjTQKS\n",
       "xiS9ZYA9roX552OdkxzNeE++o9tDRkgMuWZ/Z3ljDgbkn2H2X8H70N1sPaveFUd3ADb/1OnXLW5v\n",
       "7j1vzvDqw/UgSwZW+GZgdRW7KyjFRQ3QzMXAntJHSDacWp23sy8hFCozTEBA4Y9g7U59zMqFFAs7\n",
       "+cL+Y6JOGEIheNcH/W689jkgBMqGLA86sxhcewjyKqCnNi/uAexk1ApiXda6ngPqpCPzRkgUmztE\n",
       "taLLwwrSdyRWt1q3MF0Lru70zV4V822rkvauRIpst1c7eLNVeEsRot8s4mAMEiBYr9GwAAAKuAAA\n",
       "AakBnpRqQ38AAPh2sNXxlboDIEtca0AMb3fQZTHZ+xTw1/b81a41XpE2T5TtiZy/ZhM+sMWsZeZO\n",
       "0Tsf7h8jykHvHzVNWxn5fzXDumRml23JxFEufAePAXOsIQ35N43gGgoPOhvlQa2nQwIJSWEeh0Pr\n",
       "U/SwKJk59AHJjodTp9B/rT7G9vRGwurx3eOA5tt7Y1s0ilB3DDDcNSl3TZ88nGKZIxr4vUtQejpr\n",
       "gWVVRDfIp/oKG3jql25AVzNRiKr4xB47QUrSm0sj7NHSvYZji84H1hVbLW6lHMyYKkIIDwmg/F7V\n",
       "DS9BWlSh8ViXWiRDyzSqB0rvFv7AqWlaMj3Hr/WjLRvx2inipV4WR0CDdcSPCIcc9cCxgr3Qd05q\n",
       "N8XGXxZ5lvrU+66sRDWAzcKzjzKPWEFjnTOM+lz1pxM8XtU8vrB22uqhENoKmxSWF/iiqmnSyj4X\n",
       "XnHeAM5zlvwk+LAJHZj669X+tG5V23cA3jz2J2UVEwkbQxxbQMULDvCbR+wMzmJekd8+ODBY3nqM\n",
       "SrEAlSEG9wkv/pIPmHDatvYTd2tFnQAAAwAUUQAABNBBmphJ4Q8mUwIf//6plgAAAwD1e6Ucvm3I\n",
       "U/0eBs3DXIdNP8FYVgCMrsrzvxKLKr+Zyr1+jk79Gkh7XAMfF/fvqphPFzM27fQsDoMTjQbB6SvN\n",
       "T34mcsZMtRFl3scfJIdl6fAgTj8TqZZJSOzgPpS2KE3tPUMDpW6zUb8enP9KhwQbuIXsUsibcp3t\n",
       "aUGvvbh517jz0XLJbK/cC2hGU99ZHw/9vf71ChN5WkAHkwNF2vrNRNc8s7rtttL6cd43vCSMt6z5\n",
       "BQSDGUvU3CXijjKn2EjKiDH9hfA3r9u7185v/GE2nsFHJgcEl3mkdV82v9WnHIOZFoFYArerLYFW\n",
       "P+bWD/iMYA4x+Kui5m9/R9lLIYPEOHVcrSlgWx+5Zy3DSmzOMyxBfIji7CIG/xHlGlWPdEsl92r2\n",
       "U9wxlNiUcmUmNNEq7HeSS6MbX2ZiSH87fJH9+JWBkQtpiZFGeqFDHwdbcoESyduJ78Prpj6H/3LQ\n",
       "W1DX6vV1gSMpubEqbUX7V7QntcJ0mEdKUeTLfgbI5pCce/6nPkWu0E7U1ua3malXu0yHIg0y6g7R\n",
       "rfbPGW+bI5uhUNsKNz6ObplIinyvHKyHs1HWmfO8e7TJf3wF3hJFFFW0OPpl05c0z4mo9VO27yq/\n",
       "NPXTb0qbRqsLDaioOHMgva+6wMd0Vb51egTpAli5+oMvEKm6viPKlgfmLqFaEeiwIBmxWKO41+rE\n",
       "As9m19Fayj4GIl1XEKaCbtUtF8aoSXSxp0DDsS0/ZC98I4aBK3jizOfi4XRzbcllAsYKju/4yzXb\n",
       "1XX92rjdz7EoSA5uXH2GiV5i0+oNW7bYVsovoNO1ombe+Je5m8HlN+lESt8CIcLC9OjSOCGdiOt5\n",
       "sTXGP6jRI6+8pkSFr+mqIGgMIFHNp0gfwbd6a/V7UNKkqTBxXZuIjoDB7KMXPS4+tHgE40x9ndaR\n",
       "ym4XfJae9zIb45iaz8fGlUo4p8xWZZGGxD0fSBcxbMbIN5cFihhe1QP4R8lkc4X2CBvLMmL9wV12\n",
       "qPy1UvMuuYq5XR4Ack6pNqCciVAwEKrvBSgfevGa3ypfKJoWsqt4PEjZCQbAqOnNghrZEv4ZmcyZ\n",
       "MzDAbi32CttcNGJg25Y8ZOzqIwI53m/W9CV/IS8BY26+EgBDljnP+3M8I2wteM2QhFDcc6CZ303B\n",
       "amAjpARYFibzoOrIsIDuGIQLXElSvl+fOqtuZHaAgkmKyv9T4ysFHpBTFjXxQvz5Rws/kuWUlJmk\n",
       "ulaFXXSlguQNn1EMtNdcpUsV+kGQfahtb/AJurQLD4TqDgZ73x5y7e7ZOcba/GddQnZ9cBtUZSPG\n",
       "FmjQJxj4v8q+fOuZfBiAIOVgCXVldKn6oxoYqj8FBQZZUpcCdOa4YCvlvmjI24PCHhCVNKo1E60v\n",
       "LjuYm8Sg7hszniuuVzD/d+4JFvx8l4xsYlflYV7UxJw37Hx7KY+xwwYO1XjCdTXhhhqULlzYrz1T\n",
       "WyguzfYxKVlvtvjkUiTTJq1uG4y24LD6huYDi0Qry7+0xyXlKulGqulxfZL85rUDOrPc9sCvbzfe\n",
       "gvxU86oz/un/LCkWddnmyDRIYR8rQyi16cnrdG/MfSMQ60wlr+cYgPxlMk2ZVPPDjl9ZGUQJ8VG9\n",
       "Angn8zuOehiogAAAAahBnrZFETw3/wAAAwG6U1nfYf5LFSQWzAPbogBGGhT75Qd5zWrExKO8BpJR\n",
       "NhPvDHuoH8m8cW9BwPZJADIj6Ch/egeE6kVzS87XpfMtJ/nlkP4o7gOKooKoKEksmNh2wba+0oP9\n",
       "qrV85UUJT/NRR5WvWizALHeJINJHN6uCdJA+PKosVHRhai3w9M6AQYYRnGOR6LDBSB1vKueDxKTr\n",
       "MHPXIXOyGwC3wJMAS4uOXe3PyPcH94xvwG+rrjoHmibH8kAcJlLWcni7jv5YXUMpDq//GQmqKDXM\n",
       "FQECV9u4PkpmpGDUtFVE7WCUspSRZd39OtpvN3+TseDbwnZNKnQs2r/mDgpIgCDquXmrlxPM4N0q\n",
       "L9y2gahmlJzq4LlqMZy6bT63qguIswZHww5Y2dqewDKLRmrTHHybRcU7exKx8FAI01s+KyuI9A2r\n",
       "vYyNwBhlidmyCE98rWYnQU26e8lkReFg9W2M4bQY3ADdu3/7y1fDVUf73Tfe6VTnVKfV6VHU1jJk\n",
       "YPxsKEUvWPL9/MHaiZ7KPEKmM9rxvWaWBZX7mEaMZFUI6ihLYwyxAAABGgGe12pDfwAAAwG6LsBg\n",
       "Hf7x6LfV4P3+tNQFxdQ32kruY8eGgAdpa5NszS8ZP7YFunmJ1JlZod2ChZQNY8bu2nEHNCrbFdCF\n",
       "afJFMPwNQQ5CmR70hknzFnoFkRFTOBL6GiW/lI7GHAPjsaGtoXiekoweUG8wLgTWdb24kToQLYCJ\n",
       "eQRANtKixJQ/P6y0oe3sFuQhQqiHtRdClgjx4ffiiF6+vrxEVfa8KkL2PDBk2nuQME85lL5JVae5\n",
       "dVMuWFO/MUUQwG60kd0Dm1l6qSTRL98lkyBlM4W0H/qDaHFMlSxea8uu9bbkC8vwREaPKhuOe65c\n",
       "JZhT6yZbEfCYlxEnnop0jf+z8YcFXZciy/n/RTUqdZpSGQmC5ERSfwAAAVdBmtlJqEFomUwIf//+\n",
       "qZYAAAMAABnoyK+L0yADaYHc0ZYxaWIHgkW3AnU1aPOI+ANGlft2Q3sOvq4uFKnLy1dCtnlHwMSB\n",
       "AefozfKmxw5pXLS43vdBoQKMkVPz8XJhDV4fdUT9q1gY5AmU32//+aJvWlBi/ivLwkvGSwApB//N\n",
       "iChbNxKETQYkP9Ce9eIhx0HNjAK51LFrgie6ijt9ERCh9RXp9UeFydIrYixbEzndm52z4rwfE+/C\n",
       "8s6x4a82Nd8REvfh/S3eGyotHSSj+OXwgVOiRlXxZjJjdV4C2Z+W9qMSaC47/11J08r3oTtQza3T\n",
       "iePwBOd35isuAR1TZUVxwO1hkNzn9q9qDYFeVDSZyRdw6KgeexBSXAnIGYWeIpPbweB+AKrquQ71\n",
       "19VI4GwkTKGM2Q1qVKyMu7vmA3mXhcHR+1dVhgATpWFBZpkD4CkxhSk29+OAAAABDEGa+knhClJl\n",
       "MCCH//6qVQAAAwAABsx45Qr1eADmzz+ZhGQAqPqQP63hVo0HXItF11wf9QfPWelinDsm6LAXB/jM\n",
       "9Ey77Uhk8Z0ON5xr4tAorHmz+j4D/UllwN4di9sLn/pYtRUGmmCGMdT8Lka6N7kjjYxrSoWafPeg\n",
       "TesrvqVBn2SL7zxdO93FfW+VRv9ngLZgzRkFknRqvSevWcaxAiF8egxyp9c2vZ/M9urhEpvfyup8\n",
       "Bw0ezMeW/Y8MpXfZiJfNAoCZ6tTjReFE2Z6kTrUU3N5Q8FSsutmepEG6IQzY9LfNYVnlc4IYEX6H\n",
       "dmYpfpRcxuhdplRr3eY0CKuEr6HqMdEwfQZRsp6xyzkAAAC7QZsbSeEOiZTAgh/+qlUAAAMAAAb1\n",
       "rVg8q1AA5Y7WKz9HpAgMPhxtUFoWzxJ0GrvIu3DDufK6fZZmyU5z6qnxmmccFKWJfhwxpazaBfCR\n",
       "DYysXDGOghGhDV8e2WQfqA1erPH3xI9l0xPld3X6KAYMuu5FD3w4sUosNZBOiIN3g8rmlXLj37Zr\n",
       "Fg1I96lkf5vzOyb0p96ADYGw0l2/lFkG40qnUOUXL2Am2GWdYWWoZL/NueFuv0KutTiQ8AAAAUFB\n",
       "mz5J4Q8mUwIIf/6qVQAAAwAAFC4b/COYEABdKOoGDzJ7m8K7uBU9fV6jOAGrJu3C2PIqYgh5V0nX\n",
       "6OqoCGS/nzGSJ73inFxdV3UGYuZoGqWFdA5mur2LnkbkMa7GPl1lAz4IzuL+MJS0xOeTUTaQn7jt\n",
       "Qi+6Yo3JUfoqi2hnN2v9Yv5D8a6fwM5giqhEJJTBVRTAywwRXJLtgqjnJthJZYv+OaZnygMQO7wT\n",
       "He9Y3sj27dFbZyrAwUxkNDM5XV6Hx2lo+WmwoPeEUhPjV5ZSfunNYKOmxxZPCnz6Lrk4+sAq4K3M\n",
       "u7/C3hXhA/aG3L7FqDoRBhLkaA9n+ISsLqu18CyqbqEQG2KzYLF1vhZZUSP9wcINHI7ZYlsuFJ2v\n",
       "loEHWB7+txHWB2mns3R9rO5aAeglzMBWbjncW6BpPSzxLuEAAACUQZ9cRRE8N/8AAAMAADdF0mXs\n",
       "A/J6DKuggH3vABOuzp8dDEVfJlJJTjMpz4kEH1n2J1guRYp6rKNSP1iJ3TBPdbOH2xWAwIv/Li5G\n",
       "LtQCuDBspZIfCSut1r5IxEQP+DaVtHWoHrNhQ/UBYQ3xTK7h7OEgXAoNiK0P+WVU4fMpq6veUmLT\n",
       "LHpeo/x6sMQ1dh575wBBwQAAAJMBn31qQ38AAAMAADdF0mKCDiSJ4YH9wMhuGno1GADYaYXd1FVx\n",
       "cnt++BFDBxCPhmKsE6NqqnS9KKOvcjawju9PHANLW1YvxziTUSd8ie6xgJfJRqlaniEiYsrVZ7C1\n",
       "VC+aQiaZaM4Lpkn3F1TmwojR3qeP+Adoaf5mm+WztwAfj+ynK9ws8XlRyd/9TlOYGTgAFJAAAAEj\n",
       "QZtgSahBaJlMFPD//qmWAAADAABS+Fv05oCLAAuUlQyYPBSoY96MVuu8XNkhiiwU3L80MWJRikEr\n",
       "OGA91Wbnhd9wgUTa+ViE8D6qJWKoSF4HJdVaXfDNJ6IfEwAiF/adB29qb3dAe+Dk+F68p/PzBc+Q\n",
       "VfGRdHEiIwi8Sl4W4fto+n9MPzd1p33P30XZ2Lofgt5xgJneMcBAdv94Jrf9WrwykolkWTN1HV38\n",
       "i7WdztwYxJIQgmKCYkBcZO2Ul+2p7NTzteZHOgNNStdQOZpCSdi1wJ3CSsZi5C8lXb1+cLGanwFD\n",
       "mVQmtoGMCilLL7o9RAcFxeFD9xzO81Rwtou6TeadtcN7Tvs4b6KKlKz+PKXpq74D5qmuzYp/YkxE\n",
       "R2xAAIOAAAAAfQGfn2pDfwAAAwAAOgT79DqJfWPZxSoAENxmcHTfvylUesSHD44FbZzlVmcykuk6\n",
       "VSGpRQY2Zp9DTT77W4YXC3Rrj154Ygxd3xNx0WLKsa2p1xfbpkNPsIz30KReyF6X9q8Krwo0PsKa\n",
       "SiqnzRGaM9eow8iydnmx0OghAAFtAAAAvEGbgUnhClJlMCCH//6qVQAAAwAAFbvwWogG0aU33aIA\n",
       "Ds6uaJ8Gv46Mg/V7BhocW2I9YTecMeZ6LL3QuBXr7XjpjMGtaZ25FhlAeyY3pDP2swSve2X4tkgD\n",
       "Frrg7sDxuDn1nSapUNwjJ/nyBeOQJhPo8Vk+uVljxWp+4YbWLXz2jShWAURVlt30+yEwOOZEXCUA\n",
       "FEQ1u9LZtDYhjfQAk8A0KJDLd/Xyt+nnX80aiMIP9aPd9xOlZOsAAFbAAAAA4UGboknhDomUwIIf\n",
       "/qpVAAADAAA32ff/h1BSAFb+QoEXt5x/2GXKi9lKVrMO+XcTdxhSdDmdYqrhZwShZeSfCtOJKmBn\n",
       "reCzYZGhpkBYcp6jHx+DzxuTyjcypYFULqmizx0T5fTKAreO84Vj2gzoUXOdJUerJp4vTiJvxRND\n",
       "eW87VJf4YEAPcxUCqh9D99v6Qs9ILBiBHcvSen/iR0SripKbEUIWDnR4kM5hCJUikMR9iJ9Joyb1\n",
       "OpUjEkgA7ITzoNa2QldVjqTLYNSitwvkLAYYewkgItKzHyTD1yA25gAD/QAAAMpBm8RJ4Q8mUwUR\n",
       "PBD//qpVAAADAAA9Pt1YbvQCAD+j9oO6ZEnuDEZtPpGZkxXjz12Kb1tqQNNgGKyqyJGlN3FVIIE3\n",
       "VaQGi9yeX0SMIQuFPY+U0W/rYlH/hBdbuV5gcE1JmTBd9mm0YV6KI3L99eU50a11Yz3JjkIolNez\n",
       "UACcHOD4dWEvRLoJ1XgPTXRQN1tvZ6DtCgQhoa+C+Y4IicTxlblFy1avdfZxyA3gP5+PIEOSsLs/\n",
       "yL20xZU4MWaHgXMec4ArArk9AANqAAAAkAGf42pDfwAAAwAArLz5HjFRADjH/zznOTe9IhXOI3c5\n",
       "PW1cKjT98BQonznzNFGq7akQEGCLdAV0Fo7VLnvUHZ+cIaUlypDuNik6SejKzp1vDuphlGoYIwxH\n",
       "vPpPvTO1mqXM8ULOkE0m4M9ohO4oLfWoZwLmBFaQrP7YB8TCER0SfCTnTtdkR+7rlr1GwAAvIQAA\n",
       "AOBBm+ZJ4Q8mUwU8P//+qZYAAAMAAPp7ZR+oHLgAl+jObUGW4CBpeehe3emAiDR3/N2/SM52RFZV\n",
       "VybjhO7CCN0p2DmBxb/KNGgNbnuBY13fNEHV3PHnkKnBiq9tL85QujIGOPK7lP0/QtXoPKq6hrN9\n",
       "IJT7sNRDowl5escZEKNSD3czR3T9t7umS0MyA94qAw31QhV2GguyHoc+2zNFfqGhvPy8aU53M6IX\n",
       "HnjL9aAoiUy0WRNNREo4SgViSyq3oLjiv9hsEkkcHh+i6Wj/9n/sm2w+8Kb8d0bzdfOkAADUgQAA\n",
       "AIEBngVqQ38AAAMAALW863cX/KdcAIRuh8lbK4SABfaeZRhWr//zt30IZODAz8YKiFX6iRg/xs45\n",
       "SfKLBa6uEi4WC5QyMUhGWB1f0tqzwO/5PEFiROyONVAXPIebe+6NCn03mScZDFf/1kNlXk+WT/WP\n",
       "p38qHQu9PCiTpQ72EAAAj4EAAACWQZoHSeEPJlMCH//+qZYAAAMAAPmTQOyO+AD7efrvIEN89fCV\n",
       "dbSW6BLqvjPKpWMbfv7X8kudbec/a/x88V/8K2f2LPRYsj6kJAgCTWw6VeNani3KRbzhn7DPbzwW\n",
       "3rVLVrwHlHw2oTH63ybT+daXQgXj8lJrq92Qhex6rJQtwjHthxCYO0VStDKjUNv5aNdTybiQABxx\n",
       "AAAAuEGaKEnhDyZTAh///qmWAAADAAEADmXN1LBboHeYAIg+RK7xCO5Q8B1JP8mihWqcLF434BcE\n",
       "kWHhg0rL3EAX22Zym4/Kt19fmvawN+DpFY9Hmi6qcYamhQJ7Y59zg9D7AY4rq1pHmwfgzOnFM/rJ\n",
       "4ogvARi1ssbab8O9HqnRmjgmDjp1FSdb1gX4S6L1Fm1vH3qVfN/xbIPbAIQ+pOl5DP2DCM41DL11\n",
       "naoU1kiXwlh8PtOeykAACvgAAAEMQZpJSeEPJlMCCH/+qlUAAAMAAK4NuP0DbyIFseYA+eVq3UUA\n",
       "ZZF5EcdrANwOUwZ535+naGgnY1bZG6f1hZctfkr3346MIzfGabHG+3ERnRsZCtAbMb06toh48yN4\n",
       "N2NhAm0hpNJO5ctf+NcJAmI7//6UIcmSETlJXUXecveYjJS9AofWU0V0/Icm71pBO4nQ0smmXHNP\n",
       "LbCOFgh7G7QIhM2KIOcSMEOIJFMzzmPPeysWxY/7sChLUVRCpg7Og5guwchm9p/NHYIZXyMwLHFS\n",
       "+VgHslnG6/9JM7K69NYidQVGLC5LfzWua95WiJbp/VDxTafmWJmMHIpI68DS5w/OFF2Cd/a72Isr\n",
       "xljQsAAAAMVBmmpJ4Q8mUwIIf/6qVQAAAwAArijQtm1H+ZMANxFJ8VzZbCnQP+5GdGPu5B0MJwAZ\n",
       "O48qq8sPoOU+TRL5HUcOwi1XDYJb4k/XYlzAEwrQpeIhgIL3DzYAuzFxqquEGkqfLZxzsdG7T31k\n",
       "0Rv7g7Mk6ZyBg9yPtIh7I2zJlZSjo+MVfsK8+cbzpispVOaLfTdRgsWM9jARM7rjJGPxjuSBmXPV\n",
       "LQwbLJcYizjpK/4ZHcJykySQvpQiG39j/fb4q8oEgAAYMQAAARhBmotJ4Q8mUwII//61KoAAMZ8f\n",
       "NuQA4eFyR05OJKpxc829c4PMXTWvZwKvgQBVvEx4dSvKCGbks7ONKd391ppveklMDlcfUvq5qEyj\n",
       "YsBitO6QfYQnuqdsjXgkxejOWIDiPxe6oNey+JsdLaL0VHztu5XdogLh6KR4enc1urRFL31e1juU\n",
       "Dsbzh9E7wGqNDZXpl5pOJtI+uZFGNhqclyKcKwWeD8qU6MnnpdPhWM3H24RfHE1tj6hhPEyf82dE\n",
       "s7+6yyaiCNb50TNz6h9bdw3l12i7D23Q0//+uYDBIFprjyEqtkKj0FgCA+MUmFEAIkj/QAjzF7ez\n",
       "MCiOEAlhKPmSQrHeplbEelk7V3dmpJKS/VXDGOOv0iEnAAABJUGar0nhDyZTAgj//rUqgAAAAwBg\n",
       "ahHftpV8AJW5JRG4oTiKpJ8JTJrWSExMZGN99khj2kQ0FPKIFsHlrv+xH/4nJGyRXfNhkWnsCwlN\n",
       "vdzj9Ug4tB1Cr2BcKcp/tgecluNlT+WtK5v96B9C1zYhBDnvWVoPy+xeOTet6rt+v2VLji51QK0b\n",
       "L2CCQSX0f4T1sOvi4T+FETBW22Na9qBTrsQwilGmy1SvB6mZgql7GEoHnRMZLoyT4eXGeM+J95OM\n",
       "aBkIefS+Ew8FXM2DvORZryZsRSgQXmMODdRjPLF7KIfBOWJ9BlsCw7UKiQLjrDSCNWy00gB51KDL\n",
       "bbtXO/KGq9gtvC+4o5Pj86vrNAgV3NlxO+Mj/Y3kbZFP7xiULRFIVcYAAAm4AAAAhkGezUURPDv/\n",
       "AAADAAF3Vdrxa0Oy4wKDgAmo9sMRTwJEAO95hsTewsvGgC2pAn19i8C/jOFneVzzuLJpbuxFDEf8\n",
       "H9Zkue6mC4r1G4rRDcANp+IkcU+qkSj2iQ55gcalsDcklvUc2G4nMG6sRdHV4sJ/F2sdMCnHI/jP\n",
       "zZ2s2ttwgn4lMBHxAAAAlQGe7HRDfwAAAwAB+8doRNsAQJ0B+4WhZZHg8Z8augoDZ1FqfrhNGZ7d\n",
       "1FwZm+swBrissTCni3bRgN084Ykdmvx3qNrf/yfA59As5IYiIDuYuYG7EWOX9/GolnwkR7q67nT6\n",
       "HqxuPyXqMxt68uK3L+GFToUO5mvrLWLxA3uI2YU4BdjpWvLYRWG9/0L0sNEn/8EwgI2BAAAAdwGe\n",
       "7mpDfwAAAwACCv7MiO5yPFIGe/kxQAEKpadFcAClwirHwm2WbpszPnu4OffN8Wc6dfUN82Na+rRf\n",
       "lMKyFV9bRnp0qA5wcvbMMEFZNodZjwBGo0QvDv9ptfT+heQhi4c2WhTeUxZADF+1C6wFghRrtP/R\n",
       "rAELAAAA2kGa8UmoQWiZTBTwR//+tSqAAAADAGCfjE/AogA1Pejkctyvckd6llkby38ceUcVQm3W\n",
       "eYYGTMA8DTFnJ4LGU2dB5bmT42ND4cq3S3EhCTQtImYjV0gVrBiBGESsUlq4LiPz0QdNdBRXPv5t\n",
       "AhI2xVl2QnfHEnN1ohPDASKTqepaSjlQ5jNeA3+CObYJzlZBXvZKEYGfUEiMl4iQDAKEX1ieBbkN\n",
       "Fy0SF7J+nO0tjOyqHRn+pIbIVrLyjJpek/C98oTyr/w50Dab6J+LC4tY7kbRf7Sfq8hQAAOmAAAA\n",
       "VQGfEGpDfwAAAwACC1Fw5+BAA7SfpfiJMAXFKTMJZefVMc3a1Xr+W/I8x61BWUcy+Y5Q4mELdzij\n",
       "0bLK7+NOB/WzUccX/IRP9FkojvCr2LJ2BFAAJOAAAAEEQZsUSeEKUmUwII///rUqgAAAAwBioZJq\n",
       "54TjIAPzJ7W37zeUqoMoG4Fhxys3l8zX1Uc5zi1WqoWfiHHUxicRB2vf7rONvzLwuWBLOFfPx1qG\n",
       "paiJI1KYjwJp7QR4ofoEh5yfxh9ErQGHoryjbEOUTPuhgNqlmdyyb3RCZSiq+PdQLWU63xxtjDqf\n",
       "lrFnnmBpfSCzU1vNSQBVD7uIPAmLHko8Y6AG/MAy3fDkGUzjdBoUJkn6r+2HM/g/3IlVcjCSIr2g\n",
       "unnDNi4d8gdxUkslFD1KgFvbTyQyQAY3VrNk1nYiXuc5mDQZ4V3h0GGwvYwa4TEz7ajpnPXtHAgf\n",
       "6wdJwsFAAS8AAABqQZ8yRTRMN/8AAAMAAhqI4LSPUALO3yh4ueRqxssY/idJyV4jl+R5cnd0M1S2\n",
       "hfhCi6g6Sz6sOOr/ls6tcX/YRDlQ4BELiX42OK99OOfnOA5aKO8mbVbXCggcmC3k38v/3HSTabUI\n",
       "9AAFVAAAAF8Bn1NqQ38AAAMAAhqI3oiPUAIKBCpS+phTUp1xilE8ndrQS9fu1Ez+9lce0kLrvEqO\n",
       "Slei0P11vvoAAcdmOolcx3TtnGv6cyZJxfdtQOhXqh/FfiFFg3to57QMAAAr4AAAAOFBm1hJqEFo\n",
       "mUwII//+tSqAAAADAGW3B/EeXWQCk3pkz5VZz+ru4tOTo6+tyLnAZmwg0KkalQOryV6BANWUcpSs\n",
       "H46IY37aOFrGVSKsHScbIppYsvWVOigTBYAQ+1gOsz3ax1vDCaPhvPnvjlzguF/6KqKKyc28wzfn\n",
       "2mjaRdukii/wKEhC7tXcPxgVp+qeC1C7WvyVggURHvrTby5+NESv0oIX/iZfW9EI6C+9YsgXLms4\n",
       "LwbRAmem83yPgcXWpxrKbcIcVpsW7bY6ne45telA9Z+8alq+NGw+0UXMwCgAAl8AAAB3QZ92RREs\n",
       "O/8AAAMAAYsEfsPLRE4ABdSeEgI3Stw2X8RsOmQP/xNJC2kqlDG4vdrXCk2IroyxOtVsy4oiARfb\n",
       "/I2S/qmw6NyF5lw0vtAFneOC9zc4KPpLfU3XXoycS6lQy7EMnF6P8eVtiIQF3A7cgHWWf6ZgAsoA\n",
       "AABhAZ+VdEN/AAADAAIautblxfAAHWX1Is/iwlcDPpIPr3oCOXNMVv+Rl0pr9l+TR05o1Zzc2Oq4\n",
       "x+xhiR5EHmgt439v25AmHN/s3Hm1njqgKypiSRhH0R+i59US4VP7Y3AO6QAAAHABn5dqQ38AAAMA\n",
       "Aiteipv10rwAXUauefq+ukNLgayWRWuaZAxkT867SxghoZoePFHQcBv7iHnpufhiEqKJAy610hao\n",
       "/+BOU2MOTLSnM9zSztC6qOTSecW4hvmx5NYkXKBV/khJRprUctloF/+czAIfAAAAzEGbnEmoQWyZ\n",
       "TAgh//6qVQAAAwAAykpDekPAA++//9f/pmaBrktaLXlcsa2DpTTzSBdpike1zwnxjyjw4sjf3k7+\n",
       "glOtp9bWNi6hxjx9fxEZjvQ1u/xr2rAD2O0i7vGBJSmRoUgInBY52FBlC6iDWb8d1Rm16OfLfl8b\n",
       "aeyhi2I+9KRDfRSdWLAv6GfIDGfaBBQEX55gdBjSfB6JP2i8ZX8BFEtlIZoiLdZFYBTCKHuFhIQZ\n",
       "1cxGgF/PD7Cd4k2BUQJAi7u1aCltAAAPWAAAAJFBn7pFFSw7/wAAAwAEAj/7iyT7LAB/LxKcgPvn\n",
       "kNHu7fc0IJP+vNpi2Pk6evQGymbKd0KyH5RBSWL56Q7qCYWpiF7/iA6OHsgsecw20L+/Q2/b87jX\n",
       "UI4I/5QBZnbB6ak3y+vggEZSutEpCyd1olzJKbgv8CizyF0CReHMDx9iHb5UhCnGxCyhPJ1mlf8F\n",
       "CAYFAAAAUgGf2XRDfwAAAwAF0iVzhSYnUsC19HXqlwAXqDIQ37v0kxTxla/a569EwPyqRIl2mKA9\n",
       "2tPpeSqNMarSJfF0f8dweAk36L+bKgZ38OC5/672AVsAAAByAZ/bakN/AAADAAXSYHGrikvcpAAg\n",
       "iwo85Tua0n+WYZLt+K45j0i7O4xnojsWfsZ0JfgVVna9OUuNPe11cQ9Q9/5Hw0P+0LtyA+aD75Q4\n",
       "C19fbJ4JH5/2AIGID1ISRa/mJP58rNqvnXCTphj2Af+VGAHLAAAArUGbwEmoQWyZTAh///6plgAA\n",
       "AwADFRbkPREAF9cPUdodhTya689pSH11+H1u4FMs0qATa9qM+YBJk3OsjC5huMX6PwlA6dOHuA6b\n",
       "Cd0DfQ68bQ5rPRsx9VC0VkEI+WlfH0lUD6Z6OuQ8mQkvB8D56Spt2XMzge+KJLTAXThCYkTxyz7W\n",
       "xzhlNQMCDYWBBbYFbkHlOAJ+5+85Yfy7niEoPIDej5b0suIIhky4AAEDAAAAhkGf/kUVLDv/AAAD\n",
       "AAQCbR5Rm31vqgA2plNoIR9W6bO/TiTJfmnIGQIPmuU22k/5OAyvf8pykS3eCddRenrklpchGDdF\n",
       "xpT6Ne24i5EprXRs9U3MW3DDiMJ9U/eTLyTcTBChXhXJZvnoI5d6jOjUAZyHRAnV32u83yBiFNAd\n",
       "JHkem/nXgBywAAAASgGeHXRDfwAAAwAFwsuOoV91xABzgUgAcutClyG0rbx435SXScN5O3VyWOmj\n",
       "VXrHAUFx4exM/njd1Pkg+XN+vaTl+lWY3+NCAEjAAAAASAGeH2pDfwAAAwAFwsuOe7INtyLec/0A\n",
       "HNwCfJJWir9mXW4LricLhZ9ywl6UlXUPv+TP/QYUJMqweWdeg9I1UEy7BUhL6IAKSQAAAG1BmgJJ\n",
       "qEFsmUwUTDf//qeEAAADAA/vsqHXCNYt37mNABxe8B6TwRd8uH1AvIcgMbDRj5hGEdTL7yiGNeWj\n",
       "MbO6I8RtS4UWivMBgRKVGufxKLwxr1vV4+AAxJmQjHy5iqCrvMqQyt7ptDAAAIOAAAAAQQGeIWpD\n",
       "fwAAAwAFwsuIteHA6YdwY2kAF8Xoe2jdEPGdC2ML6LrzrzfuHvMJsmKSOPabfLy2xzpUqXPKEhe0\n",
       "AAIPAAAHDG1vb3YAAABsbXZoZAAAAAAAAAAAAAAAAAAAA+gAACasAAEAAAEAAAAAAAAAAAAAAAAB\n",
       "AAAAAAAAAAAAAAAAAAAAAQAAAAAAAAAAAAAAAAAAQAAAAAAAAAAAAAAAAAAAAAAAAAAAAAAAAAAA\n",
       "AAAAAAIAAAY2dHJhawAAAFx0a2hkAAAAAwAAAAAAAAAAAAAAAQAAAAAAACasAAAAAAAAAAAAAAAA\n",
       "AAAAAAABAAAAAAAAAAAAAAAAAAAAAQAAAAAAAAAAAAAAAAAAQAAAAAJYAAACWAAAAAAAJGVkdHMA\n",
       "AAAcZWxzdAAAAAAAAAABAAAmrAAACAAAAQAAAAAFrm1kaWEAAAAgbWRoZAAAAAAAAAAAAAAAAAAA\n",
       "KAAAAYwAVcQAAAAAAC1oZGxyAAAAAAAAAAB2aWRlAAAAAAAAAAAAAAAAVmlkZW9IYW5kbGVyAAAA\n",
       "BVltaW5mAAAAFHZtaGQAAAABAAAAAAAAAAAAAAAkZGluZgAAABxkcmVmAAAAAAAAAAEAAAAMdXJs\n",
       "IAAAAAEAAAUZc3RibAAAALVzdHNkAAAAAAAAAAEAAAClYXZjMQAAAAAAAAABAAAAAAAAAAAAAAAA\n",
       "AAAAAAJYAlgASAAAAEgAAAAAAAAAAQAAAAAAAAAAAAAAAAAAAAAAAAAAAAAAAAAAAAAAAAAAABj/\n",
       "/wAAADNhdmNDAWQAFv/hABpnZAAWrNlAmBN5ZYQAAAMABAAAAwBQPFi2WAEABmjr48siwAAAABx1\n",
       "dWlka2hA8l8kT8W6OaUbzwMj8wAAAAAAAAAYc3R0cwAAAAAAAAABAAAAYwAABAAAAAAUc3RzcwAA\n",
       "AAAAAAABAAAAAQAAAmBjdHRzAAAAAAAAAEoAAAADAAAIAAAAAAEAAAwAAAAAAQAABAAAAAAMAAAI\n",
       "AAAAAAEAABAAAAAAAgAABAAAAAABAAAUAAAAAAEAAAgAAAAAAQAAAAAAAAABAAAEAAAAAAEAABQA\n",
       "AAAAAQAACAAAAAABAAAAAAAAAAEAAAQAAAAAAQAAFAAAAAABAAAIAAAAAAEAAAAAAAAAAQAABAAA\n",
       "AAABAAAUAAAAAAEAAAgAAAAAAQAAAAAAAAABAAAEAAAAAAEAABQAAAAAAQAACAAAAAABAAAAAAAA\n",
       "AAEAAAQAAAAAAQAAFAAAAAABAAAIAAAAAAEAAAAAAAAAAQAABAAAAAABAAAMAAAAAAEAAAQAAAAA\n",
       "AQAAFAAAAAABAAAIAAAAAAEAAAAAAAAAAQAABAAAAAACAAAIAAAAAAEAAAwAAAAAAQAABAAAAAAB\n",
       "AAAQAAAAAAIAAAQAAAAAAwAACAAAAAABAAAQAAAAAAIAAAQAAAAAAQAADAAAAAABAAAEAAAAAAIA\n",
       "AAgAAAAAAQAADAAAAAABAAAEAAAAAAEAAAwAAAAAAQAABAAAAAAFAAAIAAAAAAEAABQAAAAAAQAA\n",
       "CAAAAAABAAAAAAAAAAEAAAQAAAAAAQAADAAAAAABAAAEAAAAAAEAABAAAAAAAgAABAAAAAABAAAU\n",
       "AAAAAAEAAAgAAAAAAQAAAAAAAAABAAAEAAAAAAEAABQAAAAAAQAACAAAAAABAAAAAAAAAAEAAAQA\n",
       "AAAAAQAAFAAAAAABAAAIAAAAAAEAAAAAAAAAAQAABAAAAAABAAAMAAAAAAEAAAQAAAAAHHN0c2MA\n",
       "AAAAAAAAAQAAAAEAAABjAAAAAQAAAaBzdHN6AAAAAAAAAAAAAABjAAAUPAAAAhcAAAFoAAABhwAA\n",
       "AMIAAAEvAAABBQAAAOAAAADGAAAAuAAAARUAAADNAAAAyQAAAMgAAADVAAAA6QAAAMQAAADnAAAA\n",
       "qQAAAFwAAAECAAAAfQAAAIUAAABqAAAA/gAAAK4AAAByAAAAeQAAAQsAAAB+AAAAiQAAAIIAAAEa\n",
       "AAAAlAAAAGwAAABqAAAAvAAAAIwAAACEAAAAeQAAAKwAAABkAAAAZAAAAFgAAACpAAAAMAAAAbMA\n",
       "AAHcAAACpQAAAQUAAAFbAAABqgAAAcUAAAGtAAAE1AAAAawAAAEeAAABWwAAARAAAAC/AAABRQAA\n",
       "AJgAAACXAAABJwAAAIEAAADAAAAA5QAAAM4AAACUAAAA5AAAAIUAAACaAAAAvAAAARAAAADJAAAB\n",
       "HAAAASkAAACKAAAAmQAAAHsAAADeAAAAWQAAAQgAAABuAAAAYwAAAOUAAAB7AAAAZQAAAHQAAADQ\n",
       "AAAAlQAAAFYAAAB2AAAAsQAAAIoAAABOAAAATAAAAHEAAABFAAAAFHN0Y28AAAAAAAAAAQAAACwA\n",
       "AABidWR0YQAAAFptZXRhAAAAAAAAACFoZGxyAAAAAAAAAABtZGlyYXBwbAAAAAAAAAAAAAAAAC1p\n",
       "bHN0AAAAJal0b28AAAAdZGF0YQAAAAEAAAAATGF2ZjU4LjI5LjEwMA==\n",
       "\">\n",
       "  Your browser does not support the video tag.\n",
       "</video>"
      ]
     },
     "metadata": {},
     "output_type": "display_data"
    }
   ],
   "source": [
    "quadrotor.animate_robot(x, u, xlim=[-2, 6])"
   ]
  },
  {
   "cell_type": "markdown",
   "metadata": {
    "id": "OTzzGmaw-hBp"
   },
   "source": [
    "## Задание 2 (6 баллов): уравнение Беллмана"
   ]
  },
  {
   "cell_type": "markdown",
   "metadata": {
    "id": "CjRB9PCPu4Ri"
   },
   "source": [
    "Теперь рассмотрим 1 из популярных в наши дни методов обучения с подкреплением: A2C. Для реализиции будем использовать популярную в наше время библиотеку RL-щиков [gymnasium](https://gymnasium.farama.org/content/basic_usage/).\n",
    "\n",
    "Произведем настройку окружения"
   ]
  },
  {
   "cell_type": "code",
   "execution_count": 4,
   "metadata": {
    "colab": {
     "base_uri": "https://localhost:8080/"
    },
    "execution": {
     "iopub.execute_input": "2024-05-25T14:20:41.013991Z",
     "iopub.status.busy": "2024-05-25T14:20:41.012992Z",
     "iopub.status.idle": "2024-05-25T14:20:47.082639Z",
     "shell.execute_reply": "2024-05-25T14:20:47.075630Z",
     "shell.execute_reply.started": "2024-05-25T14:20:41.013991Z"
    },
    "id": "EgmS8KwbJlGb",
    "outputId": "dc10cfb5-373d-4c24-cd28-77be4ed06c40"
   },
   "outputs": [
    {
     "name": "stderr",
     "output_type": "stream",
     "text": [
      "/bin/bash: ../xvfb: No such file or directory\n"
     ]
    }
   ],
   "source": [
    "import sys, os\n",
    "if 'google.colab' in sys.modules and not os.path.exists('.setup_complete'):\n",
    "    !wget -q https://raw.githubusercontent.com/yandexdataschool/Practical_RL/master/setup_colab.sh -O- | bash\n",
    "    !wget -q https://raw.githubusercontent.com/yandexdataschool/Practical_RL/master/week02_value_based/mdp.py\n",
    "    !touch .setup_complete\n",
    "\n",
    "# This code creates a virtual display to draw game images on.\n",
    "# It will have no effect if your machine has a monitor.\n",
    "if type(os.environ.get(\"DISPLAY\")) is not str or len(os.environ.get(\"DISPLAY\")) == 0:\n",
    "    !bash ../xvfb start\n",
    "    os.environ['DISPLAY'] = ':1'"
   ]
  },
  {
   "cell_type": "code",
   "execution_count": 308,
   "metadata": {
    "colab": {
     "base_uri": "https://localhost:8080/"
    },
    "execution": {
     "iopub.execute_input": "2024-05-25T07:27:34.613860Z",
     "iopub.status.busy": "2024-05-25T07:27:34.613860Z",
     "iopub.status.idle": "2024-05-25T07:27:34.731330Z",
     "shell.execute_reply": "2024-05-25T07:27:34.730339Z",
     "shell.execute_reply.started": "2024-05-25T07:27:34.613860Z"
    },
    "id": "7R5q6c7hKegN",
    "outputId": "1ab819d2-012a-4b3a-9fb4-a4a7f99d4bc3"
   },
   "outputs": [],
   "source": [
    "#!pip install swig\n",
    "#!pip install gymnasium[toy_text,classic_control,box2d]"
   ]
  },
  {
   "cell_type": "markdown",
   "metadata": {
    "id": "x4OlK36q3cUp"
   },
   "source": [
    "Алгоритм будем исследовать на примере задачи [cartpole](https://gymnasium.farama.org/environments/classic_control/cart_pole/).\n",
    "\n",
    "gymnasium предоставляет возможность работать с симуляциями окружающих сред для разных задач. Прочитайте комментарии к коду в следующей ячейке."
   ]
  },
  {
   "cell_type": "code",
   "execution_count": 5,
   "metadata": {
    "colab": {
     "base_uri": "https://localhost:8080/",
     "height": 448
    },
    "execution": {
     "iopub.execute_input": "2024-05-25T14:20:50.087459Z",
     "iopub.status.busy": "2024-05-25T14:20:50.087459Z",
     "iopub.status.idle": "2024-05-25T14:20:52.140510Z",
     "shell.execute_reply": "2024-05-25T14:20:52.138504Z",
     "shell.execute_reply.started": "2024-05-25T14:20:50.087459Z"
    },
    "id": "etFmql7x-fo7",
    "outputId": "3032f1b4-5edb-4737-b9d3-d0b2aaf67991"
   },
   "outputs": [
    {
     "name": "stderr",
     "output_type": "stream",
     "text": [
      "C:\\Users\\valer\\anaconda3\\lib\\site-packages\\gymnasium\\envs\\registration.py:513: DeprecationWarning: \u001b[33mWARN: The environment CartPole-v0 is out of date. You should consider upgrading to version `v1`.\u001b[0m\n",
      "  logger.deprecation(\n"
     ]
    },
    {
     "name": "stdout",
     "output_type": "stream",
     "text": [
      "Выход функции step: (array([ 0.01288518, -0.19192804,  0.00601176,  0.24816151], dtype=float32), 1.0, False, False, {})\n",
      "state vector dim = 4\n",
      "n_actions = 2\n"
     ]
    },
    {
     "data": {
      "application/pdf": "[encoded data removed]",
      "image/svg+xml": [
       "<?xml version=\"1.0\" encoding=\"utf-8\" standalone=\"no\"?>\n",
       "<!DOCTYPE svg PUBLIC \"-//W3C//DTD SVG 1.1//EN\"\n",
       "  \"http://www.w3.org/Graphics/SVG/1.1/DTD/svg11.dtd\">\n",
       "<svg xmlns:xlink=\"http://www.w3.org/1999/xlink\" width=\"397.6075pt\" height=\"272.659744pt\" viewBox=\"0 0 397.6075 272.659744\" xmlns=\"http://www.w3.org/2000/svg\" version=\"1.1\">\n",
       " <metadata>\n",
       "  <rdf:RDF xmlns:dc=\"http://purl.org/dc/elements/1.1/\" xmlns:cc=\"http://creativecommons.org/ns#\" xmlns:rdf=\"http://www.w3.org/1999/02/22-rdf-syntax-ns#\">\n",
       "   <cc:Work>\n",
       "    <dc:type rdf:resource=\"http://purl.org/dc/dcmitype/StillImage\"/>\n",
       "    <dc:date>2024-05-25T17:20:51.692388</dc:date>\n",
       "    <dc:format>image/svg+xml</dc:format>\n",
       "    <dc:creator>\n",
       "     <cc:Agent>\n",
       "      <dc:title>Matplotlib v3.9.0, https://matplotlib.org/</dc:title>\n",
       "     </cc:Agent>\n",
       "    </dc:creator>\n",
       "   </cc:Work>\n",
       "  </rdf:RDF>\n",
       " </metadata>\n",
       " <defs>\n",
       "  <style type=\"text/css\">*{stroke-linejoin: round; stroke-linecap: butt}</style>\n",
       " </defs>\n",
       " <g id=\"figure_1\">\n",
       "  <g id=\"patch_1\">\n",
       "   <path d=\"M 0 272.659744 \n",
       "L 397.6075 272.659744 \n",
       "L 397.6075 0 \n",
       "L 0 0 \n",
       "z\n",
       "\" style=\"fill: #ffffff\"/>\n",
       "  </g>\n",
       "  <g id=\"axes_1\">\n",
       "   <g id=\"patch_2\">\n",
       "    <path d=\"M 33.2875 248.781619 \n",
       "L 390.4075 248.781619 \n",
       "L 390.4075 10.701619 \n",
       "L 33.2875 10.701619 \n",
       "z\n",
       "\" style=\"fill: #ffffff\"/>\n",
       "   </g>\n",
       "   <g clip-path=\"url(#p6423428b6c)\">\n",
       "    <image xlink:href=\"data:image/png;base64,\n",
       "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\" id=\"imagee334fbd19c\" transform=\"scale(1 -1) translate(0 -238.32)\" x=\"33.2875\" y=\"-10.461619\" width=\"357.12\" height=\"238.32\"/>\n",
       "   </g>\n",
       "   <g id=\"matplotlib.axis_1\">\n",
       "    <g id=\"xtick_1\">\n",
       "     <g id=\"line2d_1\">\n",
       "      <defs>\n",
       "       <path id=\"m9c4936912a\" d=\"M 0 0 \n",
       "L 0 3.5 \n",
       "\" style=\"stroke: #000000; stroke-width: 0.8\"/>\n",
       "      </defs>\n",
       "      <g>\n",
       "       <use xlink:href=\"#m9c4936912a\" x=\"33.5851\" y=\"248.781619\" style=\"stroke: #000000; stroke-width: 0.8\"/>\n",
       "      </g>\n",
       "     </g>\n",
       "     <g id=\"text_1\">\n",
       "      <!-- 0 -->\n",
       "      <g transform=\"translate(30.40385 263.380056) scale(0.1 -0.1)\">\n",
       "       <defs>\n",
       "        <path id=\"DejaVuSans-30\" d=\"M 2034 4250 \n",
       "Q 1547 4250 1301 3770 \n",
       "Q 1056 3291 1056 2328 \n",
       "Q 1056 1369 1301 889 \n",
       "Q 1547 409 2034 409 \n",
       "Q 2525 409 2770 889 \n",
       "Q 3016 1369 3016 2328 \n",
       "Q 3016 3291 2770 3770 \n",
       "Q 2525 4250 2034 4250 \n",
       "z\n",
       "M 2034 4750 \n",
       "Q 2819 4750 3233 4129 \n",
       "Q 3647 3509 3647 2328 \n",
       "Q 3647 1150 3233 529 \n",
       "Q 2819 -91 2034 -91 \n",
       "Q 1250 -91 836 529 \n",
       "Q 422 1150 422 2328 \n",
       "Q 422 3509 836 4129 \n",
       "Q 1250 4750 2034 4750 \n",
       "z\n",
       "\" transform=\"scale(0.015625)\"/>\n",
       "       </defs>\n",
       "       <use xlink:href=\"#DejaVuSans-30\"/>\n",
       "      </g>\n",
       "     </g>\n",
       "    </g>\n",
       "    <g id=\"xtick_2\">\n",
       "     <g id=\"line2d_2\">\n",
       "      <g>\n",
       "       <use xlink:href=\"#m9c4936912a\" x=\"93.1051\" y=\"248.781619\" style=\"stroke: #000000; stroke-width: 0.8\"/>\n",
       "      </g>\n",
       "     </g>\n",
       "     <g id=\"text_2\">\n",
       "      <!-- 100 -->\n",
       "      <g transform=\"translate(83.56135 263.380056) scale(0.1 -0.1)\">\n",
       "       <defs>\n",
       "        <path id=\"DejaVuSans-31\" d=\"M 794 531 \n",
       "L 1825 531 \n",
       "L 1825 4091 \n",
       "L 703 3866 \n",
       "L 703 4441 \n",
       "L 1819 4666 \n",
       "L 2450 4666 \n",
       "L 2450 531 \n",
       "L 3481 531 \n",
       "L 3481 0 \n",
       "L 794 0 \n",
       "L 794 531 \n",
       "z\n",
       "\" transform=\"scale(0.015625)\"/>\n",
       "       </defs>\n",
       "       <use xlink:href=\"#DejaVuSans-31\"/>\n",
       "       <use xlink:href=\"#DejaVuSans-30\" x=\"63.623047\"/>\n",
       "       <use xlink:href=\"#DejaVuSans-30\" x=\"127.246094\"/>\n",
       "      </g>\n",
       "     </g>\n",
       "    </g>\n",
       "    <g id=\"xtick_3\">\n",
       "     <g id=\"line2d_3\">\n",
       "      <g>\n",
       "       <use xlink:href=\"#m9c4936912a\" x=\"152.6251\" y=\"248.781619\" style=\"stroke: #000000; stroke-width: 0.8\"/>\n",
       "      </g>\n",
       "     </g>\n",
       "     <g id=\"text_3\">\n",
       "      <!-- 200 -->\n",
       "      <g transform=\"translate(143.08135 263.380056) scale(0.1 -0.1)\">\n",
       "       <defs>\n",
       "        <path id=\"DejaVuSans-32\" d=\"M 1228 531 \n",
       "L 3431 531 \n",
       "L 3431 0 \n",
       "L 469 0 \n",
       "L 469 531 \n",
       "Q 828 903 1448 1529 \n",
       "Q 2069 2156 2228 2338 \n",
       "Q 2531 2678 2651 2914 \n",
       "Q 2772 3150 2772 3378 \n",
       "Q 2772 3750 2511 3984 \n",
       "Q 2250 4219 1831 4219 \n",
       "Q 1534 4219 1204 4116 \n",
       "Q 875 4013 500 3803 \n",
       "L 500 4441 \n",
       "Q 881 4594 1212 4672 \n",
       "Q 1544 4750 1819 4750 \n",
       "Q 2544 4750 2975 4387 \n",
       "Q 3406 4025 3406 3419 \n",
       "Q 3406 3131 3298 2873 \n",
       "Q 3191 2616 2906 2266 \n",
       "Q 2828 2175 2409 1742 \n",
       "Q 1991 1309 1228 531 \n",
       "z\n",
       "\" transform=\"scale(0.015625)\"/>\n",
       "       </defs>\n",
       "       <use xlink:href=\"#DejaVuSans-32\"/>\n",
       "       <use xlink:href=\"#DejaVuSans-30\" x=\"63.623047\"/>\n",
       "       <use xlink:href=\"#DejaVuSans-30\" x=\"127.246094\"/>\n",
       "      </g>\n",
       "     </g>\n",
       "    </g>\n",
       "    <g id=\"xtick_4\">\n",
       "     <g id=\"line2d_4\">\n",
       "      <g>\n",
       "       <use xlink:href=\"#m9c4936912a\" x=\"212.1451\" y=\"248.781619\" style=\"stroke: #000000; stroke-width: 0.8\"/>\n",
       "      </g>\n",
       "     </g>\n",
       "     <g id=\"text_4\">\n",
       "      <!-- 300 -->\n",
       "      <g transform=\"translate(202.60135 263.380056) scale(0.1 -0.1)\">\n",
       "       <defs>\n",
       "        <path id=\"DejaVuSans-33\" d=\"M 2597 2516 \n",
       "Q 3050 2419 3304 2112 \n",
       "Q 3559 1806 3559 1356 \n",
       "Q 3559 666 3084 287 \n",
       "Q 2609 -91 1734 -91 \n",
       "Q 1441 -91 1130 -33 \n",
       "Q 819 25 488 141 \n",
       "L 488 750 \n",
       "Q 750 597 1062 519 \n",
       "Q 1375 441 1716 441 \n",
       "Q 2309 441 2620 675 \n",
       "Q 2931 909 2931 1356 \n",
       "Q 2931 1769 2642 2001 \n",
       "Q 2353 2234 1838 2234 \n",
       "L 1294 2234 \n",
       "L 1294 2753 \n",
       "L 1863 2753 \n",
       "Q 2328 2753 2575 2939 \n",
       "Q 2822 3125 2822 3475 \n",
       "Q 2822 3834 2567 4026 \n",
       "Q 2313 4219 1838 4219 \n",
       "Q 1578 4219 1281 4162 \n",
       "Q 984 4106 628 3988 \n",
       "L 628 4550 \n",
       "Q 988 4650 1302 4700 \n",
       "Q 1616 4750 1894 4750 \n",
       "Q 2613 4750 3031 4423 \n",
       "Q 3450 4097 3450 3541 \n",
       "Q 3450 3153 3228 2886 \n",
       "Q 3006 2619 2597 2516 \n",
       "z\n",
       "\" transform=\"scale(0.015625)\"/>\n",
       "       </defs>\n",
       "       <use xlink:href=\"#DejaVuSans-33\"/>\n",
       "       <use xlink:href=\"#DejaVuSans-30\" x=\"63.623047\"/>\n",
       "       <use xlink:href=\"#DejaVuSans-30\" x=\"127.246094\"/>\n",
       "      </g>\n",
       "     </g>\n",
       "    </g>\n",
       "    <g id=\"xtick_5\">\n",
       "     <g id=\"line2d_5\">\n",
       "      <g>\n",
       "       <use xlink:href=\"#m9c4936912a\" x=\"271.6651\" y=\"248.781619\" style=\"stroke: #000000; stroke-width: 0.8\"/>\n",
       "      </g>\n",
       "     </g>\n",
       "     <g id=\"text_5\">\n",
       "      <!-- 400 -->\n",
       "      <g transform=\"translate(262.12135 263.380056) scale(0.1 -0.1)\">\n",
       "       <defs>\n",
       "        <path id=\"DejaVuSans-34\" d=\"M 2419 4116 \n",
       "L 825 1625 \n",
       "L 2419 1625 \n",
       "L 2419 4116 \n",
       "z\n",
       "M 2253 4666 \n",
       "L 3047 4666 \n",
       "L 3047 1625 \n",
       "L 3713 1625 \n",
       "L 3713 1100 \n",
       "L 3047 1100 \n",
       "L 3047 0 \n",
       "L 2419 0 \n",
       "L 2419 1100 \n",
       "L 313 1100 \n",
       "L 313 1709 \n",
       "L 2253 4666 \n",
       "z\n",
       "\" transform=\"scale(0.015625)\"/>\n",
       "       </defs>\n",
       "       <use xlink:href=\"#DejaVuSans-34\"/>\n",
       "       <use xlink:href=\"#DejaVuSans-30\" x=\"63.623047\"/>\n",
       "       <use xlink:href=\"#DejaVuSans-30\" x=\"127.246094\"/>\n",
       "      </g>\n",
       "     </g>\n",
       "    </g>\n",
       "    <g id=\"xtick_6\">\n",
       "     <g id=\"line2d_6\">\n",
       "      <g>\n",
       "       <use xlink:href=\"#m9c4936912a\" x=\"331.1851\" y=\"248.781619\" style=\"stroke: #000000; stroke-width: 0.8\"/>\n",
       "      </g>\n",
       "     </g>\n",
       "     <g id=\"text_6\">\n",
       "      <!-- 500 -->\n",
       "      <g transform=\"translate(321.64135 263.380056) scale(0.1 -0.1)\">\n",
       "       <defs>\n",
       "        <path id=\"DejaVuSans-35\" d=\"M 691 4666 \n",
       "L 3169 4666 \n",
       "L 3169 4134 \n",
       "L 1269 4134 \n",
       "L 1269 2991 \n",
       "Q 1406 3038 1543 3061 \n",
       "Q 1681 3084 1819 3084 \n",
       "Q 2600 3084 3056 2656 \n",
       "Q 3513 2228 3513 1497 \n",
       "Q 3513 744 3044 326 \n",
       "Q 2575 -91 1722 -91 \n",
       "Q 1428 -91 1123 -41 \n",
       "Q 819 9 494 109 \n",
       "L 494 744 \n",
       "Q 775 591 1075 516 \n",
       "Q 1375 441 1709 441 \n",
       "Q 2250 441 2565 725 \n",
       "Q 2881 1009 2881 1497 \n",
       "Q 2881 1984 2565 2268 \n",
       "Q 2250 2553 1709 2553 \n",
       "Q 1456 2553 1204 2497 \n",
       "Q 953 2441 691 2322 \n",
       "L 691 4666 \n",
       "z\n",
       "\" transform=\"scale(0.015625)\"/>\n",
       "       </defs>\n",
       "       <use xlink:href=\"#DejaVuSans-35\"/>\n",
       "       <use xlink:href=\"#DejaVuSans-30\" x=\"63.623047\"/>\n",
       "       <use xlink:href=\"#DejaVuSans-30\" x=\"127.246094\"/>\n",
       "      </g>\n",
       "     </g>\n",
       "    </g>\n",
       "   </g>\n",
       "   <g id=\"matplotlib.axis_2\">\n",
       "    <g id=\"ytick_1\">\n",
       "     <g id=\"line2d_7\">\n",
       "      <defs>\n",
       "       <path id=\"mde94caf4ea\" d=\"M 0 0 \n",
       "L -3.5 0 \n",
       "\" style=\"stroke: #000000; stroke-width: 0.8\"/>\n",
       "      </defs>\n",
       "      <g>\n",
       "       <use xlink:href=\"#mde94caf4ea\" x=\"33.2875\" y=\"10.999219\" style=\"stroke: #000000; stroke-width: 0.8\"/>\n",
       "      </g>\n",
       "     </g>\n",
       "     <g id=\"text_7\">\n",
       "      <!-- 0 -->\n",
       "      <g transform=\"translate(19.925 14.798437) scale(0.1 -0.1)\">\n",
       "       <use xlink:href=\"#DejaVuSans-30\"/>\n",
       "      </g>\n",
       "     </g>\n",
       "    </g>\n",
       "    <g id=\"ytick_2\">\n",
       "     <g id=\"line2d_8\">\n",
       "      <g>\n",
       "       <use xlink:href=\"#mde94caf4ea\" x=\"33.2875\" y=\"40.759219\" style=\"stroke: #000000; stroke-width: 0.8\"/>\n",
       "      </g>\n",
       "     </g>\n",
       "     <g id=\"text_8\">\n",
       "      <!-- 50 -->\n",
       "      <g transform=\"translate(13.5625 44.558437) scale(0.1 -0.1)\">\n",
       "       <use xlink:href=\"#DejaVuSans-35\"/>\n",
       "       <use xlink:href=\"#DejaVuSans-30\" x=\"63.623047\"/>\n",
       "      </g>\n",
       "     </g>\n",
       "    </g>\n",
       "    <g id=\"ytick_3\">\n",
       "     <g id=\"line2d_9\">\n",
       "      <g>\n",
       "       <use xlink:href=\"#mde94caf4ea\" x=\"33.2875\" y=\"70.519219\" style=\"stroke: #000000; stroke-width: 0.8\"/>\n",
       "      </g>\n",
       "     </g>\n",
       "     <g id=\"text_9\">\n",
       "      <!-- 100 -->\n",
       "      <g transform=\"translate(7.2 74.318437) scale(0.1 -0.1)\">\n",
       "       <use xlink:href=\"#DejaVuSans-31\"/>\n",
       "       <use xlink:href=\"#DejaVuSans-30\" x=\"63.623047\"/>\n",
       "       <use xlink:href=\"#DejaVuSans-30\" x=\"127.246094\"/>\n",
       "      </g>\n",
       "     </g>\n",
       "    </g>\n",
       "    <g id=\"ytick_4\">\n",
       "     <g id=\"line2d_10\">\n",
       "      <g>\n",
       "       <use xlink:href=\"#mde94caf4ea\" x=\"33.2875\" y=\"100.279219\" style=\"stroke: #000000; stroke-width: 0.8\"/>\n",
       "      </g>\n",
       "     </g>\n",
       "     <g id=\"text_10\">\n",
       "      <!-- 150 -->\n",
       "      <g transform=\"translate(7.2 104.078437) scale(0.1 -0.1)\">\n",
       "       <use xlink:href=\"#DejaVuSans-31\"/>\n",
       "       <use xlink:href=\"#DejaVuSans-35\" x=\"63.623047\"/>\n",
       "       <use xlink:href=\"#DejaVuSans-30\" x=\"127.246094\"/>\n",
       "      </g>\n",
       "     </g>\n",
       "    </g>\n",
       "    <g id=\"ytick_5\">\n",
       "     <g id=\"line2d_11\">\n",
       "      <g>\n",
       "       <use xlink:href=\"#mde94caf4ea\" x=\"33.2875\" y=\"130.039219\" style=\"stroke: #000000; stroke-width: 0.8\"/>\n",
       "      </g>\n",
       "     </g>\n",
       "     <g id=\"text_11\">\n",
       "      <!-- 200 -->\n",
       "      <g transform=\"translate(7.2 133.838437) scale(0.1 -0.1)\">\n",
       "       <use xlink:href=\"#DejaVuSans-32\"/>\n",
       "       <use xlink:href=\"#DejaVuSans-30\" x=\"63.623047\"/>\n",
       "       <use xlink:href=\"#DejaVuSans-30\" x=\"127.246094\"/>\n",
       "      </g>\n",
       "     </g>\n",
       "    </g>\n",
       "    <g id=\"ytick_6\">\n",
       "     <g id=\"line2d_12\">\n",
       "      <g>\n",
       "       <use xlink:href=\"#mde94caf4ea\" x=\"33.2875\" y=\"159.799219\" style=\"stroke: #000000; stroke-width: 0.8\"/>\n",
       "      </g>\n",
       "     </g>\n",
       "     <g id=\"text_12\">\n",
       "      <!-- 250 -->\n",
       "      <g transform=\"translate(7.2 163.598437) scale(0.1 -0.1)\">\n",
       "       <use xlink:href=\"#DejaVuSans-32\"/>\n",
       "       <use xlink:href=\"#DejaVuSans-35\" x=\"63.623047\"/>\n",
       "       <use xlink:href=\"#DejaVuSans-30\" x=\"127.246094\"/>\n",
       "      </g>\n",
       "     </g>\n",
       "    </g>\n",
       "    <g id=\"ytick_7\">\n",
       "     <g id=\"line2d_13\">\n",
       "      <g>\n",
       "       <use xlink:href=\"#mde94caf4ea\" x=\"33.2875\" y=\"189.559219\" style=\"stroke: #000000; stroke-width: 0.8\"/>\n",
       "      </g>\n",
       "     </g>\n",
       "     <g id=\"text_13\">\n",
       "      <!-- 300 -->\n",
       "      <g transform=\"translate(7.2 193.358437) scale(0.1 -0.1)\">\n",
       "       <use xlink:href=\"#DejaVuSans-33\"/>\n",
       "       <use xlink:href=\"#DejaVuSans-30\" x=\"63.623047\"/>\n",
       "       <use xlink:href=\"#DejaVuSans-30\" x=\"127.246094\"/>\n",
       "      </g>\n",
       "     </g>\n",
       "    </g>\n",
       "    <g id=\"ytick_8\">\n",
       "     <g id=\"line2d_14\">\n",
       "      <g>\n",
       "       <use xlink:href=\"#mde94caf4ea\" x=\"33.2875\" y=\"219.319219\" style=\"stroke: #000000; stroke-width: 0.8\"/>\n",
       "      </g>\n",
       "     </g>\n",
       "     <g id=\"text_14\">\n",
       "      <!-- 350 -->\n",
       "      <g transform=\"translate(7.2 223.118437) scale(0.1 -0.1)\">\n",
       "       <use xlink:href=\"#DejaVuSans-33\"/>\n",
       "       <use xlink:href=\"#DejaVuSans-35\" x=\"63.623047\"/>\n",
       "       <use xlink:href=\"#DejaVuSans-30\" x=\"127.246094\"/>\n",
       "      </g>\n",
       "     </g>\n",
       "    </g>\n",
       "   </g>\n",
       "   <g id=\"patch_3\">\n",
       "    <path d=\"M 33.2875 248.781619 \n",
       "L 33.2875 10.701619 \n",
       "\" style=\"fill: none; stroke: #000000; stroke-width: 0.8; stroke-linejoin: miter; stroke-linecap: square\"/>\n",
       "   </g>\n",
       "   <g id=\"patch_4\">\n",
       "    <path d=\"M 390.4075 248.781619 \n",
       "L 390.4075 10.701619 \n",
       "\" style=\"fill: none; stroke: #000000; stroke-width: 0.8; stroke-linejoin: miter; stroke-linecap: square\"/>\n",
       "   </g>\n",
       "   <g id=\"patch_5\">\n",
       "    <path d=\"M 33.2875 248.781619 \n",
       "L 390.4075 248.781619 \n",
       "\" style=\"fill: none; stroke: #000000; stroke-width: 0.8; stroke-linejoin: miter; stroke-linecap: square\"/>\n",
       "   </g>\n",
       "   <g id=\"patch_6\">\n",
       "    <path d=\"M 33.2875 10.701619 \n",
       "L 390.4075 10.701619 \n",
       "\" style=\"fill: none; stroke: #000000; stroke-width: 0.8; stroke-linejoin: miter; stroke-linecap: square\"/>\n",
       "   </g>\n",
       "  </g>\n",
       " </g>\n",
       " <defs>\n",
       "  <clipPath id=\"p6423428b6c\">\n",
       "   <rect x=\"33.2875\" y=\"10.701619\" width=\"357.12\" height=\"238.08\"/>\n",
       "  </clipPath>\n",
       " </defs>\n",
       "</svg>\n"
      ],
      "text/plain": [
       "<Figure size 640x480 with 1 Axes>"
      ]
     },
     "metadata": {},
     "output_type": "display_data"
    }
   ],
   "source": [
    "import torch\n",
    "import numpy as np\n",
    "from collections import deque\n",
    "import matplotlib.pyplot as plt\n",
    "import gymnasium as gym\n",
    "\n",
    "# if you see \"<classname> has no attribute .env\", remove .env or update gym\n",
    "env = gym.make(\"CartPole-v0\", render_mode=\"rgb_array\").env # так создается симулятов окружения\n",
    "\n",
    "env.reset() # сбрасываем параметры симулятора (устанавливаем прошедшее всемя с начала эпизода на 0, накопленную награду на 0, сбрасываются параметры инерции)\n",
    "n_actions = env.action_space.n # получаем количество возможных действий управления\n",
    "state_dim = env.observation_space.shape[0] # получаем размерность вектора наблюдений\n",
    "print('Выход функции step:', env.step(0)) #для того чтобы сделать шаг симуляции есть функция step, принимающая на вход действие и возвращающая следующее состояние, награду, индикатор окончания эпизода и дополнительную иннформацию\n",
    "plt.imshow(env.render()) #render отрисовывает окружающую среду в формате пригодном для подачи в функцию imshow\n",
    "print(\"state vector dim =\", state_dim)\n",
    "print(\"n_actions =\", n_actions)\n",
    "\n",
    "env.close() #останавливаем симуляцию"
   ]
  },
  {
   "cell_type": "code",
   "execution_count": 6,
   "metadata": {
    "execution": {
     "iopub.execute_input": "2024-05-25T14:20:59.377400Z",
     "iopub.status.busy": "2024-05-25T14:20:59.377400Z",
     "iopub.status.idle": "2024-05-25T14:20:59.485963Z",
     "shell.execute_reply": "2024-05-25T14:20:59.484965Z",
     "shell.execute_reply.started": "2024-05-25T14:20:59.377400Z"
    },
    "id": "17eLK9s6YEaE"
   },
   "outputs": [],
   "source": [
    "import os\n",
    "from itertools import count\n",
    "import torch\n",
    "import torch.nn as nn\n",
    "import torch.optim as optim\n",
    "import torch.nn.functional as F\n",
    "from torch.distributions import Categorical"
   ]
  },
  {
   "cell_type": "code",
   "execution_count": 7,
   "metadata": {
    "execution": {
     "iopub.execute_input": "2024-05-25T14:21:01.018150Z",
     "iopub.status.busy": "2024-05-25T14:21:01.018150Z",
     "iopub.status.idle": "2024-05-25T14:21:01.224620Z",
     "shell.execute_reply": "2024-05-25T14:21:01.222611Z",
     "shell.execute_reply.started": "2024-05-25T14:21:01.018150Z"
    },
    "id": "H8fM0urV6eNv"
   },
   "outputs": [
    {
     "data": {
      "text/plain": [
       "(device(type='cuda'), 4, 2)"
      ]
     },
     "execution_count": 7,
     "metadata": {},
     "output_type": "execute_result"
    }
   ],
   "source": [
    "device = torch.device(\"cuda\" if torch.cuda.is_available() else \"cpu\")\n",
    "state_size = env.observation_space.shape[0]\n",
    "action_size = env.action_space.n\n",
    "\n",
    "device, state_size, action_size"
   ]
  },
  {
   "cell_type": "markdown",
   "metadata": {
    "id": "h0TSpPXA7geS"
   },
   "source": [
    "Напомним суть метода A2C:\n",
    "\n",
    "Есть 2 нейронный сети: Actor и Critic. Critic - по-сути функция Беллмана, которую обучают под дискретное уравнение Беллмана.\n",
    "\n",
    "Actor - политика, которую мы обучает максимизировать функцию Беллмана.\n",
    "\n"
   ]
  },
  {
   "cell_type": "markdown",
   "metadata": {
    "id": "fdS3KqyvEfiV"
   },
   "source": [
    "Создайте 2 вышеупомянутые нейросети. Для нашей задачи хватит 2-3 линейных слоя в каждой. Так как пространство действий дискретно, вам  надо будет пробросить градиент через семплирование с вероятностями. В этом вам поможет torch.distributions.Categorical как возвращаемое значение Actor"
   ]
  },
  {
   "cell_type": "code",
   "execution_count": 8,
   "metadata": {
    "execution": {
     "iopub.execute_input": "2024-05-25T14:21:06.048588Z",
     "iopub.status.busy": "2024-05-25T14:21:06.048588Z",
     "iopub.status.idle": "2024-05-25T14:21:06.173312Z",
     "shell.execute_reply": "2024-05-25T14:21:06.172307Z",
     "shell.execute_reply.started": "2024-05-25T14:21:06.048588Z"
    },
    "id": "ImqPQdZQEe9I"
   },
   "outputs": [],
   "source": [
    "class Actor(nn.Module):\n",
    "    def __init__(self, state_size, action_size, hidden_dim=256):\n",
    "        super(Actor, self).__init__()\n",
    "        self.network = nn.Sequential(\n",
    "            nn.Linear(state_size, hidden_dim),\n",
    "            nn.ReLU(),\n",
    "            nn.Linear(hidden_dim, hidden_dim),\n",
    "            nn.ReLU(),\n",
    "            nn.Linear(hidden_dim, action_size),\n",
    "            nn.Softmax(dim=-1)\n",
    "        )\n",
    "\n",
    "    def forward(self, state):\n",
    "        probs = self.network(state)\n",
    "        return Categorical(probs)\n",
    "\n",
    "\n",
    "class Critic(nn.Module):\n",
    "    def __init__(self, state_size, action_size=None, hidden_dim=256):\n",
    "        super(Critic, self).__init__()\n",
    "        self.network = nn.Sequential(\n",
    "            nn.Linear(state_size, hidden_dim),\n",
    "            nn.ReLU(),\n",
    "            nn.Linear(hidden_dim, hidden_dim),\n",
    "            nn.ReLU(),\n",
    "            nn.Linear(hidden_dim, 1)\n",
    "        )\n",
    "\n",
    "    def forward(self, state):\n",
    "        return self.network(state)\n",
    "        "
   ]
  },
  {
   "cell_type": "markdown",
   "metadata": {
    "id": "bWeee2LeLIb4"
   },
   "source": [
    "Теперь для удобства реализуем функцию compute_returns, вычисляющую значения Q - функции. На вход она получает список rewards наград, получаемых на каждом шаге куска траектории, next_state - выход критика в последнем состоянии траектории. При обучении мы будем последовательно генерировать кусок траектории фиксированной длины (из соображений удобства). На выходе вы должны получить оценку Q-функции. Нам никто не гарантирует что эпизод не закончится раньше чем закончится генерция траектории. Например, N = 20, а на 10 эпизоде у нас маятник уже упал. gymnasium в таком случае автоматически запускает новый эпизод и при следующем вызове step эпизод будет уже новый. Для этого, в функцию передается параметр dones, являющийся списком длины N, содержащий индикаторы того, завершился ли эпизод на соответствующем шаге. Соответственно, для оценок Q-функции на куске уже траектории, известной до последнего эпизода, прибавлять V-функцию не нужно, так как мы и так знаем все награды до самого конца.\n",
    "\n",
    "Реализуйте функцию compute_returns."
   ]
  },
  {
   "cell_type": "code",
   "execution_count": 9,
   "metadata": {
    "execution": {
     "iopub.execute_input": "2024-05-25T14:21:08.833386Z",
     "iopub.status.busy": "2024-05-25T14:21:08.833386Z",
     "iopub.status.idle": "2024-05-25T14:21:08.958963Z",
     "shell.execute_reply": "2024-05-25T14:21:08.957969Z",
     "shell.execute_reply.started": "2024-05-25T14:21:08.833386Z"
    },
    "id": "KexFsImcLG4Q"
   },
   "outputs": [],
   "source": [
    "def compute_Q(next_value, rewards, dones, gamma=0.99):\n",
    "    Q = next_value\n",
    "    Q_list = []\n",
    "    \n",
    "    for reward, done in zip(reversed(rewards), reversed(dones)):\n",
    "        if not done:\n",
    "            Q = gamma * Q + reward\n",
    "        else:\n",
    "            Q = reward\n",
    "        Q_list.append(Q)\n",
    "\n",
    "    Q_list = Q_list[::-1]\n",
    "    return Q_list"
   ]
  },
  {
   "cell_type": "markdown",
   "metadata": {
    "id": "tDCZq8Ebet3W"
   },
   "source": [
    "Теперь реализуйте итерацию обучения. Напомним формулы:\n",
    "\n",
    "\n",
    "$L_{actor} = -\\frac{1}{MN} \\sum_{m=0}^M \\sum_{t=0}^N log(π(a_t^m|s_t^m))A(a_t^m, s_t^m)$\n",
    "\n",
    "$L_{critic} = \\frac{1}{MN} \\sum_{m=0}^M \\sum_{t=0}^N (V(s_t^m) - y(s_t^m, a_t^m))^2$\n",
    "\n",
    "$y(s_t^m, a_t^m) = \\sum_{t'=t}^{N-1} γ^{t'-t} r(s_{t'}, a_{t'}) + γ^{N-t} V(s_N) $"
   ]
  },
  {
   "cell_type": "code",
   "execution_count": 354,
   "metadata": {
    "execution": {
     "iopub.execute_input": "2024-05-25T12:18:45.273730Z",
     "iopub.status.busy": "2024-05-25T12:18:45.272729Z",
     "iopub.status.idle": "2024-05-25T13:13:31.467138Z",
     "shell.execute_reply": "2024-05-25T13:13:31.465026Z",
     "shell.execute_reply.started": "2024-05-25T12:18:45.273730Z"
    },
    "id": "Pw0uyUtdT5So",
    "scrolled": true
   },
   "outputs": [
    {
     "name": "stdout",
     "output_type": "stream",
     "text": [
      "Iteration: 0, Score: 31\n",
      "Iteration: 0, Score: 56\n",
      "Iteration: 0, Score: 67\n",
      "Iteration: 0, Score: 83\n",
      "Iteration: 0, Score: 94\n",
      "Iteration: 0, Score: 109\n",
      "Iteration: 0, Score: 130\n",
      "Iteration: 0, Score: 152\n",
      "Iteration: 0, Score: 167\n",
      "Iteration: 0, Score: 184\n",
      "Iteration: 0, Score: 207\n",
      "Iteration: 0, Score: 220\n",
      "Iteration: 0, Score: 237\n",
      "Iteration: 0, Score: 260\n",
      "Iteration: 0, Score: 280\n",
      "Iteration: 0, Score: 299\n",
      "Iteration: 0, Score: 322\n",
      "Iteration: 0, Score: 334\n",
      "Iteration: 0, Score: 346\n",
      "Iteration: 0, Score: 365\n",
      "Iteration: 0, Score: 381\n",
      "Iteration: 0, Score: 420\n",
      "Iteration: 0, Score: 436\n",
      "Iteration: 0, Score: 453\n",
      "Iteration: 0, Score: 474\n",
      "Iteration: 0, Score: 487\n",
      "Iteration: 0, Score: 528\n",
      "Iteration: 0, Score: 572\n",
      "Iteration: 0, Score: 587\n",
      "Iteration: 0, Score: 622\n",
      "Iteration: 0, Score: 657\n",
      "Iteration: 0, Score: 669\n",
      "Iteration: 0, Score: 678\n",
      "Iteration: 0, Score: 688\n",
      "Iteration: 0, Score: 705\n",
      "Iteration: 0, Score: 718\n",
      "Iteration: 0, Score: 728\n",
      "Iteration: 0, Score: 742\n",
      "Iteration: 0, Score: 768\n",
      "Iteration: 0, Score: 789\n",
      "Iteration: 0, Score: 798\n",
      "Iteration: 0, Score: 817\n",
      "Iteration: 0, Score: 828\n",
      "Iteration: 0, Score: 837\n",
      "Iteration: 0, Score: 853\n",
      "Iteration: 0, Score: 872\n",
      "Iteration: 0, Score: 898\n",
      "Iteration: 0, Score: 923\n",
      "Iteration: 0, Score: 932\n",
      "Iteration: 0, Score: 950\n",
      "Iteration: 0, Score: 967\n",
      "Iteration: 0, Score: 982\n",
      "Iteration: 1, Score: 23\n",
      "Iteration: 1, Score: 37\n",
      "Iteration: 1, Score: 47\n",
      "Iteration: 1, Score: 61\n",
      "Iteration: 1, Score: 73\n",
      "Iteration: 1, Score: 90\n",
      "Iteration: 1, Score: 135\n",
      "Iteration: 1, Score: 147\n",
      "Iteration: 1, Score: 166\n",
      "Iteration: 1, Score: 184\n",
      "Iteration: 1, Score: 238\n",
      "Iteration: 1, Score: 251\n",
      "Iteration: 1, Score: 311\n",
      "Iteration: 1, Score: 323\n",
      "Iteration: 1, Score: 345\n",
      "Iteration: 1, Score: 372\n",
      "Iteration: 1, Score: 385\n",
      "Iteration: 1, Score: 412\n",
      "Iteration: 1, Score: 436\n",
      "Iteration: 1, Score: 452\n",
      "Iteration: 1, Score: 473\n",
      "Iteration: 1, Score: 496\n",
      "Iteration: 1, Score: 512\n",
      "Iteration: 1, Score: 569\n",
      "Iteration: 1, Score: 593\n",
      "Iteration: 1, Score: 608\n",
      "Iteration: 1, Score: 623\n",
      "Iteration: 1, Score: 649\n",
      "Iteration: 1, Score: 662\n",
      "Iteration: 1, Score: 678\n",
      "Iteration: 1, Score: 688\n",
      "Iteration: 1, Score: 734\n",
      "Iteration: 1, Score: 754\n",
      "Iteration: 1, Score: 781\n",
      "Iteration: 1, Score: 794\n",
      "Iteration: 1, Score: 810\n",
      "Iteration: 1, Score: 837\n",
      "Iteration: 1, Score: 857\n",
      "Iteration: 1, Score: 871\n",
      "Iteration: 1, Score: 897\n",
      "Iteration: 1, Score: 910\n",
      "Iteration: 1, Score: 925\n",
      "Iteration: 1, Score: 949\n",
      "Iteration: 1, Score: 974\n",
      "Iteration: 2, Score: 33\n",
      "Iteration: 2, Score: 53\n",
      "Iteration: 2, Score: 83\n",
      "Iteration: 2, Score: 124\n",
      "Iteration: 2, Score: 161\n",
      "Iteration: 2, Score: 199\n",
      "Iteration: 2, Score: 214\n",
      "Iteration: 2, Score: 237\n",
      "Iteration: 2, Score: 260\n",
      "Iteration: 2, Score: 271\n",
      "Iteration: 2, Score: 287\n",
      "Iteration: 2, Score: 300\n",
      "Iteration: 2, Score: 311\n",
      "Iteration: 2, Score: 340\n",
      "Iteration: 2, Score: 377\n",
      "Iteration: 2, Score: 415\n",
      "Iteration: 2, Score: 437\n",
      "Iteration: 2, Score: 452\n",
      "Iteration: 2, Score: 463\n",
      "Iteration: 2, Score: 494\n",
      "Iteration: 2, Score: 509\n",
      "Iteration: 2, Score: 525\n",
      "Iteration: 2, Score: 601\n",
      "Iteration: 2, Score: 639\n",
      "Iteration: 2, Score: 653\n",
      "Iteration: 2, Score: 678\n",
      "Iteration: 2, Score: 689\n",
      "Iteration: 2, Score: 704\n",
      "Iteration: 2, Score: 729\n",
      "Iteration: 2, Score: 748\n",
      "Iteration: 2, Score: 765\n",
      "Iteration: 2, Score: 785\n",
      "Iteration: 2, Score: 808\n",
      "Iteration: 2, Score: 826\n",
      "Iteration: 2, Score: 875\n",
      "Iteration: 2, Score: 895\n",
      "Iteration: 2, Score: 918\n",
      "Iteration: 2, Score: 956\n",
      "Iteration: 2, Score: 973\n",
      "Iteration: 2, Score: 992\n",
      "Iteration: 3, Score: 12\n",
      "Iteration: 3, Score: 36\n",
      "Iteration: 3, Score: 55\n",
      "Iteration: 3, Score: 67\n",
      "Iteration: 3, Score: 83\n",
      "Iteration: 3, Score: 107\n",
      "Iteration: 3, Score: 149\n",
      "Iteration: 3, Score: 168\n",
      "Iteration: 3, Score: 184\n",
      "Iteration: 3, Score: 204\n",
      "Iteration: 3, Score: 230\n",
      "Iteration: 3, Score: 246\n",
      "Iteration: 3, Score: 273\n",
      "Iteration: 3, Score: 358\n",
      "Iteration: 3, Score: 396\n",
      "Iteration: 3, Score: 418\n",
      "Iteration: 3, Score: 448\n",
      "Iteration: 3, Score: 470\n",
      "Iteration: 3, Score: 491\n",
      "Iteration: 3, Score: 505\n",
      "Iteration: 3, Score: 534\n",
      "Iteration: 3, Score: 549\n",
      "Iteration: 3, Score: 564\n",
      "Iteration: 3, Score: 580\n",
      "Iteration: 3, Score: 596\n",
      "Iteration: 3, Score: 642\n",
      "Iteration: 3, Score: 666\n",
      "Iteration: 3, Score: 721\n",
      "Iteration: 3, Score: 751\n",
      "Iteration: 3, Score: 765\n",
      "Iteration: 3, Score: 784\n",
      "Iteration: 3, Score: 825\n",
      "Iteration: 3, Score: 851\n",
      "Iteration: 3, Score: 871\n",
      "Iteration: 3, Score: 915\n",
      "Iteration: 3, Score: 936\n",
      "Iteration: 3, Score: 975\n",
      "Iteration: 4, Score: 53\n",
      "Iteration: 4, Score: 97\n",
      "Iteration: 4, Score: 140\n",
      "Iteration: 4, Score: 163\n",
      "Iteration: 4, Score: 208\n",
      "Iteration: 4, Score: 231\n",
      "Iteration: 4, Score: 261\n",
      "Iteration: 4, Score: 313\n",
      "Iteration: 4, Score: 329\n",
      "Iteration: 4, Score: 359\n",
      "Iteration: 4, Score: 381\n",
      "Iteration: 4, Score: 401\n",
      "Iteration: 4, Score: 433\n",
      "Iteration: 4, Score: 498\n",
      "Iteration: 4, Score: 544\n",
      "Iteration: 4, Score: 560\n",
      "Iteration: 4, Score: 603\n",
      "Iteration: 4, Score: 614\n",
      "Iteration: 4, Score: 636\n",
      "Iteration: 4, Score: 655\n",
      "Iteration: 4, Score: 673\n",
      "Iteration: 4, Score: 690\n",
      "Iteration: 4, Score: 734\n",
      "Iteration: 4, Score: 773\n",
      "Iteration: 4, Score: 824\n",
      "Iteration: 4, Score: 862\n",
      "Iteration: 4, Score: 885\n",
      "Iteration: 4, Score: 905\n",
      "Iteration: 4, Score: 921\n",
      "Iteration: 4, Score: 961\n",
      "Iteration: 4, Score: 974\n",
      "Iteration: 4, Score: 993\n",
      "Iteration: 5, Score: 49\n",
      "Iteration: 5, Score: 84\n",
      "Iteration: 5, Score: 105\n",
      "Iteration: 5, Score: 160\n",
      "Iteration: 5, Score: 206\n",
      "Iteration: 5, Score: 224\n",
      "Iteration: 5, Score: 249\n",
      "Iteration: 5, Score: 265\n",
      "Iteration: 5, Score: 281\n",
      "Iteration: 5, Score: 306\n",
      "Iteration: 5, Score: 334\n",
      "Iteration: 5, Score: 349\n",
      "Iteration: 5, Score: 396\n",
      "Iteration: 5, Score: 410\n",
      "Iteration: 5, Score: 432\n",
      "Iteration: 5, Score: 481\n",
      "Iteration: 5, Score: 497\n",
      "Iteration: 5, Score: 516\n",
      "Iteration: 5, Score: 567\n",
      "Iteration: 5, Score: 602\n",
      "Iteration: 5, Score: 629\n",
      "Iteration: 5, Score: 667\n",
      "Iteration: 5, Score: 694\n",
      "Iteration: 5, Score: 755\n",
      "Iteration: 5, Score: 767\n",
      "Iteration: 5, Score: 832\n",
      "Iteration: 5, Score: 866\n",
      "Iteration: 5, Score: 938\n",
      "Iteration: 5, Score: 959\n",
      "Iteration: 5, Score: 985\n",
      "Iteration: 6, Score: 42\n",
      "Iteration: 6, Score: 61\n",
      "Iteration: 6, Score: 94\n",
      "Iteration: 6, Score: 112\n",
      "Iteration: 6, Score: 143\n",
      "Iteration: 6, Score: 266\n",
      "Iteration: 6, Score: 314\n",
      "Iteration: 6, Score: 343\n",
      "Iteration: 6, Score: 373\n",
      "Iteration: 6, Score: 398\n",
      "Iteration: 6, Score: 433\n",
      "Iteration: 6, Score: 467\n",
      "Iteration: 6, Score: 526\n",
      "Iteration: 6, Score: 552\n",
      "Iteration: 6, Score: 593\n",
      "Iteration: 6, Score: 637\n",
      "Iteration: 6, Score: 721\n",
      "Iteration: 6, Score: 783\n",
      "Iteration: 6, Score: 796\n",
      "Iteration: 6, Score: 844\n",
      "Iteration: 6, Score: 895\n",
      "Iteration: 6, Score: 929\n",
      "Iteration: 7, Score: 40\n",
      "Iteration: 7, Score: 109\n",
      "Iteration: 7, Score: 145\n",
      "Iteration: 7, Score: 167\n",
      "Iteration: 7, Score: 394\n",
      "Iteration: 7, Score: 427\n",
      "Iteration: 7, Score: 441\n",
      "Iteration: 7, Score: 478\n",
      "Iteration: 7, Score: 522\n",
      "Iteration: 7, Score: 564\n",
      "Iteration: 7, Score: 661\n",
      "Iteration: 7, Score: 707\n",
      "Iteration: 7, Score: 764\n",
      "Iteration: 7, Score: 826\n",
      "Iteration: 7, Score: 840\n",
      "Iteration: 7, Score: 877\n",
      "Iteration: 7, Score: 906\n",
      "Iteration: 7, Score: 945\n",
      "Iteration: 7, Score: 995\n",
      "Iteration: 8, Score: 23\n",
      "Iteration: 8, Score: 46\n",
      "Iteration: 8, Score: 86\n",
      "Iteration: 8, Score: 114\n",
      "Iteration: 8, Score: 189\n",
      "Iteration: 8, Score: 210\n",
      "Iteration: 8, Score: 296\n",
      "Iteration: 8, Score: 355\n",
      "Iteration: 8, Score: 410\n",
      "Iteration: 8, Score: 451\n",
      "Iteration: 8, Score: 472\n",
      "Iteration: 8, Score: 543\n",
      "Iteration: 8, Score: 567\n",
      "Iteration: 8, Score: 604\n",
      "Iteration: 8, Score: 621\n",
      "Iteration: 8, Score: 680\n",
      "Iteration: 8, Score: 724\n",
      "Iteration: 8, Score: 789\n",
      "Iteration: 8, Score: 853\n",
      "Iteration: 8, Score: 870\n",
      "Iteration: 8, Score: 905\n",
      "Iteration: 8, Score: 941\n",
      "Iteration: 8, Score: 973\n",
      "Iteration: 9, Score: 66\n",
      "Iteration: 9, Score: 103\n",
      "Iteration: 9, Score: 145\n",
      "Iteration: 9, Score: 242\n",
      "Iteration: 9, Score: 266\n",
      "Iteration: 9, Score: 300\n",
      "Iteration: 9, Score: 326\n",
      "Iteration: 9, Score: 351\n",
      "Iteration: 9, Score: 387\n",
      "Iteration: 9, Score: 454\n",
      "Iteration: 9, Score: 509\n",
      "Iteration: 9, Score: 555\n",
      "Iteration: 9, Score: 586\n",
      "Iteration: 9, Score: 613\n",
      "Iteration: 9, Score: 643\n",
      "Iteration: 9, Score: 695\n",
      "Iteration: 9, Score: 754\n",
      "Iteration: 9, Score: 836\n",
      "Iteration: 9, Score: 863\n",
      "Iteration: 9, Score: 911\n",
      "Iteration: 9, Score: 944\n",
      "Iteration: 9, Score: 976\n",
      "Iteration: 10, Score: 43\n",
      "Iteration: 10, Score: 93\n",
      "Iteration: 10, Score: 124\n",
      "Iteration: 10, Score: 162\n",
      "Iteration: 10, Score: 240\n",
      "Iteration: 10, Score: 341\n",
      "Iteration: 10, Score: 397\n",
      "Iteration: 10, Score: 506\n",
      "Iteration: 10, Score: 545\n",
      "Iteration: 10, Score: 576\n",
      "Iteration: 10, Score: 610\n",
      "Iteration: 10, Score: 644\n",
      "Iteration: 10, Score: 710\n",
      "Iteration: 10, Score: 782\n",
      "Iteration: 10, Score: 849\n",
      "Iteration: 10, Score: 935\n",
      "Iteration: 10, Score: 978\n",
      "Iteration: 11, Score: 39\n",
      "Iteration: 11, Score: 78\n",
      "Iteration: 11, Score: 124\n",
      "Iteration: 11, Score: 176\n",
      "Iteration: 11, Score: 259\n",
      "Iteration: 11, Score: 328\n",
      "Iteration: 11, Score: 394\n",
      "Iteration: 11, Score: 436\n",
      "Iteration: 11, Score: 479\n",
      "Iteration: 11, Score: 514\n",
      "Iteration: 11, Score: 546\n",
      "Iteration: 11, Score: 577\n",
      "Iteration: 11, Score: 594\n",
      "Iteration: 11, Score: 658\n",
      "Iteration: 11, Score: 686\n",
      "Iteration: 11, Score: 762\n",
      "Iteration: 11, Score: 784\n",
      "Iteration: 11, Score: 871\n",
      "Iteration: 11, Score: 931\n",
      "Iteration: 11, Score: 951\n",
      "Iteration: 12, Score: 52\n",
      "Iteration: 12, Score: 112\n",
      "Iteration: 12, Score: 183\n",
      "Iteration: 12, Score: 267\n",
      "Iteration: 12, Score: 363\n",
      "Iteration: 12, Score: 414\n",
      "Iteration: 12, Score: 462\n",
      "Iteration: 12, Score: 563\n",
      "Iteration: 12, Score: 655\n",
      "Iteration: 12, Score: 707\n",
      "Iteration: 12, Score: 829\n",
      "Iteration: 12, Score: 891\n",
      "Iteration: 12, Score: 965\n",
      "Iteration: 13, Score: 95\n",
      "Iteration: 13, Score: 140\n",
      "Iteration: 13, Score: 220\n",
      "Iteration: 13, Score: 300\n",
      "Iteration: 13, Score: 355\n",
      "Iteration: 13, Score: 434\n",
      "Iteration: 13, Score: 570\n",
      "Iteration: 13, Score: 667\n",
      "Iteration: 13, Score: 714\n",
      "Iteration: 13, Score: 728\n",
      "Iteration: 13, Score: 786\n",
      "Iteration: 13, Score: 860\n",
      "Iteration: 13, Score: 890\n",
      "Iteration: 13, Score: 975\n",
      "Iteration: 14, Score: 39\n",
      "Iteration: 14, Score: 124\n",
      "Iteration: 14, Score: 169\n",
      "Iteration: 14, Score: 206\n",
      "Iteration: 14, Score: 350\n",
      "Iteration: 14, Score: 390\n",
      "Iteration: 14, Score: 448\n",
      "Iteration: 14, Score: 485\n",
      "Iteration: 14, Score: 539\n",
      "Iteration: 14, Score: 636\n",
      "Iteration: 14, Score: 659\n",
      "Iteration: 14, Score: 780\n",
      "Iteration: 14, Score: 878\n",
      "Iteration: 14, Score: 973\n",
      "Iteration: 15, Score: 133\n",
      "Iteration: 15, Score: 169\n",
      "Iteration: 15, Score: 224\n",
      "Iteration: 15, Score: 290\n",
      "Iteration: 15, Score: 355\n",
      "Iteration: 15, Score: 400\n",
      "Iteration: 15, Score: 430\n",
      "Iteration: 15, Score: 488\n",
      "Iteration: 15, Score: 590\n",
      "Iteration: 15, Score: 637\n",
      "Iteration: 15, Score: 722\n",
      "Iteration: 15, Score: 799\n",
      "Iteration: 15, Score: 863\n",
      "Iteration: 15, Score: 934\n",
      "Iteration: 16, Score: 56\n",
      "Iteration: 16, Score: 133\n",
      "Iteration: 16, Score: 189\n",
      "Iteration: 16, Score: 249\n",
      "Iteration: 16, Score: 359\n",
      "Iteration: 16, Score: 416\n",
      "Iteration: 16, Score: 489\n",
      "Iteration: 16, Score: 529\n",
      "Iteration: 16, Score: 606\n",
      "Iteration: 16, Score: 706\n",
      "Iteration: 16, Score: 796\n",
      "Iteration: 16, Score: 899\n",
      "Iteration: 16, Score: 931\n",
      "Iteration: 16, Score: 975\n",
      "Iteration: 17, Score: 81\n",
      "Iteration: 17, Score: 165\n",
      "Iteration: 17, Score: 333\n",
      "Iteration: 17, Score: 431\n",
      "Iteration: 17, Score: 492\n",
      "Iteration: 17, Score: 644\n",
      "Iteration: 17, Score: 730\n",
      "Iteration: 17, Score: 806\n",
      "Iteration: 17, Score: 879\n",
      "Iteration: 18, Score: 60\n",
      "Iteration: 18, Score: 118\n",
      "Iteration: 18, Score: 174\n",
      "Iteration: 18, Score: 195\n",
      "Iteration: 18, Score: 251\n",
      "Iteration: 18, Score: 389\n",
      "Iteration: 18, Score: 461\n",
      "Iteration: 18, Score: 552\n",
      "Iteration: 18, Score: 648\n",
      "Iteration: 18, Score: 732\n",
      "Iteration: 18, Score: 939\n",
      "Iteration: 18, Score: 985\n",
      "Iteration: 19, Score: 30\n",
      "Iteration: 19, Score: 108\n",
      "Iteration: 19, Score: 418\n",
      "Iteration: 19, Score: 503\n",
      "Iteration: 19, Score: 532\n",
      "Iteration: 19, Score: 595\n",
      "Iteration: 19, Score: 688\n",
      "Iteration: 19, Score: 848\n",
      "Iteration: 20, Score: 186\n",
      "Iteration: 20, Score: 347\n",
      "Iteration: 20, Score: 396\n",
      "Iteration: 20, Score: 431\n",
      "Iteration: 20, Score: 497\n",
      "Iteration: 20, Score: 570\n",
      "Iteration: 20, Score: 658\n",
      "Iteration: 20, Score: 718\n",
      "Iteration: 20, Score: 740\n",
      "Iteration: 20, Score: 778\n",
      "Iteration: 20, Score: 859\n",
      "Iteration: 20, Score: 955\n",
      "Iteration: 21, Score: 36\n",
      "Iteration: 21, Score: 104\n",
      "Iteration: 21, Score: 159\n",
      "Iteration: 21, Score: 294\n",
      "Iteration: 21, Score: 397\n",
      "Iteration: 21, Score: 540\n",
      "Iteration: 21, Score: 596\n",
      "Iteration: 21, Score: 637\n",
      "Iteration: 21, Score: 835\n",
      "Iteration: 21, Score: 925\n",
      "Iteration: 22, Score: 100\n",
      "Iteration: 22, Score: 170\n",
      "Iteration: 22, Score: 304\n",
      "Iteration: 22, Score: 400\n",
      "Iteration: 22, Score: 487\n",
      "Iteration: 22, Score: 576\n",
      "Iteration: 22, Score: 751\n",
      "Iteration: 22, Score: 827\n",
      "Iteration: 22, Score: 872\n",
      "Iteration: 23, Score: 226\n",
      "Iteration: 23, Score: 303\n",
      "Iteration: 23, Score: 338\n",
      "Iteration: 23, Score: 454\n",
      "Iteration: 23, Score: 515\n",
      "Iteration: 23, Score: 602\n",
      "Iteration: 23, Score: 972\n",
      "Iteration: 24, Score: 309\n",
      "Iteration: 24, Score: 474\n",
      "Iteration: 24, Score: 694\n",
      "Iteration: 24, Score: 838\n",
      "Iteration: 25, Score: 299\n",
      "Iteration: 25, Score: 419\n",
      "Iteration: 25, Score: 853\n",
      "Iteration: 26, Score: 164\n",
      "Iteration: 26, Score: 330\n",
      "Iteration: 26, Score: 768\n",
      "Iteration: 26, Score: 939\n",
      "Iteration: 27, Score: 295\n",
      "Iteration: 27, Score: 502\n",
      "Iteration: 27, Score: 850\n",
      "Iteration: 27, Score: 948\n",
      "Iteration: 28, Score: 131\n",
      "Iteration: 28, Score: 348\n",
      "Iteration: 28, Score: 556\n",
      "Iteration: 28, Score: 734\n",
      "Iteration: 28, Score: 848\n",
      "Iteration: 29, Score: 146\n",
      "Iteration: 29, Score: 422\n",
      "Iteration: 29, Score: 597\n",
      "Iteration: 29, Score: 793\n",
      "Iteration: 30, Score: 252\n",
      "Iteration: 30, Score: 307\n",
      "Iteration: 30, Score: 482\n",
      "Iteration: 30, Score: 609\n",
      "Iteration: 30, Score: 661\n",
      "Iteration: 30, Score: 902\n",
      "Iteration: 31, Score: 200\n",
      "Iteration: 31, Score: 389\n",
      "Iteration: 31, Score: 585\n",
      "Iteration: 31, Score: 848\n",
      "Iteration: 32, Score: 237\n",
      "Iteration: 32, Score: 440\n",
      "Iteration: 32, Score: 649\n",
      "Iteration: 32, Score: 859\n",
      "Iteration: 33, Score: 260\n",
      "Iteration: 33, Score: 477\n",
      "Iteration: 33, Score: 702\n",
      "Iteration: 33, Score: 921\n",
      "Iteration: 34, Score: 285\n",
      "Iteration: 34, Score: 444\n",
      "Iteration: 34, Score: 675\n",
      "Iteration: 34, Score: 935\n",
      "Iteration: 35, Score: 308\n",
      "Iteration: 35, Score: 542\n",
      "Iteration: 35, Score: 745\n",
      "Iteration: 36, Score: 90\n",
      "Iteration: 36, Score: 296\n",
      "Iteration: 36, Score: 556\n",
      "Iteration: 36, Score: 644\n",
      "Iteration: 36, Score: 808\n",
      "Iteration: 36, Score: 889\n",
      "Iteration: 37, Score: 100\n",
      "Iteration: 37, Score: 373\n",
      "Iteration: 37, Score: 419\n",
      "Iteration: 37, Score: 633\n",
      "Iteration: 37, Score: 879\n",
      "Iteration: 38, Score: 259\n",
      "Iteration: 38, Score: 470\n",
      "Iteration: 38, Score: 657\n",
      "Iteration: 38, Score: 879\n",
      "Iteration: 38, Score: 933\n",
      "Iteration: 39, Score: 223\n",
      "Iteration: 39, Score: 415\n",
      "Iteration: 39, Score: 594\n",
      "Iteration: 39, Score: 841\n",
      "Iteration: 40, Score: 245\n",
      "Iteration: 40, Score: 412\n",
      "Iteration: 40, Score: 610\n",
      "Iteration: 40, Score: 818\n",
      "Iteration: 41, Score: 265\n",
      "Iteration: 41, Score: 482\n",
      "Iteration: 41, Score: 528\n",
      "Iteration: 41, Score: 750\n",
      "Iteration: 41, Score: 857\n",
      "Iteration: 42, Score: 240\n",
      "Iteration: 42, Score: 523\n",
      "Iteration: 42, Score: 703\n",
      "Iteration: 42, Score: 885\n",
      "Iteration: 43, Score: 221\n",
      "Iteration: 43, Score: 461\n",
      "Iteration: 43, Score: 658\n",
      "Iteration: 43, Score: 939\n",
      "Iteration: 44, Score: 232\n",
      "Iteration: 44, Score: 514\n",
      "Iteration: 44, Score: 709\n",
      "Iteration: 44, Score: 939\n",
      "Iteration: 45, Score: 87\n",
      "Iteration: 45, Score: 247\n",
      "Iteration: 45, Score: 472\n",
      "Iteration: 45, Score: 786\n",
      "Iteration: 45, Score: 942\n",
      "Iteration: 46, Score: 61\n",
      "Iteration: 46, Score: 299\n",
      "Iteration: 46, Score: 531\n",
      "Iteration: 46, Score: 766\n",
      "Iteration: 47, Score: 233\n",
      "Iteration: 47, Score: 607\n",
      "Iteration: 47, Score: 859\n",
      "Iteration: 48, Score: 185\n",
      "Iteration: 48, Score: 411\n",
      "Iteration: 48, Score: 640\n",
      "Iteration: 48, Score: 859\n",
      "Iteration: 49, Score: 258\n",
      "Iteration: 49, Score: 487\n",
      "Iteration: 49, Score: 768\n",
      "Iteration: 50, Score: 206\n",
      "Iteration: 50, Score: 419\n",
      "Iteration: 50, Score: 676\n",
      "Iteration: 50, Score: 967\n",
      "Iteration: 51, Score: 219\n",
      "Iteration: 51, Score: 336\n",
      "Iteration: 51, Score: 565\n",
      "Iteration: 51, Score: 871\n",
      "Iteration: 52, Score: 256\n",
      "Iteration: 52, Score: 491\n",
      "Iteration: 52, Score: 720\n",
      "Iteration: 52, Score: 974\n",
      "Iteration: 53, Score: 122\n",
      "Iteration: 53, Score: 346\n",
      "Iteration: 53, Score: 642\n",
      "Iteration: 53, Score: 920\n",
      "Iteration: 54, Score: 194\n",
      "Iteration: 54, Score: 455\n",
      "Iteration: 54, Score: 598\n",
      "Iteration: 54, Score: 876\n",
      "Iteration: 54, Score: 915\n",
      "Iteration: 55, Score: 318\n",
      "Iteration: 55, Score: 613\n",
      "Iteration: 55, Score: 842\n",
      "Iteration: 56, Score: 204\n",
      "Iteration: 56, Score: 430\n",
      "Iteration: 56, Score: 699\n",
      "Iteration: 56, Score: 896\n",
      "Iteration: 57, Score: 225\n",
      "Iteration: 57, Score: 496\n",
      "Iteration: 57, Score: 746\n",
      "Iteration: 58, Score: 417\n",
      "Iteration: 58, Score: 708\n",
      "Iteration: 59, Score: 404\n",
      "Iteration: 59, Score: 910\n",
      "Iteration: 60, Score: 620\n",
      "Iteration: 61, Score: 318\n",
      "Iteration: 61, Score: 881\n",
      "Iteration: 62, Score: 990\n",
      "Iteration: 63, Score: 291\n",
      "Iteration: 63, Score: 808\n",
      "Iteration: 64, Score: 442\n",
      "Iteration: 66, Score: 304\n",
      "Iteration: 66, Score: 582\n",
      "Iteration: 66, Score: 965\n",
      "Iteration: 67, Score: 467\n",
      "Iteration: 67, Score: 860\n",
      "Iteration: 68, Score: 337\n",
      "Iteration: 68, Score: 765\n",
      "Iteration: 69, Score: 245\n",
      "Iteration: 69, Score: 522\n",
      "Iteration: 69, Score: 815\n",
      "Iteration: 70, Score: 222\n",
      "Iteration: 70, Score: 440\n",
      "Iteration: 70, Score: 661\n",
      "Iteration: 70, Score: 863\n",
      "Iteration: 71, Score: 155\n",
      "Iteration: 71, Score: 299\n",
      "Iteration: 71, Score: 442\n",
      "Iteration: 71, Score: 591\n",
      "Iteration: 71, Score: 773\n",
      "Iteration: 71, Score: 922\n",
      "Iteration: 72, Score: 146\n",
      "Iteration: 72, Score: 334\n",
      "Iteration: 72, Score: 560\n",
      "Iteration: 72, Score: 779\n",
      "Iteration: 73, Score: 134\n",
      "Iteration: 73, Score: 303\n",
      "Iteration: 73, Score: 502\n",
      "Iteration: 73, Score: 670\n",
      "Iteration: 73, Score: 832\n",
      "Iteration: 73, Score: 983\n",
      "Iteration: 74, Score: 140\n",
      "Iteration: 74, Score: 310\n",
      "Iteration: 74, Score: 503\n",
      "Iteration: 74, Score: 662\n",
      "Iteration: 74, Score: 803\n",
      "Iteration: 74, Score: 941\n",
      "Iteration: 75, Score: 171\n",
      "Iteration: 75, Score: 329\n",
      "Iteration: 75, Score: 483\n",
      "Iteration: 75, Score: 690\n",
      "Iteration: 75, Score: 839\n",
      "Iteration: 75, Score: 978\n",
      "Iteration: 76, Score: 158\n",
      "Iteration: 76, Score: 283\n",
      "Iteration: 76, Score: 413\n",
      "Iteration: 76, Score: 561\n",
      "Iteration: 76, Score: 724\n",
      "Iteration: 76, Score: 891\n",
      "Iteration: 77, Score: 115\n",
      "Iteration: 77, Score: 250\n",
      "Iteration: 77, Score: 392\n",
      "Iteration: 77, Score: 515\n",
      "Iteration: 77, Score: 673\n",
      "Iteration: 77, Score: 855\n",
      "Iteration: 78, Score: 116\n",
      "Iteration: 78, Score: 246\n",
      "Iteration: 78, Score: 375\n",
      "Iteration: 78, Score: 488\n",
      "Iteration: 78, Score: 613\n",
      "Iteration: 78, Score: 834\n",
      "Iteration: 78, Score: 981\n",
      "Iteration: 79, Score: 185\n",
      "Iteration: 79, Score: 339\n",
      "Iteration: 79, Score: 471\n",
      "Iteration: 79, Score: 665\n",
      "Iteration: 79, Score: 900\n",
      "Iteration: 80, Score: 193\n",
      "Iteration: 80, Score: 316\n",
      "Iteration: 80, Score: 507\n",
      "Iteration: 80, Score: 657\n",
      "Iteration: 80, Score: 882\n",
      "Iteration: 81, Score: 151\n",
      "Iteration: 81, Score: 382\n",
      "Iteration: 81, Score: 592\n",
      "Iteration: 81, Score: 758\n",
      "Iteration: 81, Score: 938\n",
      "Iteration: 82, Score: 245\n",
      "Iteration: 82, Score: 448\n",
      "Iteration: 82, Score: 608\n",
      "Iteration: 82, Score: 858\n",
      "Iteration: 83, Score: 338\n",
      "Iteration: 83, Score: 586\n",
      "Iteration: 83, Score: 795\n",
      "Iteration: 84, Score: 275\n",
      "Iteration: 84, Score: 556\n",
      "Iteration: 84, Score: 720\n",
      "Iteration: 84, Score: 899\n",
      "Iteration: 85, Score: 386\n",
      "Iteration: 85, Score: 822\n",
      "Iteration: 86, Score: 226\n",
      "Iteration: 86, Score: 509\n",
      "Iteration: 87, Score: 285\n",
      "Iteration: 87, Score: 575\n",
      "Iteration: 87, Score: 811\n",
      "Iteration: 88, Score: 239\n",
      "Iteration: 88, Score: 522\n",
      "Iteration: 88, Score: 900\n",
      "Iteration: 89, Score: 268\n",
      "Iteration: 89, Score: 608\n",
      "Iteration: 89, Score: 976\n",
      "Iteration: 90, Score: 394\n",
      "Iteration: 90, Score: 657\n",
      "Iteration: 90, Score: 978\n",
      "Iteration: 91, Score: 316\n",
      "Iteration: 91, Score: 647\n",
      "Iteration: 92, Score: 366\n",
      "Iteration: 92, Score: 848\n",
      "Iteration: 93, Score: 328\n",
      "Iteration: 93, Score: 757\n",
      "Iteration: 94, Score: 533\n",
      "Iteration: 94, Score: 909\n",
      "Iteration: 95, Score: 376\n",
      "Iteration: 95, Score: 686\n",
      "Iteration: 95, Score: 967\n",
      "Iteration: 96, Score: 281\n",
      "Iteration: 96, Score: 657\n",
      "Iteration: 96, Score: 922\n",
      "Iteration: 97, Score: 354\n",
      "Iteration: 97, Score: 541\n",
      "Iteration: 97, Score: 996\n",
      "Iteration: 98, Score: 321\n",
      "Iteration: 98, Score: 520\n",
      "Iteration: 98, Score: 807\n",
      "Iteration: 99, Score: 105\n",
      "Iteration: 99, Score: 480\n",
      "Iteration: 99, Score: 741\n",
      "Iteration: 100, Score: 322\n",
      "Iteration: 100, Score: 409\n",
      "Iteration: 100, Score: 648\n",
      "Iteration: 100, Score: 850\n",
      "Iteration: 101, Score: 296\n",
      "Iteration: 101, Score: 602\n",
      "Iteration: 101, Score: 786\n",
      "Iteration: 102, Score: 198\n",
      "Iteration: 102, Score: 467\n",
      "Iteration: 102, Score: 799\n",
      "Iteration: 102, Score: 987\n",
      "Iteration: 103, Score: 107\n",
      "Iteration: 103, Score: 371\n",
      "Iteration: 103, Score: 670\n",
      "Iteration: 103, Score: 878\n",
      "Iteration: 104, Score: 290\n",
      "Iteration: 104, Score: 408\n",
      "Iteration: 104, Score: 599\n",
      "Iteration: 104, Score: 910\n",
      "Iteration: 105, Score: 225\n",
      "Iteration: 105, Score: 364\n",
      "Iteration: 105, Score: 500\n",
      "Iteration: 105, Score: 701\n",
      "Iteration: 105, Score: 878\n",
      "Iteration: 106, Score: 221\n",
      "Iteration: 106, Score: 350\n",
      "Iteration: 106, Score: 480\n",
      "Iteration: 106, Score: 623\n",
      "Iteration: 106, Score: 813\n",
      "Iteration: 106, Score: 956\n",
      "Iteration: 107, Score: 126\n",
      "Iteration: 107, Score: 231\n",
      "Iteration: 107, Score: 352\n",
      "Iteration: 107, Score: 457\n",
      "Iteration: 107, Score: 594\n",
      "Iteration: 107, Score: 720\n",
      "Iteration: 107, Score: 842\n",
      "Iteration: 107, Score: 960\n",
      "Iteration: 108, Score: 127\n",
      "Iteration: 108, Score: 237\n",
      "Iteration: 108, Score: 386\n",
      "Iteration: 108, Score: 539\n",
      "Iteration: 108, Score: 667\n",
      "Iteration: 108, Score: 801\n",
      "Iteration: 108, Score: 911\n",
      "Iteration: 109, Score: 138\n",
      "Iteration: 109, Score: 244\n",
      "Iteration: 109, Score: 374\n",
      "Iteration: 109, Score: 516\n",
      "Iteration: 109, Score: 645\n",
      "Iteration: 109, Score: 794\n",
      "Iteration: 109, Score: 924\n",
      "Iteration: 110, Score: 115\n",
      "Iteration: 110, Score: 258\n",
      "Iteration: 110, Score: 414\n",
      "Iteration: 110, Score: 526\n",
      "Iteration: 110, Score: 697\n",
      "Iteration: 110, Score: 853\n",
      "Iteration: 110, Score: 981\n",
      "Iteration: 111, Score: 160\n",
      "Iteration: 111, Score: 312\n",
      "Iteration: 111, Score: 490\n",
      "Iteration: 111, Score: 675\n",
      "Iteration: 111, Score: 854\n",
      "Iteration: 111, Score: 981\n",
      "Iteration: 112, Score: 159\n",
      "Iteration: 112, Score: 358\n",
      "Iteration: 112, Score: 533\n",
      "Iteration: 112, Score: 690\n",
      "Iteration: 112, Score: 846\n",
      "Iteration: 113, Score: 185\n",
      "Iteration: 113, Score: 357\n",
      "Iteration: 113, Score: 531\n",
      "Iteration: 113, Score: 704\n",
      "Iteration: 113, Score: 881\n",
      "Iteration: 114, Score: 157\n",
      "Iteration: 114, Score: 334\n",
      "Iteration: 114, Score: 507\n",
      "Iteration: 114, Score: 695\n",
      "Iteration: 114, Score: 879\n",
      "Iteration: 115, Score: 187\n",
      "Iteration: 115, Score: 403\n",
      "Iteration: 115, Score: 609\n",
      "Iteration: 115, Score: 808\n",
      "Iteration: 115, Score: 992\n",
      "Iteration: 116, Score: 208\n",
      "Iteration: 116, Score: 403\n",
      "Iteration: 116, Score: 605\n",
      "Iteration: 116, Score: 807\n",
      "Iteration: 116, Score: 993\n",
      "Iteration: 117, Score: 282\n",
      "Iteration: 117, Score: 556\n",
      "Iteration: 117, Score: 787\n",
      "Iteration: 118, Score: 241\n",
      "Iteration: 118, Score: 482\n",
      "Iteration: 118, Score: 796\n",
      "Iteration: 119, Score: 323\n",
      "Iteration: 119, Score: 619\n",
      "Iteration: 119, Score: 952\n",
      "Iteration: 120, Score: 440\n",
      "Iteration: 120, Score: 790\n",
      "Iteration: 121, Score: 539\n",
      "Iteration: 124, Score: 431\n",
      "Iteration: 125, Score: 565\n",
      "Iteration: 125, Score: 961\n",
      "Iteration: 126, Score: 431\n",
      "Iteration: 126, Score: 774\n",
      "Iteration: 127, Score: 350\n",
      "Iteration: 127, Score: 881\n",
      "Iteration: 128, Score: 371\n",
      "Iteration: 128, Score: 680\n",
      "Iteration: 128, Score: 965\n",
      "Iteration: 129, Score: 366\n",
      "Iteration: 129, Score: 695\n",
      "Iteration: 130, Score: 327\n",
      "Iteration: 130, Score: 643\n",
      "Iteration: 131, Score: 313\n",
      "Iteration: 131, Score: 801\n",
      "Iteration: 132, Score: 484\n",
      "Iteration: 132, Score: 889\n",
      "Iteration: 133, Score: 565\n",
      "Iteration: 134, Score: 514\n",
      "Iteration: 134, Score: 976\n",
      "Iteration: 135, Score: 590\n",
      "Iteration: 136, Score: 689\n",
      "Iteration: 137, Score: 842\n",
      "Iteration: 142, Score: 432\n",
      "Iteration: 143, Score: 680\n",
      "Iteration: 143, Score: 973\n",
      "Iteration: 146, Score: 328\n",
      "Iteration: 146, Score: 824\n",
      "Iteration: 149, Score: 189\n",
      "Iteration: 149, Score: 899\n",
      "Iteration: 150, Score: 599\n",
      "Iteration: 151, Score: 438\n",
      "Iteration: 152, Score: 351\n",
      "Iteration: 153, Score: 623\n",
      "Iteration: 154, Score: 469\n",
      "Iteration: 155, Score: 398\n",
      "Iteration: 155, Score: 858\n",
      "Iteration: 156, Score: 478\n",
      "Iteration: 156, Score: 948\n",
      "Iteration: 158, Score: 199\n",
      "Iteration: 158, Score: 815\n",
      "Iteration: 160, Score: 334\n",
      "Iteration: 161, Score: 428\n",
      "Iteration: 162, Score: 633\n",
      "Iteration: 163, Score: 558\n",
      "Iteration: 164, Score: 358\n",
      "Iteration: 164, Score: 753\n",
      "Iteration: 165, Score: 258\n",
      "Iteration: 165, Score: 553\n",
      "Iteration: 165, Score: 816\n",
      "Iteration: 166, Score: 278\n",
      "Iteration: 166, Score: 523\n",
      "Iteration: 166, Score: 767\n",
      "Iteration: 167, Score: 238\n",
      "Iteration: 167, Score: 457\n",
      "Iteration: 167, Score: 713\n",
      "Iteration: 167, Score: 961\n",
      "Iteration: 168, Score: 238\n",
      "Iteration: 168, Score: 455\n",
      "Iteration: 168, Score: 700\n",
      "Iteration: 168, Score: 937\n",
      "Iteration: 169, Score: 225\n",
      "Iteration: 169, Score: 452\n",
      "Iteration: 169, Score: 694\n",
      "Iteration: 169, Score: 914\n",
      "Iteration: 170, Score: 219\n",
      "Iteration: 170, Score: 523\n",
      "Iteration: 170, Score: 749\n",
      "Iteration: 170, Score: 955\n",
      "Iteration: 171, Score: 276\n",
      "Iteration: 171, Score: 510\n",
      "Iteration: 171, Score: 756\n",
      "Iteration: 172, Score: 297\n",
      "Iteration: 172, Score: 535\n",
      "Iteration: 172, Score: 809\n",
      "Iteration: 173, Score: 299\n",
      "Iteration: 173, Score: 593\n",
      "Iteration: 173, Score: 888\n",
      "Iteration: 174, Score: 407\n",
      "Iteration: 174, Score: 802\n",
      "Iteration: 175, Score: 763\n",
      "Iteration: 184, Score: 796\n",
      "Iteration: 185, Score: 620\n",
      "Iteration: 186, Score: 359\n",
      "Iteration: 186, Score: 835\n",
      "Iteration: 187, Score: 474\n",
      "Iteration: 187, Score: 868\n",
      "Iteration: 188, Score: 512\n",
      "Iteration: 189, Score: 489\n",
      "Iteration: 190, Score: 572\n",
      "Iteration: 191, Score: 479\n",
      "Iteration: 192, Score: 554\n",
      "Iteration: 193, Score: 744\n",
      "Iteration: 194, Score: 829\n",
      "Iteration: 214, Score: 578\n",
      "Iteration: 217, Score: 414\n",
      "Iteration: 228, Score: 618\n",
      "Iteration: 235, Score: 811\n",
      "Iteration: 237, Score: 403\n",
      "Iteration: 240, Score: 938\n",
      "Iteration: 245, Score: 495\n",
      "Iteration: 433, Score: 830\n",
      "Iteration: 449, Score: 528\n",
      "Iteration: 450, Score: 734\n",
      "Iteration: 485, Score: 756\n"
     ]
    }
   ],
   "source": [
    "def trainIters(actor, critic, n_iters, n_steps=1000):\n",
    "    #создайте оптимизаторы для Actor и Critic\n",
    "    optimizerActor = optim.Adam(actor.parameters(), lr=0.001)\n",
    "    optimizerCritic = optim.Adam(critic.parameters(), lr=0.001)\n",
    "\n",
    "    actor.train()\n",
    "    critic.train()\n",
    "\n",
    "    env = gym.make(\"CartPole-v0\", render_mode=\"rgb_array\").env\n",
    "\n",
    "    for it in range(n_iters):\n",
    "        #обнулите окружение и получите первое состояние\n",
    "        next_state = env.reset()[0]\n",
    "        #переменные для накопления всего накапливаемого\n",
    "        log_probs = []\n",
    "        values = []\n",
    "        rewards = []\n",
    "        dones = []\n",
    "\n",
    "        #цикл по шагам в эпизоде\n",
    "        for i in range(n_steps):\n",
    "            env.render()\n",
    "\n",
    "            #получите действие и значение V - функции в текущем состоянии state\n",
    "            state = torch.tensor(next_state).to(device)\n",
    "            distrib = actor(state)\n",
    "            action = distrib.sample()\n",
    "            V_value = critic(state)\n",
    "\n",
    "            #шаг симулятора\n",
    "            next_state, reward, done, truncated, _ = env.step(action.item())\n",
    "\n",
    "            #накапливаем логарифмы вероятностей, значения v-функции, действия, награды, индикаторы завершения эпизода\n",
    "            log_probs.append(distrib.log_prob(action))\n",
    "            values.append(V_value)\n",
    "            rewards.append(reward)\n",
    "            dones.append(done)\n",
    "\n",
    "            if done:\n",
    "                print('Iteration: {}, Score: {}'.format(it, i))\n",
    "                next_state = env.reset()[0]\n",
    "\n",
    "\n",
    "        #получите значение V - функции в последнем состоянии (параметр next_state)\n",
    "        state = torch.tensor(next_state).to(device)\n",
    "        V_value = critic(state).item()\n",
    "\n",
    "        log_probs = torch.stack(log_probs)\n",
    "        values = torch.stack(values)\n",
    "\n",
    "        #вычислите Q-функции\n",
    "        Q_values = torch.tensor(compute_Q(V_value, rewards, dones), device=device)\n",
    "\n",
    "        #вычислите advantage\n",
    "        advantage = Q_values - values\n",
    "\n",
    "        #вычислите actor_loss\n",
    "        actor_loss = -torch.mean(log_probs * advantage.detach())\n",
    "\n",
    "        #вычислите critic_loss\n",
    "        critic_loss = torch.mean(advantage.pow(2))\n",
    "\n",
    "        #сделайте шаг оптимизации critic_loss\n",
    "        optimizerActor.zero_grad()\n",
    "        optimizerCritic.zero_grad()\n",
    "        actor_loss.backward()\n",
    "        critic_loss.backward()\n",
    "        optimizerActor.step()\n",
    "        optimizerCritic.step()\n",
    "\n",
    "    torch.save(actor, 'actor.pkl')\n",
    "    torch.save(critic, 'critic.pkl')\n",
    "    env.close()\n",
    "\n",
    "actor = Actor(state_size, action_size).to(device)\n",
    "critic = Critic(state_size, action_size).to(device)\n",
    "trainIters(actor, critic, n_iters=500)"
   ]
  },
  {
   "cell_type": "markdown",
   "metadata": {
    "id": "88W5mTOjT56b"
   },
   "source": [
    "Проверьте обученные сети. Награда после завершения эпизода должна быть стабильно больше 300. Можно менять количество эпох обучения"
   ]
  },
  {
   "cell_type": "code",
   "execution_count": 361,
   "metadata": {
    "execution": {
     "iopub.execute_input": "2024-05-25T13:56:06.874021Z",
     "iopub.status.busy": "2024-05-25T13:56:06.874021Z",
     "iopub.status.idle": "2024-05-25T14:09:31.205209Z",
     "shell.execute_reply": "2024-05-25T14:09:31.194694Z",
     "shell.execute_reply.started": "2024-05-25T13:56:06.874021Z"
    },
    "id": "M2ykzAfErjYP",
    "scrolled": true
   },
   "outputs": [
    {
     "name": "stdout",
     "output_type": "stream",
     "text": [
      "Iteration: 0, Score: 20000\n",
      "Iteration: 1, Score: 20000\n",
      "Iteration: 2, Score: 20000\n",
      "Iteration: 3, Score: 20000\n",
      "Iteration: 4, Score: 20000\n",
      "Iteration: 5, Score: 20000\n",
      "Iteration: 6, Score: 20000\n"
     ]
    }
   ],
   "source": [
    "#для тестирования скопируйте цикл for из предыдущей ячейки сюда, удалите логгирования, замените range(N) на count() (тогда он будет бесконечно итерироваться) и в if done запихните break.\n",
    "#Прогонить эпизод несколько раз\n",
    "\n",
    "MAX_STEPS = 20_000\n",
    "\n",
    "actor.eval()\n",
    "critic.eval()\n",
    "\n",
    "env = gym.make(\"CartPole-v0\", render_mode=\"rgb_array\").env\n",
    "\n",
    "for it in range(7):\n",
    "    next_state = env.reset()[0]\n",
    "    \n",
    "    #цикл по шагам в эпизоде\n",
    "    for i in count():\n",
    "        env.render()\n",
    "        state = torch.tensor(next_state).to(device)\n",
    "        distrib = actor(state)\n",
    "        action = distrib.sample()\n",
    "    \n",
    "        #шаг симулятора\n",
    "        next_state, reward, done, truncated, _ = env.step(action.item())\n",
    "    \n",
    "        if done or i >= MAX_STEPS:\n",
    "            print('Iteration: {}, Score: {}'.format(it, i))\n",
    "            break\n",
    "            \n",
    "env.close()"
   ]
  },
  {
   "cell_type": "markdown",
   "metadata": {
    "id": "Q8iNYfyTTZLE"
   },
   "source": [
    "Реализуем функцию для записи траекторий."
   ]
  },
  {
   "cell_type": "code",
   "execution_count": 19,
   "metadata": {
    "execution": {
     "iopub.execute_input": "2024-05-25T14:32:30.279890Z",
     "iopub.status.busy": "2024-05-25T14:32:30.278889Z",
     "iopub.status.idle": "2024-05-25T14:32:30.410755Z",
     "shell.execute_reply": "2024-05-25T14:32:30.409574Z",
     "shell.execute_reply.started": "2024-05-25T14:32:30.279890Z"
    },
    "id": "u4EezrlYLktq"
   },
   "outputs": [],
   "source": [
    "def generate_session(env, agent, t_max=1000):\n",
    "    \"\"\"\n",
    "    Play a single game using agent neural network.\n",
    "    Terminate when game finishes or after :t_max: steps\n",
    "    \"\"\"\n",
    "    states, actions = [], []\n",
    "    total_reward = 0\n",
    "\n",
    "    next_state = env.reset()[0]\n",
    "\n",
    "    for t in range(t_max):\n",
    "        state = torch.tensor(next_state).to(device)\n",
    "        distrib = agent(state)\n",
    "        a = distrib.sample()\n",
    "\n",
    "        next_state, r, terminated, truncated, _ = env.step(a.item())\n",
    "\n",
    "        # накаливаем траекторию\n",
    "        states.append(state.cpu())\n",
    "        actions.append(a.item())\n",
    "        total_reward += r\n",
    "\n",
    "        if terminated or truncated:\n",
    "            break\n",
    "    return states, actions, total_reward"
   ]
  },
  {
   "cell_type": "markdown",
   "metadata": {
    "id": "IvhGVEDGT3rc"
   },
   "source": [
    "Запишем видео работы сетей (парочку видео приложите в  энитаск)"
   ]
  },
  {
   "cell_type": "markdown",
   "metadata": {},
   "source": [
    "Видео и чекпоинты моделей загружены на диск: https://drive.google.com/drive/folders/1U0iL2YJFj-aCkSlhgohKk72QtNWrNMpF?usp=sharing"
   ]
  },
  {
   "cell_type": "code",
   "execution_count": 13,
   "metadata": {
    "colab": {
     "base_uri": "https://localhost:8080/"
    },
    "execution": {
     "iopub.execute_input": "2024-05-25T14:22:03.674101Z",
     "iopub.status.busy": "2024-05-25T14:22:03.673096Z",
     "iopub.status.idle": "2024-05-25T14:24:53.562118Z",
     "shell.execute_reply": "2024-05-25T14:24:53.560139Z",
     "shell.execute_reply.started": "2024-05-25T14:22:03.674101Z"
    },
    "id": "g2CxbnueYdx8",
    "outputId": "cdeec2c4-534e-4dc9-f398-ecafe5e62095",
    "scrolled": true
   },
   "outputs": [
    {
     "name": "stderr",
     "output_type": "stream",
     "text": [
      "C:\\Users\\valer\\anaconda3\\lib\\site-packages\\gymnasium\\envs\\registration.py:513: DeprecationWarning: \u001b[33mWARN: The environment CartPole-v0 is out of date. You should consider upgrading to version `v1`.\u001b[0m\n",
      "  logger.deprecation(\n",
      "C:\\Users\\valer\\anaconda3\\lib\\site-packages\\gymnasium\\wrappers\\record_video.py:94: UserWarning: \u001b[33mWARN: Overwriting existing videos at C:\\Users\\valer\\Desktop\\mmp_courses\\ml\\sem. 6\\tasks\\4.OCRL\\videos folder (try specifying a different `video_folder` for the `RecordVideo` wrapper if this is not desired)\u001b[0m\n",
      "  logger.warn(\n"
     ]
    },
    {
     "name": "stdout",
     "output_type": "stream",
     "text": [
      "Moviepy - Building video C:\\Users\\valer\\Desktop\\mmp_courses\\ml\\sem. 6\\tasks\\4.OCRL\\videos\\rl-video-episode-0.mp4.\n",
      "Moviepy - Writing video C:\\Users\\valer\\Desktop\\mmp_courses\\ml\\sem. 6\\tasks\\4.OCRL\\videos\\rl-video-episode-0.mp4\n",
      "\n"
     ]
    },
    {
     "name": "stderr",
     "output_type": "stream",
     "text": [
      "                                                                                                                       \r"
     ]
    },
    {
     "name": "stdout",
     "output_type": "stream",
     "text": [
      "Moviepy - Done !\n",
      "Moviepy - video ready C:\\Users\\valer\\Desktop\\mmp_courses\\ml\\sem. 6\\tasks\\4.OCRL\\videos\\rl-video-episode-0.mp4\n",
      "Moviepy - Building video C:\\Users\\valer\\Desktop\\mmp_courses\\ml\\sem. 6\\tasks\\4.OCRL\\videos\\rl-video-episode-1.mp4.\n",
      "Moviepy - Writing video C:\\Users\\valer\\Desktop\\mmp_courses\\ml\\sem. 6\\tasks\\4.OCRL\\videos\\rl-video-episode-1.mp4\n",
      "\n"
     ]
    },
    {
     "name": "stderr",
     "output_type": "stream",
     "text": [
      "                                                                                                                       \r"
     ]
    },
    {
     "name": "stdout",
     "output_type": "stream",
     "text": [
      "Moviepy - Done !\n",
      "Moviepy - video ready C:\\Users\\valer\\Desktop\\mmp_courses\\ml\\sem. 6\\tasks\\4.OCRL\\videos\\rl-video-episode-1.mp4\n",
      "Moviepy - Building video C:\\Users\\valer\\Desktop\\mmp_courses\\ml\\sem. 6\\tasks\\4.OCRL\\videos\\rl-video-episode-2.mp4.\n",
      "Moviepy - Writing video C:\\Users\\valer\\Desktop\\mmp_courses\\ml\\sem. 6\\tasks\\4.OCRL\\videos\\rl-video-episode-2.mp4\n",
      "\n"
     ]
    },
    {
     "name": "stderr",
     "output_type": "stream",
     "text": [
      "                                                                                                                       \r"
     ]
    },
    {
     "name": "stdout",
     "output_type": "stream",
     "text": [
      "Moviepy - Done !\n",
      "Moviepy - video ready C:\\Users\\valer\\Desktop\\mmp_courses\\ml\\sem. 6\\tasks\\4.OCRL\\videos\\rl-video-episode-2.mp4\n",
      "Moviepy - Building video C:\\Users\\valer\\Desktop\\mmp_courses\\ml\\sem. 6\\tasks\\4.OCRL\\videos\\rl-video-episode-3.mp4.\n",
      "Moviepy - Writing video C:\\Users\\valer\\Desktop\\mmp_courses\\ml\\sem. 6\\tasks\\4.OCRL\\videos\\rl-video-episode-3.mp4\n",
      "\n"
     ]
    },
    {
     "name": "stderr",
     "output_type": "stream",
     "text": [
      "                                                                                                                       \r"
     ]
    },
    {
     "name": "stdout",
     "output_type": "stream",
     "text": [
      "Moviepy - Done !\n",
      "Moviepy - video ready C:\\Users\\valer\\Desktop\\mmp_courses\\ml\\sem. 6\\tasks\\4.OCRL\\videos\\rl-video-episode-3.mp4\n",
      "Moviepy - Building video C:\\Users\\valer\\Desktop\\mmp_courses\\ml\\sem. 6\\tasks\\4.OCRL\\videos\\rl-video-episode-4.mp4.\n",
      "Moviepy - Writing video C:\\Users\\valer\\Desktop\\mmp_courses\\ml\\sem. 6\\tasks\\4.OCRL\\videos\\rl-video-episode-4.mp4\n",
      "\n"
     ]
    },
    {
     "name": "stderr",
     "output_type": "stream",
     "text": [
      "                                                                                                                       \r"
     ]
    },
    {
     "name": "stdout",
     "output_type": "stream",
     "text": [
      "Moviepy - Done !\n",
      "Moviepy - video ready C:\\Users\\valer\\Desktop\\mmp_courses\\ml\\sem. 6\\tasks\\4.OCRL\\videos\\rl-video-episode-4.mp4\n",
      "Moviepy - Building video C:\\Users\\valer\\Desktop\\mmp_courses\\ml\\sem. 6\\tasks\\4.OCRL\\videos\\rl-video-episode-5.mp4.\n",
      "Moviepy - Writing video C:\\Users\\valer\\Desktop\\mmp_courses\\ml\\sem. 6\\tasks\\4.OCRL\\videos\\rl-video-episode-5.mp4\n",
      "\n"
     ]
    },
    {
     "name": "stderr",
     "output_type": "stream",
     "text": [
      "                                                                                                                       \r"
     ]
    },
    {
     "name": "stdout",
     "output_type": "stream",
     "text": [
      "Moviepy - Done !\n",
      "Moviepy - video ready C:\\Users\\valer\\Desktop\\mmp_courses\\ml\\sem. 6\\tasks\\4.OCRL\\videos\\rl-video-episode-5.mp4\n",
      "Moviepy - Building video C:\\Users\\valer\\Desktop\\mmp_courses\\ml\\sem. 6\\tasks\\4.OCRL\\videos\\rl-video-episode-6.mp4.\n",
      "Moviepy - Writing video C:\\Users\\valer\\Desktop\\mmp_courses\\ml\\sem. 6\\tasks\\4.OCRL\\videos\\rl-video-episode-6.mp4\n",
      "\n"
     ]
    },
    {
     "name": "stderr",
     "output_type": "stream",
     "text": [
      "                                                                                                                       \r"
     ]
    },
    {
     "name": "stdout",
     "output_type": "stream",
     "text": [
      "Moviepy - Done !\n",
      "Moviepy - video ready C:\\Users\\valer\\Desktop\\mmp_courses\\ml\\sem. 6\\tasks\\4.OCRL\\videos\\rl-video-episode-6.mp4\n",
      "Moviepy - Building video C:\\Users\\valer\\Desktop\\mmp_courses\\ml\\sem. 6\\tasks\\4.OCRL\\videos\\rl-video-episode-7.mp4.\n",
      "Moviepy - Writing video C:\\Users\\valer\\Desktop\\mmp_courses\\ml\\sem. 6\\tasks\\4.OCRL\\videos\\rl-video-episode-7.mp4\n",
      "\n"
     ]
    },
    {
     "name": "stderr",
     "output_type": "stream",
     "text": [
      "                                                                                                                       \r"
     ]
    },
    {
     "name": "stdout",
     "output_type": "stream",
     "text": [
      "Moviepy - Done !\n",
      "Moviepy - video ready C:\\Users\\valer\\Desktop\\mmp_courses\\ml\\sem. 6\\tasks\\4.OCRL\\videos\\rl-video-episode-7.mp4\n",
      "Moviepy - Building video C:\\Users\\valer\\Desktop\\mmp_courses\\ml\\sem. 6\\tasks\\4.OCRL\\videos\\rl-video-episode-8.mp4.\n",
      "Moviepy - Writing video C:\\Users\\valer\\Desktop\\mmp_courses\\ml\\sem. 6\\tasks\\4.OCRL\\videos\\rl-video-episode-8.mp4\n",
      "\n"
     ]
    },
    {
     "name": "stderr",
     "output_type": "stream",
     "text": [
      "                                                                                                                       \r"
     ]
    },
    {
     "name": "stdout",
     "output_type": "stream",
     "text": [
      "Moviepy - Done !\n",
      "Moviepy - video ready C:\\Users\\valer\\Desktop\\mmp_courses\\ml\\sem. 6\\tasks\\4.OCRL\\videos\\rl-video-episode-8.mp4\n",
      "Moviepy - Building video C:\\Users\\valer\\Desktop\\mmp_courses\\ml\\sem. 6\\tasks\\4.OCRL\\videos\\rl-video-episode-9.mp4.\n",
      "Moviepy - Writing video C:\\Users\\valer\\Desktop\\mmp_courses\\ml\\sem. 6\\tasks\\4.OCRL\\videos\\rl-video-episode-9.mp4\n",
      "\n"
     ]
    },
    {
     "name": "stderr",
     "output_type": "stream",
     "text": [
      "                                                                                                                       \r"
     ]
    },
    {
     "name": "stdout",
     "output_type": "stream",
     "text": [
      "Moviepy - Done !\n",
      "Moviepy - video ready C:\\Users\\valer\\Desktop\\mmp_courses\\ml\\sem. 6\\tasks\\4.OCRL\\videos\\rl-video-episode-9.mp4\n",
      "Moviepy - Building video C:\\Users\\valer\\Desktop\\mmp_courses\\ml\\sem. 6\\tasks\\4.OCRL\\videos\\rl-video-episode-10.mp4.\n",
      "Moviepy - Writing video C:\\Users\\valer\\Desktop\\mmp_courses\\ml\\sem. 6\\tasks\\4.OCRL\\videos\\rl-video-episode-10.mp4\n",
      "\n"
     ]
    },
    {
     "name": "stderr",
     "output_type": "stream",
     "text": [
      "                                                                                                                       \r"
     ]
    },
    {
     "name": "stdout",
     "output_type": "stream",
     "text": [
      "Moviepy - Done !\n",
      "Moviepy - video ready C:\\Users\\valer\\Desktop\\mmp_courses\\ml\\sem. 6\\tasks\\4.OCRL\\videos\\rl-video-episode-10.mp4\n",
      "Moviepy - Building video C:\\Users\\valer\\Desktop\\mmp_courses\\ml\\sem. 6\\tasks\\4.OCRL\\videos\\rl-video-episode-11.mp4.\n",
      "Moviepy - Writing video C:\\Users\\valer\\Desktop\\mmp_courses\\ml\\sem. 6\\tasks\\4.OCRL\\videos\\rl-video-episode-11.mp4\n",
      "\n"
     ]
    },
    {
     "name": "stderr",
     "output_type": "stream",
     "text": [
      "                                                                                                                       \r"
     ]
    },
    {
     "name": "stdout",
     "output_type": "stream",
     "text": [
      "Moviepy - Done !\n",
      "Moviepy - video ready C:\\Users\\valer\\Desktop\\mmp_courses\\ml\\sem. 6\\tasks\\4.OCRL\\videos\\rl-video-episode-11.mp4\n",
      "Moviepy - Building video C:\\Users\\valer\\Desktop\\mmp_courses\\ml\\sem. 6\\tasks\\4.OCRL\\videos\\rl-video-episode-12.mp4.\n",
      "Moviepy - Writing video C:\\Users\\valer\\Desktop\\mmp_courses\\ml\\sem. 6\\tasks\\4.OCRL\\videos\\rl-video-episode-12.mp4\n",
      "\n"
     ]
    },
    {
     "name": "stderr",
     "output_type": "stream",
     "text": [
      "                                                                                                                       \r"
     ]
    },
    {
     "name": "stdout",
     "output_type": "stream",
     "text": [
      "Moviepy - Done !\n",
      "Moviepy - video ready C:\\Users\\valer\\Desktop\\mmp_courses\\ml\\sem. 6\\tasks\\4.OCRL\\videos\\rl-video-episode-12.mp4\n",
      "Moviepy - Building video C:\\Users\\valer\\Desktop\\mmp_courses\\ml\\sem. 6\\tasks\\4.OCRL\\videos\\rl-video-episode-13.mp4.\n",
      "Moviepy - Writing video C:\\Users\\valer\\Desktop\\mmp_courses\\ml\\sem. 6\\tasks\\4.OCRL\\videos\\rl-video-episode-13.mp4\n",
      "\n"
     ]
    },
    {
     "name": "stderr",
     "output_type": "stream",
     "text": [
      "                                                                                                                       \r"
     ]
    },
    {
     "name": "stdout",
     "output_type": "stream",
     "text": [
      "Moviepy - Done !\n",
      "Moviepy - video ready C:\\Users\\valer\\Desktop\\mmp_courses\\ml\\sem. 6\\tasks\\4.OCRL\\videos\\rl-video-episode-13.mp4\n",
      "Moviepy - Building video C:\\Users\\valer\\Desktop\\mmp_courses\\ml\\sem. 6\\tasks\\4.OCRL\\videos\\rl-video-episode-14.mp4.\n",
      "Moviepy - Writing video C:\\Users\\valer\\Desktop\\mmp_courses\\ml\\sem. 6\\tasks\\4.OCRL\\videos\\rl-video-episode-14.mp4\n",
      "\n"
     ]
    },
    {
     "name": "stderr",
     "output_type": "stream",
     "text": [
      "                                                                                                                       \r"
     ]
    },
    {
     "name": "stdout",
     "output_type": "stream",
     "text": [
      "Moviepy - Done !\n",
      "Moviepy - video ready C:\\Users\\valer\\Desktop\\mmp_courses\\ml\\sem. 6\\tasks\\4.OCRL\\videos\\rl-video-episode-14.mp4\n",
      "Moviepy - Building video C:\\Users\\valer\\Desktop\\mmp_courses\\ml\\sem. 6\\tasks\\4.OCRL\\videos\\rl-video-episode-15.mp4.\n",
      "Moviepy - Writing video C:\\Users\\valer\\Desktop\\mmp_courses\\ml\\sem. 6\\tasks\\4.OCRL\\videos\\rl-video-episode-15.mp4\n",
      "\n"
     ]
    },
    {
     "name": "stderr",
     "output_type": "stream",
     "text": [
      "                                                                                                                       \r"
     ]
    },
    {
     "name": "stdout",
     "output_type": "stream",
     "text": [
      "Moviepy - Done !\n",
      "Moviepy - video ready C:\\Users\\valer\\Desktop\\mmp_courses\\ml\\sem. 6\\tasks\\4.OCRL\\videos\\rl-video-episode-15.mp4\n",
      "Moviepy - Building video C:\\Users\\valer\\Desktop\\mmp_courses\\ml\\sem. 6\\tasks\\4.OCRL\\videos\\rl-video-episode-16.mp4.\n",
      "Moviepy - Writing video C:\\Users\\valer\\Desktop\\mmp_courses\\ml\\sem. 6\\tasks\\4.OCRL\\videos\\rl-video-episode-16.mp4\n",
      "\n"
     ]
    },
    {
     "name": "stderr",
     "output_type": "stream",
     "text": [
      "                                                                                                                       \r"
     ]
    },
    {
     "name": "stdout",
     "output_type": "stream",
     "text": [
      "Moviepy - Done !\n",
      "Moviepy - video ready C:\\Users\\valer\\Desktop\\mmp_courses\\ml\\sem. 6\\tasks\\4.OCRL\\videos\\rl-video-episode-16.mp4\n",
      "Moviepy - Building video C:\\Users\\valer\\Desktop\\mmp_courses\\ml\\sem. 6\\tasks\\4.OCRL\\videos\\rl-video-episode-17.mp4.\n",
      "Moviepy - Writing video C:\\Users\\valer\\Desktop\\mmp_courses\\ml\\sem. 6\\tasks\\4.OCRL\\videos\\rl-video-episode-17.mp4\n",
      "\n"
     ]
    },
    {
     "name": "stderr",
     "output_type": "stream",
     "text": [
      "                                                                                                                       \r"
     ]
    },
    {
     "name": "stdout",
     "output_type": "stream",
     "text": [
      "Moviepy - Done !\n",
      "Moviepy - video ready C:\\Users\\valer\\Desktop\\mmp_courses\\ml\\sem. 6\\tasks\\4.OCRL\\videos\\rl-video-episode-17.mp4\n",
      "Moviepy - Building video C:\\Users\\valer\\Desktop\\mmp_courses\\ml\\sem. 6\\tasks\\4.OCRL\\videos\\rl-video-episode-18.mp4.\n",
      "Moviepy - Writing video C:\\Users\\valer\\Desktop\\mmp_courses\\ml\\sem. 6\\tasks\\4.OCRL\\videos\\rl-video-episode-18.mp4\n",
      "\n"
     ]
    },
    {
     "name": "stderr",
     "output_type": "stream",
     "text": [
      "                                                                                                                       \r"
     ]
    },
    {
     "name": "stdout",
     "output_type": "stream",
     "text": [
      "Moviepy - Done !\n",
      "Moviepy - video ready C:\\Users\\valer\\Desktop\\mmp_courses\\ml\\sem. 6\\tasks\\4.OCRL\\videos\\rl-video-episode-18.mp4\n",
      "Moviepy - Building video C:\\Users\\valer\\Desktop\\mmp_courses\\ml\\sem. 6\\tasks\\4.OCRL\\videos\\rl-video-episode-19.mp4.\n",
      "Moviepy - Writing video C:\\Users\\valer\\Desktop\\mmp_courses\\ml\\sem. 6\\tasks\\4.OCRL\\videos\\rl-video-episode-19.mp4\n",
      "\n"
     ]
    },
    {
     "name": "stderr",
     "output_type": "stream",
     "text": [
      "                                                                                                                       \r"
     ]
    },
    {
     "name": "stdout",
     "output_type": "stream",
     "text": [
      "Moviepy - Done !\n",
      "Moviepy - video ready C:\\Users\\valer\\Desktop\\mmp_courses\\ml\\sem. 6\\tasks\\4.OCRL\\videos\\rl-video-episode-19.mp4\n",
      "Moviepy - Building video C:\\Users\\valer\\Desktop\\mmp_courses\\ml\\sem. 6\\tasks\\4.OCRL\\videos\\rl-video-episode-20.mp4.\n",
      "Moviepy - Writing video C:\\Users\\valer\\Desktop\\mmp_courses\\ml\\sem. 6\\tasks\\4.OCRL\\videos\\rl-video-episode-20.mp4\n",
      "\n"
     ]
    },
    {
     "name": "stderr",
     "output_type": "stream",
     "text": [
      "                                                                                                                       \r"
     ]
    },
    {
     "name": "stdout",
     "output_type": "stream",
     "text": [
      "Moviepy - Done !\n",
      "Moviepy - video ready C:\\Users\\valer\\Desktop\\mmp_courses\\ml\\sem. 6\\tasks\\4.OCRL\\videos\\rl-video-episode-20.mp4\n",
      "Moviepy - Building video C:\\Users\\valer\\Desktop\\mmp_courses\\ml\\sem. 6\\tasks\\4.OCRL\\videos\\rl-video-episode-21.mp4.\n",
      "Moviepy - Writing video C:\\Users\\valer\\Desktop\\mmp_courses\\ml\\sem. 6\\tasks\\4.OCRL\\videos\\rl-video-episode-21.mp4\n",
      "\n"
     ]
    },
    {
     "name": "stderr",
     "output_type": "stream",
     "text": [
      "                                                                                                                       \r"
     ]
    },
    {
     "name": "stdout",
     "output_type": "stream",
     "text": [
      "Moviepy - Done !\n",
      "Moviepy - video ready C:\\Users\\valer\\Desktop\\mmp_courses\\ml\\sem. 6\\tasks\\4.OCRL\\videos\\rl-video-episode-21.mp4\n",
      "Moviepy - Building video C:\\Users\\valer\\Desktop\\mmp_courses\\ml\\sem. 6\\tasks\\4.OCRL\\videos\\rl-video-episode-22.mp4.\n",
      "Moviepy - Writing video C:\\Users\\valer\\Desktop\\mmp_courses\\ml\\sem. 6\\tasks\\4.OCRL\\videos\\rl-video-episode-22.mp4\n",
      "\n"
     ]
    },
    {
     "name": "stderr",
     "output_type": "stream",
     "text": [
      "                                                                                                                       \r"
     ]
    },
    {
     "name": "stdout",
     "output_type": "stream",
     "text": [
      "Moviepy - Done !\n",
      "Moviepy - video ready C:\\Users\\valer\\Desktop\\mmp_courses\\ml\\sem. 6\\tasks\\4.OCRL\\videos\\rl-video-episode-22.mp4\n",
      "Moviepy - Building video C:\\Users\\valer\\Desktop\\mmp_courses\\ml\\sem. 6\\tasks\\4.OCRL\\videos\\rl-video-episode-23.mp4.\n",
      "Moviepy - Writing video C:\\Users\\valer\\Desktop\\mmp_courses\\ml\\sem. 6\\tasks\\4.OCRL\\videos\\rl-video-episode-23.mp4\n",
      "\n"
     ]
    },
    {
     "name": "stderr",
     "output_type": "stream",
     "text": [
      "                                                                                                                       \r"
     ]
    },
    {
     "name": "stdout",
     "output_type": "stream",
     "text": [
      "Moviepy - Done !\n",
      "Moviepy - video ready C:\\Users\\valer\\Desktop\\mmp_courses\\ml\\sem. 6\\tasks\\4.OCRL\\videos\\rl-video-episode-23.mp4\n",
      "Moviepy - Building video C:\\Users\\valer\\Desktop\\mmp_courses\\ml\\sem. 6\\tasks\\4.OCRL\\videos\\rl-video-episode-24.mp4.\n",
      "Moviepy - Writing video C:\\Users\\valer\\Desktop\\mmp_courses\\ml\\sem. 6\\tasks\\4.OCRL\\videos\\rl-video-episode-24.mp4\n",
      "\n"
     ]
    },
    {
     "name": "stderr",
     "output_type": "stream",
     "text": [
      "                                                                                                                       \r"
     ]
    },
    {
     "name": "stdout",
     "output_type": "stream",
     "text": [
      "Moviepy - Done !\n",
      "Moviepy - video ready C:\\Users\\valer\\Desktop\\mmp_courses\\ml\\sem. 6\\tasks\\4.OCRL\\videos\\rl-video-episode-24.mp4\n",
      "Moviepy - Building video C:\\Users\\valer\\Desktop\\mmp_courses\\ml\\sem. 6\\tasks\\4.OCRL\\videos\\rl-video-episode-25.mp4.\n",
      "Moviepy - Writing video C:\\Users\\valer\\Desktop\\mmp_courses\\ml\\sem. 6\\tasks\\4.OCRL\\videos\\rl-video-episode-25.mp4\n",
      "\n"
     ]
    },
    {
     "name": "stderr",
     "output_type": "stream",
     "text": [
      "                                                                                                                       \r"
     ]
    },
    {
     "name": "stdout",
     "output_type": "stream",
     "text": [
      "Moviepy - Done !\n",
      "Moviepy - video ready C:\\Users\\valer\\Desktop\\mmp_courses\\ml\\sem. 6\\tasks\\4.OCRL\\videos\\rl-video-episode-25.mp4\n",
      "Moviepy - Building video C:\\Users\\valer\\Desktop\\mmp_courses\\ml\\sem. 6\\tasks\\4.OCRL\\videos\\rl-video-episode-26.mp4.\n",
      "Moviepy - Writing video C:\\Users\\valer\\Desktop\\mmp_courses\\ml\\sem. 6\\tasks\\4.OCRL\\videos\\rl-video-episode-26.mp4\n",
      "\n"
     ]
    },
    {
     "name": "stderr",
     "output_type": "stream",
     "text": [
      "                                                                                                                       \r"
     ]
    },
    {
     "name": "stdout",
     "output_type": "stream",
     "text": [
      "Moviepy - Done !\n",
      "Moviepy - video ready C:\\Users\\valer\\Desktop\\mmp_courses\\ml\\sem. 6\\tasks\\4.OCRL\\videos\\rl-video-episode-26.mp4\n",
      "Moviepy - Building video C:\\Users\\valer\\Desktop\\mmp_courses\\ml\\sem. 6\\tasks\\4.OCRL\\videos\\rl-video-episode-27.mp4.\n",
      "Moviepy - Writing video C:\\Users\\valer\\Desktop\\mmp_courses\\ml\\sem. 6\\tasks\\4.OCRL\\videos\\rl-video-episode-27.mp4\n",
      "\n"
     ]
    },
    {
     "name": "stderr",
     "output_type": "stream",
     "text": [
      "                                                                                                                       \r"
     ]
    },
    {
     "name": "stdout",
     "output_type": "stream",
     "text": [
      "Moviepy - Done !\n",
      "Moviepy - video ready C:\\Users\\valer\\Desktop\\mmp_courses\\ml\\sem. 6\\tasks\\4.OCRL\\videos\\rl-video-episode-27.mp4\n",
      "Moviepy - Building video C:\\Users\\valer\\Desktop\\mmp_courses\\ml\\sem. 6\\tasks\\4.OCRL\\videos\\rl-video-episode-28.mp4.\n",
      "Moviepy - Writing video C:\\Users\\valer\\Desktop\\mmp_courses\\ml\\sem. 6\\tasks\\4.OCRL\\videos\\rl-video-episode-28.mp4\n",
      "\n"
     ]
    },
    {
     "name": "stderr",
     "output_type": "stream",
     "text": [
      "                                                                                                                       \r"
     ]
    },
    {
     "name": "stdout",
     "output_type": "stream",
     "text": [
      "Moviepy - Done !\n",
      "Moviepy - video ready C:\\Users\\valer\\Desktop\\mmp_courses\\ml\\sem. 6\\tasks\\4.OCRL\\videos\\rl-video-episode-28.mp4\n",
      "Moviepy - Building video C:\\Users\\valer\\Desktop\\mmp_courses\\ml\\sem. 6\\tasks\\4.OCRL\\videos\\rl-video-episode-29.mp4.\n",
      "Moviepy - Writing video C:\\Users\\valer\\Desktop\\mmp_courses\\ml\\sem. 6\\tasks\\4.OCRL\\videos\\rl-video-episode-29.mp4\n",
      "\n"
     ]
    },
    {
     "name": "stderr",
     "output_type": "stream",
     "text": [
      "                                                                                                                       \r"
     ]
    },
    {
     "name": "stdout",
     "output_type": "stream",
     "text": [
      "Moviepy - Done !\n",
      "Moviepy - video ready C:\\Users\\valer\\Desktop\\mmp_courses\\ml\\sem. 6\\tasks\\4.OCRL\\videos\\rl-video-episode-29.mp4\n",
      "Moviepy - Building video C:\\Users\\valer\\Desktop\\mmp_courses\\ml\\sem. 6\\tasks\\4.OCRL\\videos\\rl-video-episode-30.mp4.\n",
      "Moviepy - Writing video C:\\Users\\valer\\Desktop\\mmp_courses\\ml\\sem. 6\\tasks\\4.OCRL\\videos\\rl-video-episode-30.mp4\n",
      "\n"
     ]
    },
    {
     "name": "stderr",
     "output_type": "stream",
     "text": [
      "                                                                                                                       \r"
     ]
    },
    {
     "name": "stdout",
     "output_type": "stream",
     "text": [
      "Moviepy - Done !\n",
      "Moviepy - video ready C:\\Users\\valer\\Desktop\\mmp_courses\\ml\\sem. 6\\tasks\\4.OCRL\\videos\\rl-video-episode-30.mp4\n",
      "Moviepy - Building video C:\\Users\\valer\\Desktop\\mmp_courses\\ml\\sem. 6\\tasks\\4.OCRL\\videos\\rl-video-episode-31.mp4.\n",
      "Moviepy - Writing video C:\\Users\\valer\\Desktop\\mmp_courses\\ml\\sem. 6\\tasks\\4.OCRL\\videos\\rl-video-episode-31.mp4\n",
      "\n"
     ]
    },
    {
     "name": "stderr",
     "output_type": "stream",
     "text": [
      "                                                                                                                       \r"
     ]
    },
    {
     "name": "stdout",
     "output_type": "stream",
     "text": [
      "Moviepy - Done !\n",
      "Moviepy - video ready C:\\Users\\valer\\Desktop\\mmp_courses\\ml\\sem. 6\\tasks\\4.OCRL\\videos\\rl-video-episode-31.mp4\n",
      "Moviepy - Building video C:\\Users\\valer\\Desktop\\mmp_courses\\ml\\sem. 6\\tasks\\4.OCRL\\videos\\rl-video-episode-32.mp4.\n",
      "Moviepy - Writing video C:\\Users\\valer\\Desktop\\mmp_courses\\ml\\sem. 6\\tasks\\4.OCRL\\videos\\rl-video-episode-32.mp4\n",
      "\n"
     ]
    },
    {
     "name": "stderr",
     "output_type": "stream",
     "text": [
      "                                                                                                                       \r"
     ]
    },
    {
     "name": "stdout",
     "output_type": "stream",
     "text": [
      "Moviepy - Done !\n",
      "Moviepy - video ready C:\\Users\\valer\\Desktop\\mmp_courses\\ml\\sem. 6\\tasks\\4.OCRL\\videos\\rl-video-episode-32.mp4\n",
      "Moviepy - Building video C:\\Users\\valer\\Desktop\\mmp_courses\\ml\\sem. 6\\tasks\\4.OCRL\\videos\\rl-video-episode-33.mp4.\n",
      "Moviepy - Writing video C:\\Users\\valer\\Desktop\\mmp_courses\\ml\\sem. 6\\tasks\\4.OCRL\\videos\\rl-video-episode-33.mp4\n",
      "\n"
     ]
    },
    {
     "name": "stderr",
     "output_type": "stream",
     "text": [
      "                                                                                                                       \r"
     ]
    },
    {
     "name": "stdout",
     "output_type": "stream",
     "text": [
      "Moviepy - Done !\n",
      "Moviepy - video ready C:\\Users\\valer\\Desktop\\mmp_courses\\ml\\sem. 6\\tasks\\4.OCRL\\videos\\rl-video-episode-33.mp4\n",
      "Moviepy - Building video C:\\Users\\valer\\Desktop\\mmp_courses\\ml\\sem. 6\\tasks\\4.OCRL\\videos\\rl-video-episode-34.mp4.\n",
      "Moviepy - Writing video C:\\Users\\valer\\Desktop\\mmp_courses\\ml\\sem. 6\\tasks\\4.OCRL\\videos\\rl-video-episode-34.mp4\n",
      "\n"
     ]
    },
    {
     "name": "stderr",
     "output_type": "stream",
     "text": [
      "                                                                                                                       \r"
     ]
    },
    {
     "name": "stdout",
     "output_type": "stream",
     "text": [
      "Moviepy - Done !\n",
      "Moviepy - video ready C:\\Users\\valer\\Desktop\\mmp_courses\\ml\\sem. 6\\tasks\\4.OCRL\\videos\\rl-video-episode-34.mp4\n",
      "Moviepy - Building video C:\\Users\\valer\\Desktop\\mmp_courses\\ml\\sem. 6\\tasks\\4.OCRL\\videos\\rl-video-episode-35.mp4.\n",
      "Moviepy - Writing video C:\\Users\\valer\\Desktop\\mmp_courses\\ml\\sem. 6\\tasks\\4.OCRL\\videos\\rl-video-episode-35.mp4\n",
      "\n"
     ]
    },
    {
     "name": "stderr",
     "output_type": "stream",
     "text": [
      "                                                                                                                       \r"
     ]
    },
    {
     "name": "stdout",
     "output_type": "stream",
     "text": [
      "Moviepy - Done !\n",
      "Moviepy - video ready C:\\Users\\valer\\Desktop\\mmp_courses\\ml\\sem. 6\\tasks\\4.OCRL\\videos\\rl-video-episode-35.mp4\n",
      "Moviepy - Building video C:\\Users\\valer\\Desktop\\mmp_courses\\ml\\sem. 6\\tasks\\4.OCRL\\videos\\rl-video-episode-36.mp4.\n",
      "Moviepy - Writing video C:\\Users\\valer\\Desktop\\mmp_courses\\ml\\sem. 6\\tasks\\4.OCRL\\videos\\rl-video-episode-36.mp4\n",
      "\n"
     ]
    },
    {
     "name": "stderr",
     "output_type": "stream",
     "text": [
      "                                                                                                                       \r"
     ]
    },
    {
     "name": "stdout",
     "output_type": "stream",
     "text": [
      "Moviepy - Done !\n",
      "Moviepy - video ready C:\\Users\\valer\\Desktop\\mmp_courses\\ml\\sem. 6\\tasks\\4.OCRL\\videos\\rl-video-episode-36.mp4\n",
      "Moviepy - Building video C:\\Users\\valer\\Desktop\\mmp_courses\\ml\\sem. 6\\tasks\\4.OCRL\\videos\\rl-video-episode-37.mp4.\n",
      "Moviepy - Writing video C:\\Users\\valer\\Desktop\\mmp_courses\\ml\\sem. 6\\tasks\\4.OCRL\\videos\\rl-video-episode-37.mp4\n",
      "\n"
     ]
    },
    {
     "name": "stderr",
     "output_type": "stream",
     "text": [
      "                                                                                                                       \r"
     ]
    },
    {
     "name": "stdout",
     "output_type": "stream",
     "text": [
      "Moviepy - Done !\n",
      "Moviepy - video ready C:\\Users\\valer\\Desktop\\mmp_courses\\ml\\sem. 6\\tasks\\4.OCRL\\videos\\rl-video-episode-37.mp4\n",
      "Moviepy - Building video C:\\Users\\valer\\Desktop\\mmp_courses\\ml\\sem. 6\\tasks\\4.OCRL\\videos\\rl-video-episode-38.mp4.\n",
      "Moviepy - Writing video C:\\Users\\valer\\Desktop\\mmp_courses\\ml\\sem. 6\\tasks\\4.OCRL\\videos\\rl-video-episode-38.mp4\n",
      "\n"
     ]
    },
    {
     "name": "stderr",
     "output_type": "stream",
     "text": [
      "                                                                                                                       \r"
     ]
    },
    {
     "name": "stdout",
     "output_type": "stream",
     "text": [
      "Moviepy - Done !\n",
      "Moviepy - video ready C:\\Users\\valer\\Desktop\\mmp_courses\\ml\\sem. 6\\tasks\\4.OCRL\\videos\\rl-video-episode-38.mp4\n",
      "Moviepy - Building video C:\\Users\\valer\\Desktop\\mmp_courses\\ml\\sem. 6\\tasks\\4.OCRL\\videos\\rl-video-episode-39.mp4.\n",
      "Moviepy - Writing video C:\\Users\\valer\\Desktop\\mmp_courses\\ml\\sem. 6\\tasks\\4.OCRL\\videos\\rl-video-episode-39.mp4\n",
      "\n"
     ]
    },
    {
     "name": "stderr",
     "output_type": "stream",
     "text": [
      "                                                                                                                       \r"
     ]
    },
    {
     "name": "stdout",
     "output_type": "stream",
     "text": [
      "Moviepy - Done !\n",
      "Moviepy - video ready C:\\Users\\valer\\Desktop\\mmp_courses\\ml\\sem. 6\\tasks\\4.OCRL\\videos\\rl-video-episode-39.mp4\n",
      "Moviepy - Building video C:\\Users\\valer\\Desktop\\mmp_courses\\ml\\sem. 6\\tasks\\4.OCRL\\videos\\rl-video-episode-40.mp4.\n",
      "Moviepy - Writing video C:\\Users\\valer\\Desktop\\mmp_courses\\ml\\sem. 6\\tasks\\4.OCRL\\videos\\rl-video-episode-40.mp4\n",
      "\n"
     ]
    },
    {
     "name": "stderr",
     "output_type": "stream",
     "text": [
      "                                                                                                                       \r"
     ]
    },
    {
     "name": "stdout",
     "output_type": "stream",
     "text": [
      "Moviepy - Done !\n",
      "Moviepy - video ready C:\\Users\\valer\\Desktop\\mmp_courses\\ml\\sem. 6\\tasks\\4.OCRL\\videos\\rl-video-episode-40.mp4\n",
      "Moviepy - Building video C:\\Users\\valer\\Desktop\\mmp_courses\\ml\\sem. 6\\tasks\\4.OCRL\\videos\\rl-video-episode-41.mp4.\n",
      "Moviepy - Writing video C:\\Users\\valer\\Desktop\\mmp_courses\\ml\\sem. 6\\tasks\\4.OCRL\\videos\\rl-video-episode-41.mp4\n",
      "\n"
     ]
    },
    {
     "name": "stderr",
     "output_type": "stream",
     "text": [
      "                                                                                                                       \r"
     ]
    },
    {
     "name": "stdout",
     "output_type": "stream",
     "text": [
      "Moviepy - Done !\n",
      "Moviepy - video ready C:\\Users\\valer\\Desktop\\mmp_courses\\ml\\sem. 6\\tasks\\4.OCRL\\videos\\rl-video-episode-41.mp4\n",
      "Moviepy - Building video C:\\Users\\valer\\Desktop\\mmp_courses\\ml\\sem. 6\\tasks\\4.OCRL\\videos\\rl-video-episode-42.mp4.\n",
      "Moviepy - Writing video C:\\Users\\valer\\Desktop\\mmp_courses\\ml\\sem. 6\\tasks\\4.OCRL\\videos\\rl-video-episode-42.mp4\n",
      "\n"
     ]
    },
    {
     "name": "stderr",
     "output_type": "stream",
     "text": [
      "                                                                                                                       \r"
     ]
    },
    {
     "name": "stdout",
     "output_type": "stream",
     "text": [
      "Moviepy - Done !\n",
      "Moviepy - video ready C:\\Users\\valer\\Desktop\\mmp_courses\\ml\\sem. 6\\tasks\\4.OCRL\\videos\\rl-video-episode-42.mp4\n",
      "Moviepy - Building video C:\\Users\\valer\\Desktop\\mmp_courses\\ml\\sem. 6\\tasks\\4.OCRL\\videos\\rl-video-episode-43.mp4.\n",
      "Moviepy - Writing video C:\\Users\\valer\\Desktop\\mmp_courses\\ml\\sem. 6\\tasks\\4.OCRL\\videos\\rl-video-episode-43.mp4\n",
      "\n"
     ]
    },
    {
     "name": "stderr",
     "output_type": "stream",
     "text": [
      "                                                                                                                       \r"
     ]
    },
    {
     "name": "stdout",
     "output_type": "stream",
     "text": [
      "Moviepy - Done !\n",
      "Moviepy - video ready C:\\Users\\valer\\Desktop\\mmp_courses\\ml\\sem. 6\\tasks\\4.OCRL\\videos\\rl-video-episode-43.mp4\n",
      "Moviepy - Building video C:\\Users\\valer\\Desktop\\mmp_courses\\ml\\sem. 6\\tasks\\4.OCRL\\videos\\rl-video-episode-44.mp4.\n",
      "Moviepy - Writing video C:\\Users\\valer\\Desktop\\mmp_courses\\ml\\sem. 6\\tasks\\4.OCRL\\videos\\rl-video-episode-44.mp4\n",
      "\n"
     ]
    },
    {
     "name": "stderr",
     "output_type": "stream",
     "text": [
      "                                                                                                                       \r"
     ]
    },
    {
     "name": "stdout",
     "output_type": "stream",
     "text": [
      "Moviepy - Done !\n",
      "Moviepy - video ready C:\\Users\\valer\\Desktop\\mmp_courses\\ml\\sem. 6\\tasks\\4.OCRL\\videos\\rl-video-episode-44.mp4\n",
      "Moviepy - Building video C:\\Users\\valer\\Desktop\\mmp_courses\\ml\\sem. 6\\tasks\\4.OCRL\\videos\\rl-video-episode-45.mp4.\n",
      "Moviepy - Writing video C:\\Users\\valer\\Desktop\\mmp_courses\\ml\\sem. 6\\tasks\\4.OCRL\\videos\\rl-video-episode-45.mp4\n",
      "\n"
     ]
    },
    {
     "name": "stderr",
     "output_type": "stream",
     "text": [
      "                                                                                                                       \r"
     ]
    },
    {
     "name": "stdout",
     "output_type": "stream",
     "text": [
      "Moviepy - Done !\n",
      "Moviepy - video ready C:\\Users\\valer\\Desktop\\mmp_courses\\ml\\sem. 6\\tasks\\4.OCRL\\videos\\rl-video-episode-45.mp4\n",
      "Moviepy - Building video C:\\Users\\valer\\Desktop\\mmp_courses\\ml\\sem. 6\\tasks\\4.OCRL\\videos\\rl-video-episode-46.mp4.\n",
      "Moviepy - Writing video C:\\Users\\valer\\Desktop\\mmp_courses\\ml\\sem. 6\\tasks\\4.OCRL\\videos\\rl-video-episode-46.mp4\n",
      "\n"
     ]
    },
    {
     "name": "stderr",
     "output_type": "stream",
     "text": [
      "                                                                                                                       \r"
     ]
    },
    {
     "name": "stdout",
     "output_type": "stream",
     "text": [
      "Moviepy - Done !\n",
      "Moviepy - video ready C:\\Users\\valer\\Desktop\\mmp_courses\\ml\\sem. 6\\tasks\\4.OCRL\\videos\\rl-video-episode-46.mp4\n",
      "Moviepy - Building video C:\\Users\\valer\\Desktop\\mmp_courses\\ml\\sem. 6\\tasks\\4.OCRL\\videos\\rl-video-episode-47.mp4.\n",
      "Moviepy - Writing video C:\\Users\\valer\\Desktop\\mmp_courses\\ml\\sem. 6\\tasks\\4.OCRL\\videos\\rl-video-episode-47.mp4\n",
      "\n"
     ]
    },
    {
     "name": "stderr",
     "output_type": "stream",
     "text": [
      "                                                                                                                       \r"
     ]
    },
    {
     "name": "stdout",
     "output_type": "stream",
     "text": [
      "Moviepy - Done !\n",
      "Moviepy - video ready C:\\Users\\valer\\Desktop\\mmp_courses\\ml\\sem. 6\\tasks\\4.OCRL\\videos\\rl-video-episode-47.mp4\n",
      "Moviepy - Building video C:\\Users\\valer\\Desktop\\mmp_courses\\ml\\sem. 6\\tasks\\4.OCRL\\videos\\rl-video-episode-48.mp4.\n",
      "Moviepy - Writing video C:\\Users\\valer\\Desktop\\mmp_courses\\ml\\sem. 6\\tasks\\4.OCRL\\videos\\rl-video-episode-48.mp4\n",
      "\n"
     ]
    },
    {
     "name": "stderr",
     "output_type": "stream",
     "text": [
      "                                                                                                                       \r"
     ]
    },
    {
     "name": "stdout",
     "output_type": "stream",
     "text": [
      "Moviepy - Done !\n",
      "Moviepy - video ready C:\\Users\\valer\\Desktop\\mmp_courses\\ml\\sem. 6\\tasks\\4.OCRL\\videos\\rl-video-episode-48.mp4\n",
      "Moviepy - Building video C:\\Users\\valer\\Desktop\\mmp_courses\\ml\\sem. 6\\tasks\\4.OCRL\\videos\\rl-video-episode-49.mp4.\n",
      "Moviepy - Writing video C:\\Users\\valer\\Desktop\\mmp_courses\\ml\\sem. 6\\tasks\\4.OCRL\\videos\\rl-video-episode-49.mp4\n",
      "\n"
     ]
    },
    {
     "name": "stderr",
     "output_type": "stream",
     "text": [
      "                                                                                                                       \r"
     ]
    },
    {
     "name": "stdout",
     "output_type": "stream",
     "text": [
      "Moviepy - Done !\n",
      "Moviepy - video ready C:\\Users\\valer\\Desktop\\mmp_courses\\ml\\sem. 6\\tasks\\4.OCRL\\videos\\rl-video-episode-49.mp4\n",
      "Moviepy - Building video C:\\Users\\valer\\Desktop\\mmp_courses\\ml\\sem. 6\\tasks\\4.OCRL\\videos\\rl-video-episode-50.mp4.\n",
      "Moviepy - Writing video C:\\Users\\valer\\Desktop\\mmp_courses\\ml\\sem. 6\\tasks\\4.OCRL\\videos\\rl-video-episode-50.mp4\n",
      "\n"
     ]
    },
    {
     "name": "stderr",
     "output_type": "stream",
     "text": [
      "                                                                                                                       \r"
     ]
    },
    {
     "name": "stdout",
     "output_type": "stream",
     "text": [
      "Moviepy - Done !\n",
      "Moviepy - video ready C:\\Users\\valer\\Desktop\\mmp_courses\\ml\\sem. 6\\tasks\\4.OCRL\\videos\\rl-video-episode-50.mp4\n",
      "Moviepy - Building video C:\\Users\\valer\\Desktop\\mmp_courses\\ml\\sem. 6\\tasks\\4.OCRL\\videos\\rl-video-episode-51.mp4.\n",
      "Moviepy - Writing video C:\\Users\\valer\\Desktop\\mmp_courses\\ml\\sem. 6\\tasks\\4.OCRL\\videos\\rl-video-episode-51.mp4\n",
      "\n"
     ]
    },
    {
     "name": "stderr",
     "output_type": "stream",
     "text": [
      "                                                                                                                       \r"
     ]
    },
    {
     "name": "stdout",
     "output_type": "stream",
     "text": [
      "Moviepy - Done !\n",
      "Moviepy - video ready C:\\Users\\valer\\Desktop\\mmp_courses\\ml\\sem. 6\\tasks\\4.OCRL\\videos\\rl-video-episode-51.mp4\n",
      "Moviepy - Building video C:\\Users\\valer\\Desktop\\mmp_courses\\ml\\sem. 6\\tasks\\4.OCRL\\videos\\rl-video-episode-52.mp4.\n",
      "Moviepy - Writing video C:\\Users\\valer\\Desktop\\mmp_courses\\ml\\sem. 6\\tasks\\4.OCRL\\videos\\rl-video-episode-52.mp4\n",
      "\n"
     ]
    },
    {
     "name": "stderr",
     "output_type": "stream",
     "text": [
      "                                                                                                                       \r"
     ]
    },
    {
     "name": "stdout",
     "output_type": "stream",
     "text": [
      "Moviepy - Done !\n",
      "Moviepy - video ready C:\\Users\\valer\\Desktop\\mmp_courses\\ml\\sem. 6\\tasks\\4.OCRL\\videos\\rl-video-episode-52.mp4\n",
      "Moviepy - Building video C:\\Users\\valer\\Desktop\\mmp_courses\\ml\\sem. 6\\tasks\\4.OCRL\\videos\\rl-video-episode-53.mp4.\n",
      "Moviepy - Writing video C:\\Users\\valer\\Desktop\\mmp_courses\\ml\\sem. 6\\tasks\\4.OCRL\\videos\\rl-video-episode-53.mp4\n",
      "\n"
     ]
    },
    {
     "name": "stderr",
     "output_type": "stream",
     "text": [
      "                                                                                                                       \r"
     ]
    },
    {
     "name": "stdout",
     "output_type": "stream",
     "text": [
      "Moviepy - Done !\n",
      "Moviepy - video ready C:\\Users\\valer\\Desktop\\mmp_courses\\ml\\sem. 6\\tasks\\4.OCRL\\videos\\rl-video-episode-53.mp4\n",
      "Moviepy - Building video C:\\Users\\valer\\Desktop\\mmp_courses\\ml\\sem. 6\\tasks\\4.OCRL\\videos\\rl-video-episode-54.mp4.\n",
      "Moviepy - Writing video C:\\Users\\valer\\Desktop\\mmp_courses\\ml\\sem. 6\\tasks\\4.OCRL\\videos\\rl-video-episode-54.mp4\n",
      "\n"
     ]
    },
    {
     "name": "stderr",
     "output_type": "stream",
     "text": [
      "                                                                                                                       \r"
     ]
    },
    {
     "name": "stdout",
     "output_type": "stream",
     "text": [
      "Moviepy - Done !\n",
      "Moviepy - video ready C:\\Users\\valer\\Desktop\\mmp_courses\\ml\\sem. 6\\tasks\\4.OCRL\\videos\\rl-video-episode-54.mp4\n",
      "Moviepy - Building video C:\\Users\\valer\\Desktop\\mmp_courses\\ml\\sem. 6\\tasks\\4.OCRL\\videos\\rl-video-episode-55.mp4.\n",
      "Moviepy - Writing video C:\\Users\\valer\\Desktop\\mmp_courses\\ml\\sem. 6\\tasks\\4.OCRL\\videos\\rl-video-episode-55.mp4\n",
      "\n"
     ]
    },
    {
     "name": "stderr",
     "output_type": "stream",
     "text": [
      "                                                                                                                       \r"
     ]
    },
    {
     "name": "stdout",
     "output_type": "stream",
     "text": [
      "Moviepy - Done !\n",
      "Moviepy - video ready C:\\Users\\valer\\Desktop\\mmp_courses\\ml\\sem. 6\\tasks\\4.OCRL\\videos\\rl-video-episode-55.mp4\n",
      "Moviepy - Building video C:\\Users\\valer\\Desktop\\mmp_courses\\ml\\sem. 6\\tasks\\4.OCRL\\videos\\rl-video-episode-56.mp4.\n",
      "Moviepy - Writing video C:\\Users\\valer\\Desktop\\mmp_courses\\ml\\sem. 6\\tasks\\4.OCRL\\videos\\rl-video-episode-56.mp4\n",
      "\n"
     ]
    },
    {
     "name": "stderr",
     "output_type": "stream",
     "text": [
      "                                                                                                                       \r"
     ]
    },
    {
     "name": "stdout",
     "output_type": "stream",
     "text": [
      "Moviepy - Done !\n",
      "Moviepy - video ready C:\\Users\\valer\\Desktop\\mmp_courses\\ml\\sem. 6\\tasks\\4.OCRL\\videos\\rl-video-episode-56.mp4\n",
      "Moviepy - Building video C:\\Users\\valer\\Desktop\\mmp_courses\\ml\\sem. 6\\tasks\\4.OCRL\\videos\\rl-video-episode-57.mp4.\n",
      "Moviepy - Writing video C:\\Users\\valer\\Desktop\\mmp_courses\\ml\\sem. 6\\tasks\\4.OCRL\\videos\\rl-video-episode-57.mp4\n",
      "\n"
     ]
    },
    {
     "name": "stderr",
     "output_type": "stream",
     "text": [
      "                                                                                                                       \r"
     ]
    },
    {
     "name": "stdout",
     "output_type": "stream",
     "text": [
      "Moviepy - Done !\n",
      "Moviepy - video ready C:\\Users\\valer\\Desktop\\mmp_courses\\ml\\sem. 6\\tasks\\4.OCRL\\videos\\rl-video-episode-57.mp4\n",
      "Moviepy - Building video C:\\Users\\valer\\Desktop\\mmp_courses\\ml\\sem. 6\\tasks\\4.OCRL\\videos\\rl-video-episode-58.mp4.\n",
      "Moviepy - Writing video C:\\Users\\valer\\Desktop\\mmp_courses\\ml\\sem. 6\\tasks\\4.OCRL\\videos\\rl-video-episode-58.mp4\n",
      "\n"
     ]
    },
    {
     "name": "stderr",
     "output_type": "stream",
     "text": [
      "                                                                                                                       \r"
     ]
    },
    {
     "name": "stdout",
     "output_type": "stream",
     "text": [
      "Moviepy - Done !\n",
      "Moviepy - video ready C:\\Users\\valer\\Desktop\\mmp_courses\\ml\\sem. 6\\tasks\\4.OCRL\\videos\\rl-video-episode-58.mp4\n",
      "Moviepy - Building video C:\\Users\\valer\\Desktop\\mmp_courses\\ml\\sem. 6\\tasks\\4.OCRL\\videos\\rl-video-episode-59.mp4.\n",
      "Moviepy - Writing video C:\\Users\\valer\\Desktop\\mmp_courses\\ml\\sem. 6\\tasks\\4.OCRL\\videos\\rl-video-episode-59.mp4\n",
      "\n"
     ]
    },
    {
     "name": "stderr",
     "output_type": "stream",
     "text": [
      "                                                                                                                       \r"
     ]
    },
    {
     "name": "stdout",
     "output_type": "stream",
     "text": [
      "Moviepy - Done !\n",
      "Moviepy - video ready C:\\Users\\valer\\Desktop\\mmp_courses\\ml\\sem. 6\\tasks\\4.OCRL\\videos\\rl-video-episode-59.mp4\n",
      "Moviepy - Building video C:\\Users\\valer\\Desktop\\mmp_courses\\ml\\sem. 6\\tasks\\4.OCRL\\videos\\rl-video-episode-60.mp4.\n",
      "Moviepy - Writing video C:\\Users\\valer\\Desktop\\mmp_courses\\ml\\sem. 6\\tasks\\4.OCRL\\videos\\rl-video-episode-60.mp4\n",
      "\n"
     ]
    },
    {
     "name": "stderr",
     "output_type": "stream",
     "text": [
      "                                                                                                                       \r"
     ]
    },
    {
     "name": "stdout",
     "output_type": "stream",
     "text": [
      "Moviepy - Done !\n",
      "Moviepy - video ready C:\\Users\\valer\\Desktop\\mmp_courses\\ml\\sem. 6\\tasks\\4.OCRL\\videos\\rl-video-episode-60.mp4\n",
      "Moviepy - Building video C:\\Users\\valer\\Desktop\\mmp_courses\\ml\\sem. 6\\tasks\\4.OCRL\\videos\\rl-video-episode-61.mp4.\n",
      "Moviepy - Writing video C:\\Users\\valer\\Desktop\\mmp_courses\\ml\\sem. 6\\tasks\\4.OCRL\\videos\\rl-video-episode-61.mp4\n",
      "\n"
     ]
    },
    {
     "name": "stderr",
     "output_type": "stream",
     "text": [
      "                                                                                                                       \r"
     ]
    },
    {
     "name": "stdout",
     "output_type": "stream",
     "text": [
      "Moviepy - Done !\n",
      "Moviepy - video ready C:\\Users\\valer\\Desktop\\mmp_courses\\ml\\sem. 6\\tasks\\4.OCRL\\videos\\rl-video-episode-61.mp4\n",
      "Moviepy - Building video C:\\Users\\valer\\Desktop\\mmp_courses\\ml\\sem. 6\\tasks\\4.OCRL\\videos\\rl-video-episode-62.mp4.\n",
      "Moviepy - Writing video C:\\Users\\valer\\Desktop\\mmp_courses\\ml\\sem. 6\\tasks\\4.OCRL\\videos\\rl-video-episode-62.mp4\n",
      "\n"
     ]
    },
    {
     "name": "stderr",
     "output_type": "stream",
     "text": [
      "                                                                                                                       \r"
     ]
    },
    {
     "name": "stdout",
     "output_type": "stream",
     "text": [
      "Moviepy - Done !\n",
      "Moviepy - video ready C:\\Users\\valer\\Desktop\\mmp_courses\\ml\\sem. 6\\tasks\\4.OCRL\\videos\\rl-video-episode-62.mp4\n",
      "Moviepy - Building video C:\\Users\\valer\\Desktop\\mmp_courses\\ml\\sem. 6\\tasks\\4.OCRL\\videos\\rl-video-episode-63.mp4.\n",
      "Moviepy - Writing video C:\\Users\\valer\\Desktop\\mmp_courses\\ml\\sem. 6\\tasks\\4.OCRL\\videos\\rl-video-episode-63.mp4\n",
      "\n"
     ]
    },
    {
     "name": "stderr",
     "output_type": "stream",
     "text": [
      "                                                                                                                       \r"
     ]
    },
    {
     "name": "stdout",
     "output_type": "stream",
     "text": [
      "Moviepy - Done !\n",
      "Moviepy - video ready C:\\Users\\valer\\Desktop\\mmp_courses\\ml\\sem. 6\\tasks\\4.OCRL\\videos\\rl-video-episode-63.mp4\n",
      "Moviepy - Building video C:\\Users\\valer\\Desktop\\mmp_courses\\ml\\sem. 6\\tasks\\4.OCRL\\videos\\rl-video-episode-64.mp4.\n",
      "Moviepy - Writing video C:\\Users\\valer\\Desktop\\mmp_courses\\ml\\sem. 6\\tasks\\4.OCRL\\videos\\rl-video-episode-64.mp4\n",
      "\n"
     ]
    },
    {
     "name": "stderr",
     "output_type": "stream",
     "text": [
      "                                                                                                                       \r"
     ]
    },
    {
     "name": "stdout",
     "output_type": "stream",
     "text": [
      "Moviepy - Done !\n",
      "Moviepy - video ready C:\\Users\\valer\\Desktop\\mmp_courses\\ml\\sem. 6\\tasks\\4.OCRL\\videos\\rl-video-episode-64.mp4\n",
      "Moviepy - Building video C:\\Users\\valer\\Desktop\\mmp_courses\\ml\\sem. 6\\tasks\\4.OCRL\\videos\\rl-video-episode-65.mp4.\n",
      "Moviepy - Writing video C:\\Users\\valer\\Desktop\\mmp_courses\\ml\\sem. 6\\tasks\\4.OCRL\\videos\\rl-video-episode-65.mp4\n",
      "\n"
     ]
    },
    {
     "name": "stderr",
     "output_type": "stream",
     "text": [
      "                                                                                                                       \r"
     ]
    },
    {
     "name": "stdout",
     "output_type": "stream",
     "text": [
      "Moviepy - Done !\n",
      "Moviepy - video ready C:\\Users\\valer\\Desktop\\mmp_courses\\ml\\sem. 6\\tasks\\4.OCRL\\videos\\rl-video-episode-65.mp4\n",
      "Moviepy - Building video C:\\Users\\valer\\Desktop\\mmp_courses\\ml\\sem. 6\\tasks\\4.OCRL\\videos\\rl-video-episode-66.mp4.\n",
      "Moviepy - Writing video C:\\Users\\valer\\Desktop\\mmp_courses\\ml\\sem. 6\\tasks\\4.OCRL\\videos\\rl-video-episode-66.mp4\n",
      "\n"
     ]
    },
    {
     "name": "stderr",
     "output_type": "stream",
     "text": [
      "                                                                                                                       \r"
     ]
    },
    {
     "name": "stdout",
     "output_type": "stream",
     "text": [
      "Moviepy - Done !\n",
      "Moviepy - video ready C:\\Users\\valer\\Desktop\\mmp_courses\\ml\\sem. 6\\tasks\\4.OCRL\\videos\\rl-video-episode-66.mp4\n",
      "Moviepy - Building video C:\\Users\\valer\\Desktop\\mmp_courses\\ml\\sem. 6\\tasks\\4.OCRL\\videos\\rl-video-episode-67.mp4.\n",
      "Moviepy - Writing video C:\\Users\\valer\\Desktop\\mmp_courses\\ml\\sem. 6\\tasks\\4.OCRL\\videos\\rl-video-episode-67.mp4\n",
      "\n"
     ]
    },
    {
     "name": "stderr",
     "output_type": "stream",
     "text": [
      "                                                                                                                       \r"
     ]
    },
    {
     "name": "stdout",
     "output_type": "stream",
     "text": [
      "Moviepy - Done !\n",
      "Moviepy - video ready C:\\Users\\valer\\Desktop\\mmp_courses\\ml\\sem. 6\\tasks\\4.OCRL\\videos\\rl-video-episode-67.mp4\n",
      "Moviepy - Building video C:\\Users\\valer\\Desktop\\mmp_courses\\ml\\sem. 6\\tasks\\4.OCRL\\videos\\rl-video-episode-68.mp4.\n",
      "Moviepy - Writing video C:\\Users\\valer\\Desktop\\mmp_courses\\ml\\sem. 6\\tasks\\4.OCRL\\videos\\rl-video-episode-68.mp4\n",
      "\n"
     ]
    },
    {
     "name": "stderr",
     "output_type": "stream",
     "text": [
      "                                                                                                                       \r"
     ]
    },
    {
     "name": "stdout",
     "output_type": "stream",
     "text": [
      "Moviepy - Done !\n",
      "Moviepy - video ready C:\\Users\\valer\\Desktop\\mmp_courses\\ml\\sem. 6\\tasks\\4.OCRL\\videos\\rl-video-episode-68.mp4\n",
      "Moviepy - Building video C:\\Users\\valer\\Desktop\\mmp_courses\\ml\\sem. 6\\tasks\\4.OCRL\\videos\\rl-video-episode-69.mp4.\n",
      "Moviepy - Writing video C:\\Users\\valer\\Desktop\\mmp_courses\\ml\\sem. 6\\tasks\\4.OCRL\\videos\\rl-video-episode-69.mp4\n",
      "\n"
     ]
    },
    {
     "name": "stderr",
     "output_type": "stream",
     "text": [
      "                                                                                                                       \r"
     ]
    },
    {
     "name": "stdout",
     "output_type": "stream",
     "text": [
      "Moviepy - Done !\n",
      "Moviepy - video ready C:\\Users\\valer\\Desktop\\mmp_courses\\ml\\sem. 6\\tasks\\4.OCRL\\videos\\rl-video-episode-69.mp4\n",
      "Moviepy - Building video C:\\Users\\valer\\Desktop\\mmp_courses\\ml\\sem. 6\\tasks\\4.OCRL\\videos\\rl-video-episode-70.mp4.\n",
      "Moviepy - Writing video C:\\Users\\valer\\Desktop\\mmp_courses\\ml\\sem. 6\\tasks\\4.OCRL\\videos\\rl-video-episode-70.mp4\n",
      "\n"
     ]
    },
    {
     "name": "stderr",
     "output_type": "stream",
     "text": [
      "                                                                                                                       \r"
     ]
    },
    {
     "name": "stdout",
     "output_type": "stream",
     "text": [
      "Moviepy - Done !\n",
      "Moviepy - video ready C:\\Users\\valer\\Desktop\\mmp_courses\\ml\\sem. 6\\tasks\\4.OCRL\\videos\\rl-video-episode-70.mp4\n",
      "Moviepy - Building video C:\\Users\\valer\\Desktop\\mmp_courses\\ml\\sem. 6\\tasks\\4.OCRL\\videos\\rl-video-episode-71.mp4.\n",
      "Moviepy - Writing video C:\\Users\\valer\\Desktop\\mmp_courses\\ml\\sem. 6\\tasks\\4.OCRL\\videos\\rl-video-episode-71.mp4\n",
      "\n"
     ]
    },
    {
     "name": "stderr",
     "output_type": "stream",
     "text": [
      "                                                                                                                       \r"
     ]
    },
    {
     "name": "stdout",
     "output_type": "stream",
     "text": [
      "Moviepy - Done !\n",
      "Moviepy - video ready C:\\Users\\valer\\Desktop\\mmp_courses\\ml\\sem. 6\\tasks\\4.OCRL\\videos\\rl-video-episode-71.mp4\n",
      "Moviepy - Building video C:\\Users\\valer\\Desktop\\mmp_courses\\ml\\sem. 6\\tasks\\4.OCRL\\videos\\rl-video-episode-72.mp4.\n",
      "Moviepy - Writing video C:\\Users\\valer\\Desktop\\mmp_courses\\ml\\sem. 6\\tasks\\4.OCRL\\videos\\rl-video-episode-72.mp4\n",
      "\n"
     ]
    },
    {
     "name": "stderr",
     "output_type": "stream",
     "text": [
      "                                                                                                                       \r"
     ]
    },
    {
     "name": "stdout",
     "output_type": "stream",
     "text": [
      "Moviepy - Done !\n",
      "Moviepy - video ready C:\\Users\\valer\\Desktop\\mmp_courses\\ml\\sem. 6\\tasks\\4.OCRL\\videos\\rl-video-episode-72.mp4\n",
      "Moviepy - Building video C:\\Users\\valer\\Desktop\\mmp_courses\\ml\\sem. 6\\tasks\\4.OCRL\\videos\\rl-video-episode-73.mp4.\n",
      "Moviepy - Writing video C:\\Users\\valer\\Desktop\\mmp_courses\\ml\\sem. 6\\tasks\\4.OCRL\\videos\\rl-video-episode-73.mp4\n",
      "\n"
     ]
    },
    {
     "name": "stderr",
     "output_type": "stream",
     "text": [
      "                                                                                                                       \r"
     ]
    },
    {
     "name": "stdout",
     "output_type": "stream",
     "text": [
      "Moviepy - Done !\n",
      "Moviepy - video ready C:\\Users\\valer\\Desktop\\mmp_courses\\ml\\sem. 6\\tasks\\4.OCRL\\videos\\rl-video-episode-73.mp4\n",
      "Moviepy - Building video C:\\Users\\valer\\Desktop\\mmp_courses\\ml\\sem. 6\\tasks\\4.OCRL\\videos\\rl-video-episode-74.mp4.\n",
      "Moviepy - Writing video C:\\Users\\valer\\Desktop\\mmp_courses\\ml\\sem. 6\\tasks\\4.OCRL\\videos\\rl-video-episode-74.mp4\n",
      "\n"
     ]
    },
    {
     "name": "stderr",
     "output_type": "stream",
     "text": [
      "                                                                                                                       \r"
     ]
    },
    {
     "name": "stdout",
     "output_type": "stream",
     "text": [
      "Moviepy - Done !\n",
      "Moviepy - video ready C:\\Users\\valer\\Desktop\\mmp_courses\\ml\\sem. 6\\tasks\\4.OCRL\\videos\\rl-video-episode-74.mp4\n",
      "Moviepy - Building video C:\\Users\\valer\\Desktop\\mmp_courses\\ml\\sem. 6\\tasks\\4.OCRL\\videos\\rl-video-episode-75.mp4.\n",
      "Moviepy - Writing video C:\\Users\\valer\\Desktop\\mmp_courses\\ml\\sem. 6\\tasks\\4.OCRL\\videos\\rl-video-episode-75.mp4\n",
      "\n"
     ]
    },
    {
     "name": "stderr",
     "output_type": "stream",
     "text": [
      "                                                                                                                       \r"
     ]
    },
    {
     "name": "stdout",
     "output_type": "stream",
     "text": [
      "Moviepy - Done !\n",
      "Moviepy - video ready C:\\Users\\valer\\Desktop\\mmp_courses\\ml\\sem. 6\\tasks\\4.OCRL\\videos\\rl-video-episode-75.mp4\n",
      "Moviepy - Building video C:\\Users\\valer\\Desktop\\mmp_courses\\ml\\sem. 6\\tasks\\4.OCRL\\videos\\rl-video-episode-76.mp4.\n",
      "Moviepy - Writing video C:\\Users\\valer\\Desktop\\mmp_courses\\ml\\sem. 6\\tasks\\4.OCRL\\videos\\rl-video-episode-76.mp4\n",
      "\n"
     ]
    },
    {
     "name": "stderr",
     "output_type": "stream",
     "text": [
      "                                                                                                                       \r"
     ]
    },
    {
     "name": "stdout",
     "output_type": "stream",
     "text": [
      "Moviepy - Done !\n",
      "Moviepy - video ready C:\\Users\\valer\\Desktop\\mmp_courses\\ml\\sem. 6\\tasks\\4.OCRL\\videos\\rl-video-episode-76.mp4\n",
      "Moviepy - Building video C:\\Users\\valer\\Desktop\\mmp_courses\\ml\\sem. 6\\tasks\\4.OCRL\\videos\\rl-video-episode-77.mp4.\n",
      "Moviepy - Writing video C:\\Users\\valer\\Desktop\\mmp_courses\\ml\\sem. 6\\tasks\\4.OCRL\\videos\\rl-video-episode-77.mp4\n",
      "\n"
     ]
    },
    {
     "name": "stderr",
     "output_type": "stream",
     "text": [
      "                                                                                                                       \r"
     ]
    },
    {
     "name": "stdout",
     "output_type": "stream",
     "text": [
      "Moviepy - Done !\n",
      "Moviepy - video ready C:\\Users\\valer\\Desktop\\mmp_courses\\ml\\sem. 6\\tasks\\4.OCRL\\videos\\rl-video-episode-77.mp4\n",
      "Moviepy - Building video C:\\Users\\valer\\Desktop\\mmp_courses\\ml\\sem. 6\\tasks\\4.OCRL\\videos\\rl-video-episode-78.mp4.\n",
      "Moviepy - Writing video C:\\Users\\valer\\Desktop\\mmp_courses\\ml\\sem. 6\\tasks\\4.OCRL\\videos\\rl-video-episode-78.mp4\n",
      "\n"
     ]
    },
    {
     "name": "stderr",
     "output_type": "stream",
     "text": [
      "                                                                                                                       \r"
     ]
    },
    {
     "name": "stdout",
     "output_type": "stream",
     "text": [
      "Moviepy - Done !\n",
      "Moviepy - video ready C:\\Users\\valer\\Desktop\\mmp_courses\\ml\\sem. 6\\tasks\\4.OCRL\\videos\\rl-video-episode-78.mp4\n",
      "Moviepy - Building video C:\\Users\\valer\\Desktop\\mmp_courses\\ml\\sem. 6\\tasks\\4.OCRL\\videos\\rl-video-episode-79.mp4.\n",
      "Moviepy - Writing video C:\\Users\\valer\\Desktop\\mmp_courses\\ml\\sem. 6\\tasks\\4.OCRL\\videos\\rl-video-episode-79.mp4\n",
      "\n"
     ]
    },
    {
     "name": "stderr",
     "output_type": "stream",
     "text": [
      "                                                                                                                       \r"
     ]
    },
    {
     "name": "stdout",
     "output_type": "stream",
     "text": [
      "Moviepy - Done !\n",
      "Moviepy - video ready C:\\Users\\valer\\Desktop\\mmp_courses\\ml\\sem. 6\\tasks\\4.OCRL\\videos\\rl-video-episode-79.mp4\n",
      "Moviepy - Building video C:\\Users\\valer\\Desktop\\mmp_courses\\ml\\sem. 6\\tasks\\4.OCRL\\videos\\rl-video-episode-80.mp4.\n",
      "Moviepy - Writing video C:\\Users\\valer\\Desktop\\mmp_courses\\ml\\sem. 6\\tasks\\4.OCRL\\videos\\rl-video-episode-80.mp4\n",
      "\n"
     ]
    },
    {
     "name": "stderr",
     "output_type": "stream",
     "text": [
      "                                                                                                                       \r"
     ]
    },
    {
     "name": "stdout",
     "output_type": "stream",
     "text": [
      "Moviepy - Done !\n",
      "Moviepy - video ready C:\\Users\\valer\\Desktop\\mmp_courses\\ml\\sem. 6\\tasks\\4.OCRL\\videos\\rl-video-episode-80.mp4\n",
      "Moviepy - Building video C:\\Users\\valer\\Desktop\\mmp_courses\\ml\\sem. 6\\tasks\\4.OCRL\\videos\\rl-video-episode-81.mp4.\n",
      "Moviepy - Writing video C:\\Users\\valer\\Desktop\\mmp_courses\\ml\\sem. 6\\tasks\\4.OCRL\\videos\\rl-video-episode-81.mp4\n",
      "\n"
     ]
    },
    {
     "name": "stderr",
     "output_type": "stream",
     "text": [
      "                                                                                                                       \r"
     ]
    },
    {
     "name": "stdout",
     "output_type": "stream",
     "text": [
      "Moviepy - Done !\n",
      "Moviepy - video ready C:\\Users\\valer\\Desktop\\mmp_courses\\ml\\sem. 6\\tasks\\4.OCRL\\videos\\rl-video-episode-81.mp4\n",
      "Moviepy - Building video C:\\Users\\valer\\Desktop\\mmp_courses\\ml\\sem. 6\\tasks\\4.OCRL\\videos\\rl-video-episode-82.mp4.\n",
      "Moviepy - Writing video C:\\Users\\valer\\Desktop\\mmp_courses\\ml\\sem. 6\\tasks\\4.OCRL\\videos\\rl-video-episode-82.mp4\n",
      "\n"
     ]
    },
    {
     "name": "stderr",
     "output_type": "stream",
     "text": [
      "                                                                                                                       \r"
     ]
    },
    {
     "name": "stdout",
     "output_type": "stream",
     "text": [
      "Moviepy - Done !\n",
      "Moviepy - video ready C:\\Users\\valer\\Desktop\\mmp_courses\\ml\\sem. 6\\tasks\\4.OCRL\\videos\\rl-video-episode-82.mp4\n",
      "Moviepy - Building video C:\\Users\\valer\\Desktop\\mmp_courses\\ml\\sem. 6\\tasks\\4.OCRL\\videos\\rl-video-episode-83.mp4.\n",
      "Moviepy - Writing video C:\\Users\\valer\\Desktop\\mmp_courses\\ml\\sem. 6\\tasks\\4.OCRL\\videos\\rl-video-episode-83.mp4\n",
      "\n"
     ]
    },
    {
     "name": "stderr",
     "output_type": "stream",
     "text": [
      "                                                                                                                       \r"
     ]
    },
    {
     "name": "stdout",
     "output_type": "stream",
     "text": [
      "Moviepy - Done !\n",
      "Moviepy - video ready C:\\Users\\valer\\Desktop\\mmp_courses\\ml\\sem. 6\\tasks\\4.OCRL\\videos\\rl-video-episode-83.mp4\n",
      "Moviepy - Building video C:\\Users\\valer\\Desktop\\mmp_courses\\ml\\sem. 6\\tasks\\4.OCRL\\videos\\rl-video-episode-84.mp4.\n",
      "Moviepy - Writing video C:\\Users\\valer\\Desktop\\mmp_courses\\ml\\sem. 6\\tasks\\4.OCRL\\videos\\rl-video-episode-84.mp4\n",
      "\n"
     ]
    },
    {
     "name": "stderr",
     "output_type": "stream",
     "text": [
      "                                                                                                                       \r"
     ]
    },
    {
     "name": "stdout",
     "output_type": "stream",
     "text": [
      "Moviepy - Done !\n",
      "Moviepy - video ready C:\\Users\\valer\\Desktop\\mmp_courses\\ml\\sem. 6\\tasks\\4.OCRL\\videos\\rl-video-episode-84.mp4\n",
      "Moviepy - Building video C:\\Users\\valer\\Desktop\\mmp_courses\\ml\\sem. 6\\tasks\\4.OCRL\\videos\\rl-video-episode-85.mp4.\n",
      "Moviepy - Writing video C:\\Users\\valer\\Desktop\\mmp_courses\\ml\\sem. 6\\tasks\\4.OCRL\\videos\\rl-video-episode-85.mp4\n",
      "\n"
     ]
    },
    {
     "name": "stderr",
     "output_type": "stream",
     "text": [
      "                                                                                                                       \r"
     ]
    },
    {
     "name": "stdout",
     "output_type": "stream",
     "text": [
      "Moviepy - Done !\n",
      "Moviepy - video ready C:\\Users\\valer\\Desktop\\mmp_courses\\ml\\sem. 6\\tasks\\4.OCRL\\videos\\rl-video-episode-85.mp4\n",
      "Moviepy - Building video C:\\Users\\valer\\Desktop\\mmp_courses\\ml\\sem. 6\\tasks\\4.OCRL\\videos\\rl-video-episode-86.mp4.\n",
      "Moviepy - Writing video C:\\Users\\valer\\Desktop\\mmp_courses\\ml\\sem. 6\\tasks\\4.OCRL\\videos\\rl-video-episode-86.mp4\n",
      "\n"
     ]
    },
    {
     "name": "stderr",
     "output_type": "stream",
     "text": [
      "                                                                                                                       \r"
     ]
    },
    {
     "name": "stdout",
     "output_type": "stream",
     "text": [
      "Moviepy - Done !\n",
      "Moviepy - video ready C:\\Users\\valer\\Desktop\\mmp_courses\\ml\\sem. 6\\tasks\\4.OCRL\\videos\\rl-video-episode-86.mp4\n",
      "Moviepy - Building video C:\\Users\\valer\\Desktop\\mmp_courses\\ml\\sem. 6\\tasks\\4.OCRL\\videos\\rl-video-episode-87.mp4.\n",
      "Moviepy - Writing video C:\\Users\\valer\\Desktop\\mmp_courses\\ml\\sem. 6\\tasks\\4.OCRL\\videos\\rl-video-episode-87.mp4\n",
      "\n"
     ]
    },
    {
     "name": "stderr",
     "output_type": "stream",
     "text": [
      "                                                                                                                       \r"
     ]
    },
    {
     "name": "stdout",
     "output_type": "stream",
     "text": [
      "Moviepy - Done !\n",
      "Moviepy - video ready C:\\Users\\valer\\Desktop\\mmp_courses\\ml\\sem. 6\\tasks\\4.OCRL\\videos\\rl-video-episode-87.mp4\n",
      "Moviepy - Building video C:\\Users\\valer\\Desktop\\mmp_courses\\ml\\sem. 6\\tasks\\4.OCRL\\videos\\rl-video-episode-88.mp4.\n",
      "Moviepy - Writing video C:\\Users\\valer\\Desktop\\mmp_courses\\ml\\sem. 6\\tasks\\4.OCRL\\videos\\rl-video-episode-88.mp4\n",
      "\n"
     ]
    },
    {
     "name": "stderr",
     "output_type": "stream",
     "text": [
      "                                                                                                                       \r"
     ]
    },
    {
     "name": "stdout",
     "output_type": "stream",
     "text": [
      "Moviepy - Done !\n",
      "Moviepy - video ready C:\\Users\\valer\\Desktop\\mmp_courses\\ml\\sem. 6\\tasks\\4.OCRL\\videos\\rl-video-episode-88.mp4\n",
      "Moviepy - Building video C:\\Users\\valer\\Desktop\\mmp_courses\\ml\\sem. 6\\tasks\\4.OCRL\\videos\\rl-video-episode-89.mp4.\n",
      "Moviepy - Writing video C:\\Users\\valer\\Desktop\\mmp_courses\\ml\\sem. 6\\tasks\\4.OCRL\\videos\\rl-video-episode-89.mp4\n",
      "\n"
     ]
    },
    {
     "name": "stderr",
     "output_type": "stream",
     "text": [
      "                                                                                                                       \r"
     ]
    },
    {
     "name": "stdout",
     "output_type": "stream",
     "text": [
      "Moviepy - Done !\n",
      "Moviepy - video ready C:\\Users\\valer\\Desktop\\mmp_courses\\ml\\sem. 6\\tasks\\4.OCRL\\videos\\rl-video-episode-89.mp4\n",
      "Moviepy - Building video C:\\Users\\valer\\Desktop\\mmp_courses\\ml\\sem. 6\\tasks\\4.OCRL\\videos\\rl-video-episode-90.mp4.\n",
      "Moviepy - Writing video C:\\Users\\valer\\Desktop\\mmp_courses\\ml\\sem. 6\\tasks\\4.OCRL\\videos\\rl-video-episode-90.mp4\n",
      "\n"
     ]
    },
    {
     "name": "stderr",
     "output_type": "stream",
     "text": [
      "                                                                                                                       \r"
     ]
    },
    {
     "name": "stdout",
     "output_type": "stream",
     "text": [
      "Moviepy - Done !\n",
      "Moviepy - video ready C:\\Users\\valer\\Desktop\\mmp_courses\\ml\\sem. 6\\tasks\\4.OCRL\\videos\\rl-video-episode-90.mp4\n",
      "Moviepy - Building video C:\\Users\\valer\\Desktop\\mmp_courses\\ml\\sem. 6\\tasks\\4.OCRL\\videos\\rl-video-episode-91.mp4.\n",
      "Moviepy - Writing video C:\\Users\\valer\\Desktop\\mmp_courses\\ml\\sem. 6\\tasks\\4.OCRL\\videos\\rl-video-episode-91.mp4\n",
      "\n"
     ]
    },
    {
     "name": "stderr",
     "output_type": "stream",
     "text": [
      "                                                                                                                       \r"
     ]
    },
    {
     "name": "stdout",
     "output_type": "stream",
     "text": [
      "Moviepy - Done !\n",
      "Moviepy - video ready C:\\Users\\valer\\Desktop\\mmp_courses\\ml\\sem. 6\\tasks\\4.OCRL\\videos\\rl-video-episode-91.mp4\n",
      "Moviepy - Building video C:\\Users\\valer\\Desktop\\mmp_courses\\ml\\sem. 6\\tasks\\4.OCRL\\videos\\rl-video-episode-92.mp4.\n",
      "Moviepy - Writing video C:\\Users\\valer\\Desktop\\mmp_courses\\ml\\sem. 6\\tasks\\4.OCRL\\videos\\rl-video-episode-92.mp4\n",
      "\n"
     ]
    },
    {
     "name": "stderr",
     "output_type": "stream",
     "text": [
      "                                                                                                                       \r"
     ]
    },
    {
     "name": "stdout",
     "output_type": "stream",
     "text": [
      "Moviepy - Done !\n",
      "Moviepy - video ready C:\\Users\\valer\\Desktop\\mmp_courses\\ml\\sem. 6\\tasks\\4.OCRL\\videos\\rl-video-episode-92.mp4\n",
      "Moviepy - Building video C:\\Users\\valer\\Desktop\\mmp_courses\\ml\\sem. 6\\tasks\\4.OCRL\\videos\\rl-video-episode-93.mp4.\n",
      "Moviepy - Writing video C:\\Users\\valer\\Desktop\\mmp_courses\\ml\\sem. 6\\tasks\\4.OCRL\\videos\\rl-video-episode-93.mp4\n",
      "\n"
     ]
    },
    {
     "name": "stderr",
     "output_type": "stream",
     "text": [
      "                                                                                                                       \r"
     ]
    },
    {
     "name": "stdout",
     "output_type": "stream",
     "text": [
      "Moviepy - Done !\n",
      "Moviepy - video ready C:\\Users\\valer\\Desktop\\mmp_courses\\ml\\sem. 6\\tasks\\4.OCRL\\videos\\rl-video-episode-93.mp4\n",
      "Moviepy - Building video C:\\Users\\valer\\Desktop\\mmp_courses\\ml\\sem. 6\\tasks\\4.OCRL\\videos\\rl-video-episode-94.mp4.\n",
      "Moviepy - Writing video C:\\Users\\valer\\Desktop\\mmp_courses\\ml\\sem. 6\\tasks\\4.OCRL\\videos\\rl-video-episode-94.mp4\n",
      "\n"
     ]
    },
    {
     "name": "stderr",
     "output_type": "stream",
     "text": [
      "                                                                                                                       \r"
     ]
    },
    {
     "name": "stdout",
     "output_type": "stream",
     "text": [
      "Moviepy - Done !\n",
      "Moviepy - video ready C:\\Users\\valer\\Desktop\\mmp_courses\\ml\\sem. 6\\tasks\\4.OCRL\\videos\\rl-video-episode-94.mp4\n",
      "Moviepy - Building video C:\\Users\\valer\\Desktop\\mmp_courses\\ml\\sem. 6\\tasks\\4.OCRL\\videos\\rl-video-episode-95.mp4.\n",
      "Moviepy - Writing video C:\\Users\\valer\\Desktop\\mmp_courses\\ml\\sem. 6\\tasks\\4.OCRL\\videos\\rl-video-episode-95.mp4\n",
      "\n"
     ]
    },
    {
     "name": "stderr",
     "output_type": "stream",
     "text": [
      "                                                                                                                       \r"
     ]
    },
    {
     "name": "stdout",
     "output_type": "stream",
     "text": [
      "Moviepy - Done !\n",
      "Moviepy - video ready C:\\Users\\valer\\Desktop\\mmp_courses\\ml\\sem. 6\\tasks\\4.OCRL\\videos\\rl-video-episode-95.mp4\n",
      "Moviepy - Building video C:\\Users\\valer\\Desktop\\mmp_courses\\ml\\sem. 6\\tasks\\4.OCRL\\videos\\rl-video-episode-96.mp4.\n",
      "Moviepy - Writing video C:\\Users\\valer\\Desktop\\mmp_courses\\ml\\sem. 6\\tasks\\4.OCRL\\videos\\rl-video-episode-96.mp4\n",
      "\n"
     ]
    },
    {
     "name": "stderr",
     "output_type": "stream",
     "text": [
      "                                                                                                                       \r"
     ]
    },
    {
     "name": "stdout",
     "output_type": "stream",
     "text": [
      "Moviepy - Done !\n",
      "Moviepy - video ready C:\\Users\\valer\\Desktop\\mmp_courses\\ml\\sem. 6\\tasks\\4.OCRL\\videos\\rl-video-episode-96.mp4\n",
      "Moviepy - Building video C:\\Users\\valer\\Desktop\\mmp_courses\\ml\\sem. 6\\tasks\\4.OCRL\\videos\\rl-video-episode-97.mp4.\n",
      "Moviepy - Writing video C:\\Users\\valer\\Desktop\\mmp_courses\\ml\\sem. 6\\tasks\\4.OCRL\\videos\\rl-video-episode-97.mp4\n",
      "\n"
     ]
    },
    {
     "name": "stderr",
     "output_type": "stream",
     "text": [
      "                                                                                                                       \r"
     ]
    },
    {
     "name": "stdout",
     "output_type": "stream",
     "text": [
      "Moviepy - Done !\n",
      "Moviepy - video ready C:\\Users\\valer\\Desktop\\mmp_courses\\ml\\sem. 6\\tasks\\4.OCRL\\videos\\rl-video-episode-97.mp4\n",
      "Moviepy - Building video C:\\Users\\valer\\Desktop\\mmp_courses\\ml\\sem. 6\\tasks\\4.OCRL\\videos\\rl-video-episode-98.mp4.\n",
      "Moviepy - Writing video C:\\Users\\valer\\Desktop\\mmp_courses\\ml\\sem. 6\\tasks\\4.OCRL\\videos\\rl-video-episode-98.mp4\n",
      "\n"
     ]
    },
    {
     "name": "stderr",
     "output_type": "stream",
     "text": [
      "                                                                                                                       \r"
     ]
    },
    {
     "name": "stdout",
     "output_type": "stream",
     "text": [
      "Moviepy - Done !\n",
      "Moviepy - video ready C:\\Users\\valer\\Desktop\\mmp_courses\\ml\\sem. 6\\tasks\\4.OCRL\\videos\\rl-video-episode-98.mp4\n",
      "Moviepy - Building video C:\\Users\\valer\\Desktop\\mmp_courses\\ml\\sem. 6\\tasks\\4.OCRL\\videos\\rl-video-episode-99.mp4.\n",
      "Moviepy - Writing video C:\\Users\\valer\\Desktop\\mmp_courses\\ml\\sem. 6\\tasks\\4.OCRL\\videos\\rl-video-episode-99.mp4\n",
      "\n"
     ]
    },
    {
     "name": "stderr",
     "output_type": "stream",
     "text": [
      "                                                                                                                       \r"
     ]
    },
    {
     "name": "stdout",
     "output_type": "stream",
     "text": [
      "Moviepy - Done !\n",
      "Moviepy - video ready C:\\Users\\valer\\Desktop\\mmp_courses\\ml\\sem. 6\\tasks\\4.OCRL\\videos\\rl-video-episode-99.mp4\n"
     ]
    }
   ],
   "source": [
    "from gymnasium.wrappers import RecordVideo\n",
    "\n",
    "with RecordVideo(\n",
    "    env=gym.make(\"CartPole-v0\", render_mode=\"rgb_array\"),\n",
    "    video_folder=\"./videos\",\n",
    "    episode_trigger=lambda episode_number: True,\n",
    ") as env_monitor:\n",
    "    sessions = [generate_session(env_monitor, actor) for _ in range(100)]"
   ]
  }
 ],
 "metadata": {
  "colab": {
   "provenance": []
  },
  "kernelspec": {
   "display_name": "Python 3 (ipykernel)",
   "language": "python",
   "name": "python3"
  },
  "language_info": {
   "codemirror_mode": {
    "name": "ipython",
    "version": 3
   },
   "file_extension": ".py",
   "mimetype": "text/x-python",
   "name": "python",
   "nbconvert_exporter": "python",
   "pygments_lexer": "ipython3",
   "version": "3.9.7"
  }
 },
 "nbformat": 4,
 "nbformat_minor": 4
}
